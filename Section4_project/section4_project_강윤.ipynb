{
  "nbformat": 4,
  "nbformat_minor": 0,
  "metadata": {
    "colab": {
      "name": "section2_project_강윤.ipynb",
      "provenance": [],
      "collapsed_sections": [],
      "toc_visible": true,
      "machine_shape": "hm"
    },
    "kernelspec": {
      "name": "python3",
      "display_name": "Python 3"
    },
    "accelerator": "GPU"
  },
  "cells": [
    {
      "cell_type": "markdown",
      "metadata": {
        "id": "ADWLhGRzVfaz"
      },
      "source": [
        "#Section 4 project\n",
        "##딥러닝을 이용한 영화 추천 알고리즘"
      ]
    },
    {
      "cell_type": "markdown",
      "metadata": {
        "id": "iET8qfrRV2sj"
      },
      "source": [
        "##주제 선택 배경  \n",
        "- 요즘 넷플릭스를 필두로 OTT 시장이 급격하게 성장함에 따라, 많은 컨텐츠 소유기업(디즈니, 워너브라더스 등)들도 자체적인 OTT서비스를 내놓기 시작했다. 각각의 서비스는 대중이 서비스를 계속 구독하도록 하기 위해 유저인터페이스에 적용되는 다양한 추천알고리즘을 운용하고 있다.\n",
        "- 고전영화부터 신작영화까지 다양한 영화들이 스트리밍 시스템에 업데이트 되고 있으며, 사용자들에게 추천알고리즘을 띄우기 전 해당 영화가 추천 할만한 수준의 완성도를 가지고 있는 지를 예측하는 시스템을 만들 것이다.\n",
        "- 스트리밍 이용자가 추천영화를 봤을 때, 느끼는 만족도가 더 커질 수록 추천알고리즘을 이용하는 경우가 더 많아질 것이며, 이는 서비스의 이용률 증가로 이어질 것이다. \n"
      ]
    },
    {
      "cell_type": "code",
      "metadata": {
        "colab": {
          "base_uri": "https://localhost:8080/"
        },
        "id": "k9OBfKUjQ_FD",
        "outputId": "26675429-4859-4d84-8eb7-322494d51d64"
      },
      "source": [
        "from google.colab import drive\n",
        "drive.mount('/content/drive')"
      ],
      "execution_count": null,
      "outputs": [
        {
          "output_type": "stream",
          "text": [
            "Mounted at /content/drive\n"
          ],
          "name": "stdout"
        }
      ]
    },
    {
      "cell_type": "code",
      "metadata": {
        "id": "26jeJnSBRTY5"
      },
      "source": [
        "import pandas as pd\n",
        "import numpy as np\n",
        "import matplotlib.pyplot as plt\n",
        "import seaborn as sns"
      ],
      "execution_count": null,
      "outputs": []
    },
    {
      "cell_type": "markdown",
      "metadata": {
        "id": "9sByFVZreMh-"
      },
      "source": [
        "## 데이터 선정  \n",
        "kaggle에 올라온 IMDB(미국 영화 데이터베이스) 자료를 다운"
      ]
    },
    {
      "cell_type": "code",
      "metadata": {
        "colab": {
          "base_uri": "https://localhost:8080/"
        },
        "id": "ooTJoqhzRKIl",
        "outputId": "0330b280-d7b6-41da-bbc2-bf846063af75"
      },
      "source": [
        "df_movies = pd.read_csv('/content/drive/My Drive/Code/IMDb movies.csv')\n",
        "df_ratings = pd.read_csv('/content/drive/My Drive/Code/IMDb ratings.csv')"
      ],
      "execution_count": null,
      "outputs": [
        {
          "output_type": "stream",
          "text": [
            "/usr/local/lib/python3.7/dist-packages/IPython/core/interactiveshell.py:2718: DtypeWarning: Columns (3) have mixed types.Specify dtype option on import or set low_memory=False.\n",
            "  interactivity=interactivity, compiler=compiler, result=result)\n"
          ],
          "name": "stderr"
        }
      ]
    },
    {
      "cell_type": "code",
      "metadata": {
        "id": "5DX1ydoUscxN"
      },
      "source": [
        "df_ratings = df_ratings[['imdb_title_id','males_18age_avg_vote','males_30age_avg_vote','females_18age_avg_vote','females_30age_avg_vote']]"
      ],
      "execution_count": null,
      "outputs": []
    },
    {
      "cell_type": "code",
      "metadata": {
        "colab": {
          "base_uri": "https://localhost:8080/"
        },
        "id": "TY8HY-cG1fqD",
        "outputId": "5f2cf609-21e6-4559-c497-6a1b4de91ed9"
      },
      "source": [
        "df_movies.shape"
      ],
      "execution_count": null,
      "outputs": [
        {
          "output_type": "execute_result",
          "data": {
            "text/plain": [
              "(85855, 22)"
            ]
          },
          "metadata": {
            "tags": []
          },
          "execution_count": 6
        }
      ]
    },
    {
      "cell_type": "code",
      "metadata": {
        "id": "agkLF11v1c0Z"
      },
      "source": [
        "df_movies = df_movies.merge(df_ratings,on='imdb_title_id')"
      ],
      "execution_count": null,
      "outputs": []
    },
    {
      "cell_type": "code",
      "metadata": {
        "colab": {
          "base_uri": "https://localhost:8080/"
        },
        "id": "QwWyuTL9XRiy",
        "outputId": "3711f9a1-5603-4bcb-a1d9-cc7e41ccc1a1"
      },
      "source": [
        "df_movies.columns"
      ],
      "execution_count": null,
      "outputs": [
        {
          "output_type": "execute_result",
          "data": {
            "text/plain": [
              "Index(['imdb_title_id', 'title', 'original_title', 'year', 'date_published',\n",
              "       'genre', 'duration', 'country', 'language', 'director', 'writer',\n",
              "       'production_company', 'actors', 'description', 'avg_vote', 'votes',\n",
              "       'budget', 'usa_gross_income', 'worlwide_gross_income', 'metascore',\n",
              "       'reviews_from_users', 'reviews_from_critics', 'males_18age_avg_vote',\n",
              "       'males_30age_avg_vote', 'females_18age_avg_vote',\n",
              "       'females_30age_avg_vote'],\n",
              "      dtype='object')"
            ]
          },
          "metadata": {
            "tags": []
          },
          "execution_count": 8
        }
      ]
    },
    {
      "cell_type": "code",
      "metadata": {
        "colab": {
          "base_uri": "https://localhost:8080/"
        },
        "id": "PVG5pd8m1hk4",
        "outputId": "0302ce3d-7d39-4c89-b347-bbefd51dffc3"
      },
      "source": [
        "df_movies.shape"
      ],
      "execution_count": null,
      "outputs": [
        {
          "output_type": "execute_result",
          "data": {
            "text/plain": [
              "(85855, 26)"
            ]
          },
          "metadata": {
            "tags": []
          },
          "execution_count": 9
        }
      ]
    },
    {
      "cell_type": "code",
      "metadata": {
        "colab": {
          "base_uri": "https://localhost:8080/",
          "height": 649
        },
        "id": "btcznZYnRiwn",
        "outputId": "123c4521-d85c-4730-fe5a-8941bc0aa585"
      },
      "source": [
        "df_movies.head()"
      ],
      "execution_count": null,
      "outputs": [
        {
          "output_type": "execute_result",
          "data": {
            "text/html": [
              "<div>\n",
              "<style scoped>\n",
              "    .dataframe tbody tr th:only-of-type {\n",
              "        vertical-align: middle;\n",
              "    }\n",
              "\n",
              "    .dataframe tbody tr th {\n",
              "        vertical-align: top;\n",
              "    }\n",
              "\n",
              "    .dataframe thead th {\n",
              "        text-align: right;\n",
              "    }\n",
              "</style>\n",
              "<table border=\"1\" class=\"dataframe\">\n",
              "  <thead>\n",
              "    <tr style=\"text-align: right;\">\n",
              "      <th></th>\n",
              "      <th>imdb_title_id</th>\n",
              "      <th>title</th>\n",
              "      <th>original_title</th>\n",
              "      <th>year</th>\n",
              "      <th>date_published</th>\n",
              "      <th>genre</th>\n",
              "      <th>duration</th>\n",
              "      <th>country</th>\n",
              "      <th>language</th>\n",
              "      <th>director</th>\n",
              "      <th>writer</th>\n",
              "      <th>production_company</th>\n",
              "      <th>actors</th>\n",
              "      <th>description</th>\n",
              "      <th>avg_vote</th>\n",
              "      <th>votes</th>\n",
              "      <th>budget</th>\n",
              "      <th>usa_gross_income</th>\n",
              "      <th>worlwide_gross_income</th>\n",
              "      <th>metascore</th>\n",
              "      <th>reviews_from_users</th>\n",
              "      <th>reviews_from_critics</th>\n",
              "      <th>males_18age_avg_vote</th>\n",
              "      <th>males_30age_avg_vote</th>\n",
              "      <th>females_18age_avg_vote</th>\n",
              "      <th>females_30age_avg_vote</th>\n",
              "    </tr>\n",
              "  </thead>\n",
              "  <tbody>\n",
              "    <tr>\n",
              "      <th>0</th>\n",
              "      <td>tt0000009</td>\n",
              "      <td>Miss Jerry</td>\n",
              "      <td>Miss Jerry</td>\n",
              "      <td>1894</td>\n",
              "      <td>1894-10-09</td>\n",
              "      <td>Romance</td>\n",
              "      <td>45</td>\n",
              "      <td>USA</td>\n",
              "      <td>None</td>\n",
              "      <td>Alexander Black</td>\n",
              "      <td>Alexander Black</td>\n",
              "      <td>Alexander Black Photoplays</td>\n",
              "      <td>Blanche Bayliss, William Courtenay, Chauncey D...</td>\n",
              "      <td>The adventures of a female reporter in the 1890s.</td>\n",
              "      <td>5.9</td>\n",
              "      <td>154</td>\n",
              "      <td>NaN</td>\n",
              "      <td>NaN</td>\n",
              "      <td>NaN</td>\n",
              "      <td>NaN</td>\n",
              "      <td>1.0</td>\n",
              "      <td>2.0</td>\n",
              "      <td>5.9</td>\n",
              "      <td>5.6</td>\n",
              "      <td>5.9</td>\n",
              "      <td>5.7</td>\n",
              "    </tr>\n",
              "    <tr>\n",
              "      <th>1</th>\n",
              "      <td>tt0000574</td>\n",
              "      <td>The Story of the Kelly Gang</td>\n",
              "      <td>The Story of the Kelly Gang</td>\n",
              "      <td>1906</td>\n",
              "      <td>1906-12-26</td>\n",
              "      <td>Biography, Crime, Drama</td>\n",
              "      <td>70</td>\n",
              "      <td>Australia</td>\n",
              "      <td>None</td>\n",
              "      <td>Charles Tait</td>\n",
              "      <td>Charles Tait</td>\n",
              "      <td>J. and N. Tait</td>\n",
              "      <td>Elizabeth Tait, John Tait, Norman Campbell, Be...</td>\n",
              "      <td>True story of notorious Australian outlaw Ned ...</td>\n",
              "      <td>6.1</td>\n",
              "      <td>589</td>\n",
              "      <td>$ 2250</td>\n",
              "      <td>NaN</td>\n",
              "      <td>NaN</td>\n",
              "      <td>NaN</td>\n",
              "      <td>7.0</td>\n",
              "      <td>7.0</td>\n",
              "      <td>6.2</td>\n",
              "      <td>6.0</td>\n",
              "      <td>5.9</td>\n",
              "      <td>6.2</td>\n",
              "    </tr>\n",
              "    <tr>\n",
              "      <th>2</th>\n",
              "      <td>tt0001892</td>\n",
              "      <td>Den sorte drøm</td>\n",
              "      <td>Den sorte drøm</td>\n",
              "      <td>1911</td>\n",
              "      <td>1911-08-19</td>\n",
              "      <td>Drama</td>\n",
              "      <td>53</td>\n",
              "      <td>Germany, Denmark</td>\n",
              "      <td>NaN</td>\n",
              "      <td>Urban Gad</td>\n",
              "      <td>Urban Gad, Gebhard Schätzler-Perasini</td>\n",
              "      <td>Fotorama</td>\n",
              "      <td>Asta Nielsen, Valdemar Psilander, Gunnar Helse...</td>\n",
              "      <td>Two men of high rank are both wooing the beaut...</td>\n",
              "      <td>5.8</td>\n",
              "      <td>188</td>\n",
              "      <td>NaN</td>\n",
              "      <td>NaN</td>\n",
              "      <td>NaN</td>\n",
              "      <td>NaN</td>\n",
              "      <td>5.0</td>\n",
              "      <td>2.0</td>\n",
              "      <td>5.5</td>\n",
              "      <td>5.9</td>\n",
              "      <td>5.8</td>\n",
              "      <td>5.8</td>\n",
              "    </tr>\n",
              "    <tr>\n",
              "      <th>3</th>\n",
              "      <td>tt0002101</td>\n",
              "      <td>Cleopatra</td>\n",
              "      <td>Cleopatra</td>\n",
              "      <td>1912</td>\n",
              "      <td>1912-11-13</td>\n",
              "      <td>Drama, History</td>\n",
              "      <td>100</td>\n",
              "      <td>USA</td>\n",
              "      <td>English</td>\n",
              "      <td>Charles L. Gaskill</td>\n",
              "      <td>Victorien Sardou</td>\n",
              "      <td>Helen Gardner Picture Players</td>\n",
              "      <td>Helen Gardner, Pearl Sindelar, Miss Fielding, ...</td>\n",
              "      <td>The fabled queen of Egypt's affair with Roman ...</td>\n",
              "      <td>5.2</td>\n",
              "      <td>446</td>\n",
              "      <td>$ 45000</td>\n",
              "      <td>NaN</td>\n",
              "      <td>NaN</td>\n",
              "      <td>NaN</td>\n",
              "      <td>25.0</td>\n",
              "      <td>3.0</td>\n",
              "      <td>5.2</td>\n",
              "      <td>4.9</td>\n",
              "      <td>5.7</td>\n",
              "      <td>5.5</td>\n",
              "    </tr>\n",
              "    <tr>\n",
              "      <th>4</th>\n",
              "      <td>tt0002130</td>\n",
              "      <td>L'Inferno</td>\n",
              "      <td>L'Inferno</td>\n",
              "      <td>1911</td>\n",
              "      <td>1911-03-06</td>\n",
              "      <td>Adventure, Drama, Fantasy</td>\n",
              "      <td>68</td>\n",
              "      <td>Italy</td>\n",
              "      <td>Italian</td>\n",
              "      <td>Francesco Bertolini, Adolfo Padovan</td>\n",
              "      <td>Dante Alighieri</td>\n",
              "      <td>Milano Film</td>\n",
              "      <td>Salvatore Papa, Arturo Pirovano, Giuseppe de L...</td>\n",
              "      <td>Loosely adapted from Dante's Divine Comedy and...</td>\n",
              "      <td>7.0</td>\n",
              "      <td>2237</td>\n",
              "      <td>NaN</td>\n",
              "      <td>NaN</td>\n",
              "      <td>NaN</td>\n",
              "      <td>NaN</td>\n",
              "      <td>31.0</td>\n",
              "      <td>14.0</td>\n",
              "      <td>7.0</td>\n",
              "      <td>7.0</td>\n",
              "      <td>7.0</td>\n",
              "      <td>7.3</td>\n",
              "    </tr>\n",
              "  </tbody>\n",
              "</table>\n",
              "</div>"
            ],
            "text/plain": [
              "  imdb_title_id  ... females_30age_avg_vote\n",
              "0     tt0000009  ...                    5.7\n",
              "1     tt0000574  ...                    6.2\n",
              "2     tt0001892  ...                    5.8\n",
              "3     tt0002101  ...                    5.5\n",
              "4     tt0002130  ...                    7.3\n",
              "\n",
              "[5 rows x 26 columns]"
            ]
          },
          "metadata": {
            "tags": []
          },
          "execution_count": 10
        }
      ]
    },
    {
      "cell_type": "code",
      "metadata": {
        "colab": {
          "base_uri": "https://localhost:8080/"
        },
        "id": "Ka7ipJVFiDNv",
        "outputId": "aab1821b-9787-4c12-b354-34b87744209d"
      },
      "source": [
        "df_movies.shape"
      ],
      "execution_count": null,
      "outputs": [
        {
          "output_type": "execute_result",
          "data": {
            "text/plain": [
              "(85855, 26)"
            ]
          },
          "metadata": {
            "tags": []
          },
          "execution_count": 11
        }
      ]
    },
    {
      "cell_type": "markdown",
      "metadata": {
        "id": "IwbBJCJd29u0"
      },
      "source": [
        "## 문제 정의"
      ]
    },
    {
      "cell_type": "markdown",
      "metadata": {
        "id": "glhXZmsQemt2"
      },
      "source": [
        "해당 dataset에서 관람자의 만족도를 가장 잘 반영하는 feature는 avg_vote(평균 평점 1~10)일 것이다. 분포를 살펴보면,"
      ]
    },
    {
      "cell_type": "code",
      "metadata": {
        "colab": {
          "base_uri": "https://localhost:8080/",
          "height": 279
        },
        "id": "ZzGdkbnRiCe_",
        "outputId": "aa32d718-3b5d-4304-f5aa-6e9cf924aea2"
      },
      "source": [
        "sns.histplot(data=df_movies.avg_vote)\n",
        "plt.xlabel('Movie rating')\n",
        "plt.xticks(np.arange(0, 10, step=0.5));"
      ],
      "execution_count": null,
      "outputs": [
        {
          "output_type": "display_data",
          "data": {
            "image/png": "[encoded data removed]",
            "text/plain": [
              "<Figure size 432x288 with 1 Axes>"
            ]
          },
          "metadata": {
            "tags": [],
            "needs_background": "light"
          }
        }
      ]
    },
    {
      "cell_type": "markdown",
      "metadata": {
        "id": "lLcDT9KwjwX3"
      },
      "source": [
        "rating 6.0점을 의 벽을 기준으로 그저그런 영화와 잘 만든영화가 구분되는 것을 관찰 할 수 있다. 따라서 입력되는 영화의 정보들을 모델에 학습시켜, 6.0점이 넘을 것으로 예상된다면 True(추천), 그렇지 않다면 False(비추천)으로 분류하는 classification 알고리즘을 만들어보자.  \n",
        "(baseline 모델은 모델링 파트 직전에 만들 예정) "
      ]
    },
    {
      "cell_type": "markdown",
      "metadata": {
        "id": "BpXCudhO11AT"
      },
      "source": [
        "## EDA & Feature Engineering"
      ]
    },
    {
      "cell_type": "code",
      "metadata": {
        "colab": {
          "base_uri": "https://localhost:8080/"
        },
        "id": "lcq78qM71RBu",
        "outputId": "e61bb9cd-215d-45a2-cffe-7eaa60c859d0"
      },
      "source": [
        "df_movies.info()"
      ],
      "execution_count": null,
      "outputs": [
        {
          "output_type": "stream",
          "text": [
            "<class 'pandas.core.frame.DataFrame'>\n",
            "Int64Index: 85855 entries, 0 to 85854\n",
            "Data columns (total 26 columns):\n",
            " #   Column                  Non-Null Count  Dtype  \n",
            "---  ------                  --------------  -----  \n",
            " 0   imdb_title_id           85855 non-null  object \n",
            " 1   title                   85855 non-null  object \n",
            " 2   original_title          85855 non-null  object \n",
            " 3   year                    85855 non-null  object \n",
            " 4   date_published          85855 non-null  object \n",
            " 5   genre                   85855 non-null  object \n",
            " 6   duration                85855 non-null  int64  \n",
            " 7   country                 85791 non-null  object \n",
            " 8   language                85022 non-null  object \n",
            " 9   director                85768 non-null  object \n",
            " 10  writer                  84283 non-null  object \n",
            " 11  production_company      81400 non-null  object \n",
            " 12  actors                  85786 non-null  object \n",
            " 13  description             83740 non-null  object \n",
            " 14  avg_vote                85855 non-null  float64\n",
            " 15  votes                   85855 non-null  int64  \n",
            " 16  budget                  23710 non-null  object \n",
            " 17  usa_gross_income        15326 non-null  object \n",
            " 18  worlwide_gross_income   31016 non-null  object \n",
            " 19  metascore               13305 non-null  float64\n",
            " 20  reviews_from_users      78258 non-null  float64\n",
            " 21  reviews_from_critics    74058 non-null  float64\n",
            " 22  males_18age_avg_vote    84390 non-null  float64\n",
            " 23  males_30age_avg_vote    85843 non-null  float64\n",
            " 24  females_18age_avg_vote  79334 non-null  float64\n",
            " 25  females_30age_avg_vote  84911 non-null  float64\n",
            "dtypes: float64(8), int64(2), object(16)\n",
            "memory usage: 17.7+ MB\n"
          ],
          "name": "stdout"
        }
      ]
    },
    {
      "cell_type": "markdown",
      "metadata": {
        "id": "8qIN8_fW1SkT"
      },
      "source": [
        "먼저 결측치가 과다하게 많은 budget, usa_gross_income, worlwide_gross_income, metascore는 feature에서 제거한다."
      ]
    },
    {
      "cell_type": "markdown",
      "metadata": {
        "id": "XVUi7e3E1cjw"
      },
      "source": [
        "추가적으로 모델 training에서 제거할 feature들은 다음과 같다.\n",
        "- votes(평점 득표 수)의 경우 대중성을 반영하는 좋은 척도가 될 수 있지만, leakage issue를 유발할 수 있으므로 삭제한다. \n",
        "- title, original_title은 고유값이므로 제외한다.\n",
        "- date_published정보는 year로 대체 가능\n",
        "- language는 country로 대체 가능\n",
        "- 이 모델에서는 평점(Rating)만 활용할 것이므로, review 정보는 제외한다(reviews_from_critics)\n"
      ]
    },
    {
      "cell_type": "code",
      "metadata": {
        "id": "vmSvTX49qeAO"
      },
      "source": [
        "df_movies = df_movies.drop(columns = ['budget','usa_gross_income','worlwide_gross_income','metascore',\n",
        "                                      'reviews_from_critics','title','original_title','date_published','language'])"
      ],
      "execution_count": null,
      "outputs": []
    },
    {
      "cell_type": "markdown",
      "metadata": {
        "id": "EPwsAceTnqUc"
      },
      "source": [
        "데이터의 feature를 더 자세히 살펴보며 전처리를 진행해보자"
      ]
    },
    {
      "cell_type": "code",
      "metadata": {
        "colab": {
          "base_uri": "https://localhost:8080/"
        },
        "id": "ha8p3owgnyVf",
        "outputId": "77e00773-e9f0-4d32-f6bd-6479e80c2d73"
      },
      "source": [
        "df_movies['year'].unique()"
      ],
      "execution_count": null,
      "outputs": [
        {
          "output_type": "execute_result",
          "data": {
            "text/plain": [
              "array([1894, 1906, 1911, 1912, 1919, 1913, 1914, 1915, 1916, 1917, 1918,\n",
              "       1920, 1921, 1924, 1922, 1923, 1925, 1926, 1935, 1927, 1928, 1983,\n",
              "       1929, 1930, 1932, 1931, 1937, 1938, 1933, 1934, 1936, 1940, 1939,\n",
              "       1942, 1943, 1941, 1948, 1944, 2001, 1946, 1945, 1947, 1973, 1949,\n",
              "       1950, 1952, 1951, 1962, 1953, 1954, 1955, 1961, 1956, 1958, 1957,\n",
              "       1959, 1960, 1963, 1965, 1971, 1964, 1966, 1968, 1967, 1969, 1976,\n",
              "       1970, 1979, 1972, 1981, 1978, 2000, 1989, 1975, 1974, 1986, 1990,\n",
              "       2018, 1977, 1982, 1980, 1993, 1984, 1985, 1988, 1987, 2005, 1991,\n",
              "       2002, 1994, 1992, 1995, 2017, 1997, 1996, 2006, 1999, 1998, 2007,\n",
              "       2008, 2003, 2004, 2010, 2009, 2011, 2013, 2012, 2016, 2015, 2014,\n",
              "       2019, 2020, '2012', '2015', '2009', '2013', '2018', '2014', '2017',\n",
              "       '2011', '2016', '1981', '1975', '2010', '1984', '2007', '2006',\n",
              "       '2001', '2004', '1979', '2019', '1967', '1978', '2003', '2005',\n",
              "       '1969', '1990', '1983', '2002', '1996', '2008', '1995', '1999',\n",
              "       '1974', '1993', '1998', '1989', '2020', '1966', '1956', '1962',\n",
              "       '1985', '2000', '1971', '1970', '1986', '1930', '1976', '1982',\n",
              "       '1992', '1963', '1994', '1964', '1997', '1987', '1980',\n",
              "       'TV Movie 2019', '1988'], dtype=object)"
            ]
          },
          "metadata": {
            "tags": []
          },
          "execution_count": 15
        }
      ]
    },
    {
      "cell_type": "markdown",
      "metadata": {
        "id": "9qBznkFkn6mF"
      },
      "source": [
        "'TV movie 2019' 라는 특이 data가 보인다. 2019로 바꿔주자"
      ]
    },
    {
      "cell_type": "code",
      "metadata": {
        "id": "bYo4l6SWnBRT"
      },
      "source": [
        "df_movies['year'] = df_movies['year'].replace('TV Movie 2019',2019)"
      ],
      "execution_count": null,
      "outputs": []
    },
    {
      "cell_type": "code",
      "metadata": {
        "id": "C69Ij5FIm2qP"
      },
      "source": [
        "# 'year' column을 object 에서 numeric으로 변경\n",
        "df_movies['year'] = pd.to_numeric(df_movies['year'])"
      ],
      "execution_count": null,
      "outputs": []
    },
    {
      "cell_type": "code",
      "metadata": {
        "colab": {
          "base_uri": "https://localhost:8080/",
          "height": 266
        },
        "id": "oVPQ5JRcoabn",
        "outputId": "ab76c31f-c14a-4473-cfce-60dbbcd1e637"
      },
      "source": [
        "plt.hist(df_movies['year']);"
      ],
      "execution_count": null,
      "outputs": [
        {
          "output_type": "display_data",
          "data": {
            "image/png": "[encoded data removed]",
            "text/plain": [
              "<Figure size 432x288 with 1 Axes>"
            ]
          },
          "metadata": {
            "tags": [],
            "needs_background": "light"
          }
        }
      ]
    },
    {
      "cell_type": "markdown",
      "metadata": {
        "id": "VWc-C34eq5OX"
      },
      "source": [
        "최신 트렌드 반영을 위하여, 1990년대 이후의 영화만 집계하도록 한다.  \n",
        "###**이번 프로젝트의 경우 데이터 처리시간이 매우 오래 걸려 2017년 이후 영화로 한정한다."
      ]
    },
    {
      "cell_type": "code",
      "metadata": {
        "id": "w5X_xRJYrRkv"
      },
      "source": [
        "#year 1990 이상만 다시 저장\n",
        "df_movies = df_movies[(df_movies.year >= 2017)]"
      ],
      "execution_count": null,
      "outputs": []
    },
    {
      "cell_type": "code",
      "metadata": {
        "id": "kLr0-Zex8sid"
      },
      "source": [
        "df_movies = df_movies.dropna(subset=['director','writer','actors','country','production_company','reviews_from_users','description'])"
      ],
      "execution_count": null,
      "outputs": []
    },
    {
      "cell_type": "markdown",
      "metadata": {
        "id": "ThkufWn632aM"
      },
      "source": [
        "폐쇄적인 취향을 가지고 있는 india 영화도 모델의 성능을 위해서 제거한다."
      ]
    },
    {
      "cell_type": "code",
      "metadata": {
        "id": "2cU_7tS07mPa"
      },
      "source": [
        "df_movies = df_movies[~df_movies.country.str.contains(\"India\")]\n",
        "#df_movies = df_movies[~df_movies.country.str.contains(\"China\")]"
      ],
      "execution_count": null,
      "outputs": []
    },
    {
      "cell_type": "code",
      "metadata": {
        "colab": {
          "base_uri": "https://localhost:8080/"
        },
        "id": "WPrB3Ut_rXhm",
        "outputId": "af497981-1c3a-49bb-f401-6d020af02124"
      },
      "source": [
        "df_movies.shape"
      ],
      "execution_count": null,
      "outputs": [
        {
          "output_type": "execute_result",
          "data": {
            "text/plain": [
              "(7115, 17)"
            ]
          },
          "metadata": {
            "tags": []
          },
          "execution_count": 22
        }
      ]
    },
    {
      "cell_type": "markdown",
      "metadata": {
        "id": "Zh9tjecT5E1B"
      },
      "source": [
        "Duration(상영시간의 경우), 영화가 너무 길면, 거부감을 발생시킬 수 있으므로, 99.8 percentile로 극단치를 제거하도록 한다. "
      ]
    },
    {
      "cell_type": "code",
      "metadata": {
        "colab": {
          "base_uri": "https://localhost:8080/"
        },
        "id": "FyKMun_WTE6F",
        "outputId": "97488863-f5b1-4ac7-c910-552f35993d70"
      },
      "source": [
        "df_movies.duration.describe()"
      ],
      "execution_count": null,
      "outputs": [
        {
          "output_type": "execute_result",
          "data": {
            "text/plain": [
              "count    7115.000000\n",
              "mean       99.521855\n",
              "std        17.004916\n",
              "min        44.000000\n",
              "25%        89.000000\n",
              "50%        97.000000\n",
              "75%       108.000000\n",
              "max       354.000000\n",
              "Name: duration, dtype: float64"
            ]
          },
          "metadata": {
            "tags": []
          },
          "execution_count": 23
        }
      ]
    },
    {
      "cell_type": "code",
      "metadata": {
        "id": "xQ_ExBOR3UcM"
      },
      "source": [
        "temp1 = np.percentile(df_movies.duration,99.8)\n",
        "temp2 = np.percentile(df_movies.duration,0.02)"
      ],
      "execution_count": null,
      "outputs": []
    },
    {
      "cell_type": "code",
      "metadata": {
        "id": "WaS1NoJX2ggV"
      },
      "source": [
        "df_movies = df_movies[(df_movies.duration <= temp1) & (df_movies.duration >= temp2)]"
      ],
      "execution_count": null,
      "outputs": []
    },
    {
      "cell_type": "code",
      "metadata": {
        "colab": {
          "base_uri": "https://localhost:8080/"
        },
        "id": "Ez7MMLV9uwfu",
        "outputId": "1ae2e51f-14c0-440e-e269-f18a5bf96364"
      },
      "source": [
        "df_movies.nunique()"
      ],
      "execution_count": null,
      "outputs": [
        {
          "output_type": "execute_result",
          "data": {
            "text/plain": [
              "imdb_title_id             7098\n",
              "year                         4\n",
              "genre                      411\n",
              "duration                   124\n",
              "country                    975\n",
              "director                  6175\n",
              "writer                    6735\n",
              "production_company        4952\n",
              "actors                    7097\n",
              "description               7093\n",
              "avg_vote                    83\n",
              "votes                     3122\n",
              "reviews_from_users         595\n",
              "males_18age_avg_vote        90\n",
              "males_30age_avg_vote        80\n",
              "females_18age_avg_vote      91\n",
              "females_30age_avg_vote      91\n",
              "dtype: int64"
            ]
          },
          "metadata": {
            "tags": []
          },
          "execution_count": 26
        }
      ]
    },
    {
      "cell_type": "markdown",
      "metadata": {
        "id": "8aVKl2J5skYH"
      },
      "source": [
        "남은 feature들의 경우 대부분 고유명사(이름, 명칭) 이므로 매우 큰 cardinality를 가지고 있다. feature 별로 cardinality를 줄일 수 있는 방법을 가정해보고 적용해보자"
      ]
    },
    {
      "cell_type": "code",
      "metadata": {
        "colab": {
          "base_uri": "https://localhost:8080/"
        },
        "id": "ynApJDuTe7gs",
        "outputId": "1113f5cd-ec5b-4586-f1a1-fc76d921856d"
      },
      "source": [
        "df_movies.genre"
      ],
      "execution_count": null,
      "outputs": [
        {
          "output_type": "execute_result",
          "data": {
            "text/plain": [
              "15675                           Drama\n",
              "32465    Animation, Adventure, Comedy\n",
              "42166                   Comedy, Drama\n",
              "42695                          Horror\n",
              "43366         Drama, Sci-Fi, Thriller\n",
              "                     ...             \n",
              "85838    Animation, Adventure, Family\n",
              "85839                  Action, Comedy\n",
              "85842     Animation, Adventure, Crime\n",
              "85846                             War\n",
              "85851                   Comedy, Drama\n",
              "Name: genre, Length: 7098, dtype: object"
            ]
          },
          "metadata": {
            "tags": []
          },
          "execution_count": 27
        }
      ]
    },
    {
      "cell_type": "markdown",
      "metadata": {
        "id": "hIMgL2vye3nm"
      },
      "source": [
        "Genre의 경우 ', ' 를 나눠서 cadinality를 다시 계산 가능하다"
      ]
    },
    {
      "cell_type": "code",
      "metadata": {
        "id": "LXAs-4jRjA--"
      },
      "source": [
        "genres = []\n",
        "for i in df_movies.genre:\n",
        "  temp = i.split(', ')\n",
        "  for j in temp:\n",
        "    if j in genres:\n",
        "      continue\n",
        "    else:\n",
        "      genres.append(j)"
      ],
      "execution_count": null,
      "outputs": []
    },
    {
      "cell_type": "code",
      "metadata": {
        "colab": {
          "base_uri": "https://localhost:8080/"
        },
        "id": "i6VytCnFjtFM",
        "outputId": "b3151161-442d-4fcb-c461-8866213d6cc7"
      },
      "source": [
        "#Genre의 실제 cardinality\n",
        "genres"
      ],
      "execution_count": null,
      "outputs": [
        {
          "output_type": "execute_result",
          "data": {
            "text/plain": [
              "['Drama',\n",
              " 'Animation',\n",
              " 'Adventure',\n",
              " 'Comedy',\n",
              " 'Horror',\n",
              " 'Sci-Fi',\n",
              " 'Thriller',\n",
              " 'Crime',\n",
              " 'Mystery',\n",
              " 'Action',\n",
              " 'War',\n",
              " 'Fantasy',\n",
              " 'History',\n",
              " 'Romance',\n",
              " 'Biography',\n",
              " 'Family',\n",
              " 'Western',\n",
              " 'Music',\n",
              " 'Musical',\n",
              " 'Sport',\n",
              " 'Reality-TV']"
            ]
          },
          "metadata": {
            "tags": []
          },
          "execution_count": 29
        }
      ]
    },
    {
      "cell_type": "markdown",
      "metadata": {
        "id": "F3RJxMjL49Dq"
      },
      "source": [
        "country도 마찬가지로 처리"
      ]
    },
    {
      "cell_type": "code",
      "metadata": {
        "id": "KUQWLn1M72cz"
      },
      "source": [
        "countries = []\n",
        "for i in df_movies.country:\n",
        "  temp = i.split(', ')\n",
        "  for j in temp:\n",
        "    if j in countries:\n",
        "      continue\n",
        "    else:\n",
        "      countries.append(j)"
      ],
      "execution_count": null,
      "outputs": []
    },
    {
      "cell_type": "markdown",
      "metadata": {
        "id": "1UOELH8Pt6Ve"
      },
      "source": [
        "각 genre와 country 에 해당하는 binary column을 만들어 encoding 효과를 만들어 낼 수 있다."
      ]
    },
    {
      "cell_type": "code",
      "metadata": {
        "colab": {
          "base_uri": "https://localhost:8080/"
        },
        "id": "x1Cg33W95GX0",
        "outputId": "02847515-aaff-406f-c8ab-93c47426b27c"
      },
      "source": [
        "for i in genres:\n",
        "  df_movies[i] = np.where(df_movies['genre'].str.contains(i),1,0)\n",
        "for i in countries:\n",
        "  df_movies[i] = np.where(df_movies['country'].str.contains(i),1,0)"
      ],
      "execution_count": null,
      "outputs": [
        {
          "output_type": "stream",
          "text": [
            "/usr/local/lib/python3.7/dist-packages/pandas/core/strings.py:2001: UserWarning: This pattern has match groups. To actually get the groups, use str.extract.\n",
            "  return func(self, *args, **kwargs)\n"
          ],
          "name": "stderr"
        }
      ]
    },
    {
      "cell_type": "code",
      "metadata": {
        "colab": {
          "base_uri": "https://localhost:8080/",
          "height": 490
        },
        "id": "PCiR5aZA5Znb",
        "outputId": "afbca42e-5844-4828-fa7f-ea12e6791bf9"
      },
      "source": [
        "df_movies[list(df_movies.columns[12:])]"
      ],
      "execution_count": null,
      "outputs": [
        {
          "output_type": "execute_result",
          "data": {
            "text/html": [
              "<div>\n",
              "<style scoped>\n",
              "    .dataframe tbody tr th:only-of-type {\n",
              "        vertical-align: middle;\n",
              "    }\n",
              "\n",
              "    .dataframe tbody tr th {\n",
              "        vertical-align: top;\n",
              "    }\n",
              "\n",
              "    .dataframe thead th {\n",
              "        text-align: right;\n",
              "    }\n",
              "</style>\n",
              "<table border=\"1\" class=\"dataframe\">\n",
              "  <thead>\n",
              "    <tr style=\"text-align: right;\">\n",
              "      <th></th>\n",
              "      <th>reviews_from_users</th>\n",
              "      <th>males_18age_avg_vote</th>\n",
              "      <th>males_30age_avg_vote</th>\n",
              "      <th>females_18age_avg_vote</th>\n",
              "      <th>females_30age_avg_vote</th>\n",
              "      <th>Drama</th>\n",
              "      <th>Animation</th>\n",
              "      <th>Adventure</th>\n",
              "      <th>Comedy</th>\n",
              "      <th>Horror</th>\n",
              "      <th>Sci-Fi</th>\n",
              "      <th>Thriller</th>\n",
              "      <th>Crime</th>\n",
              "      <th>Mystery</th>\n",
              "      <th>Action</th>\n",
              "      <th>War</th>\n",
              "      <th>Fantasy</th>\n",
              "      <th>History</th>\n",
              "      <th>Romance</th>\n",
              "      <th>Biography</th>\n",
              "      <th>Family</th>\n",
              "      <th>Western</th>\n",
              "      <th>Music</th>\n",
              "      <th>Musical</th>\n",
              "      <th>Sport</th>\n",
              "      <th>Reality-TV</th>\n",
              "      <th>France</th>\n",
              "      <th>Iran</th>\n",
              "      <th>USA</th>\n",
              "      <th>Canada</th>\n",
              "      <th>Japan</th>\n",
              "      <th>Australia</th>\n",
              "      <th>China</th>\n",
              "      <th>Hong Kong</th>\n",
              "      <th>UK</th>\n",
              "      <th>Malaysia</th>\n",
              "      <th>Portugal</th>\n",
              "      <th>Denmark</th>\n",
              "      <th>Russia</th>\n",
              "      <th>Indonesia</th>\n",
              "      <th>...</th>\n",
              "      <th>Trinidad and Tobago</th>\n",
              "      <th>Mongolia</th>\n",
              "      <th>Panama</th>\n",
              "      <th>Jamaica</th>\n",
              "      <th>Sri Lanka</th>\n",
              "      <th>Armenia</th>\n",
              "      <th>Senegal</th>\n",
              "      <th>The Democratic Republic Of Congo</th>\n",
              "      <th>Venezuela</th>\n",
              "      <th>Montenegro</th>\n",
              "      <th>Kosovo</th>\n",
              "      <th>Martinique</th>\n",
              "      <th>Maldives</th>\n",
              "      <th>Djibouti</th>\n",
              "      <th>Brunei</th>\n",
              "      <th>Zambia</th>\n",
              "      <th>Reunion</th>\n",
              "      <th>Ethiopia</th>\n",
              "      <th>Jordan</th>\n",
              "      <th>Costa Rica</th>\n",
              "      <th>Belarus</th>\n",
              "      <th>Ghana</th>\n",
              "      <th>Kazakhstan</th>\n",
              "      <th>Bolivia</th>\n",
              "      <th>Guadeloupe</th>\n",
              "      <th>Algeria</th>\n",
              "      <th>Malawi</th>\n",
              "      <th>Holy See (Vatican City State)</th>\n",
              "      <th>Serbia and Montenegro</th>\n",
              "      <th>Azerbaijan</th>\n",
              "      <th>British Virgin Islands</th>\n",
              "      <th>Cape Verde</th>\n",
              "      <th>Zimbabwe</th>\n",
              "      <th>Uzbekistan</th>\n",
              "      <th>Rwanda</th>\n",
              "      <th>Yemen</th>\n",
              "      <th>Mozambique</th>\n",
              "      <th>Syria</th>\n",
              "      <th>Bhutan</th>\n",
              "      <th>Macao</th>\n",
              "    </tr>\n",
              "  </thead>\n",
              "  <tbody>\n",
              "    <tr>\n",
              "      <th>15675</th>\n",
              "      <td>81.0</td>\n",
              "      <td>7.3</td>\n",
              "      <td>6.7</td>\n",
              "      <td>6.9</td>\n",
              "      <td>6.1</td>\n",
              "      <td>1</td>\n",
              "      <td>0</td>\n",
              "      <td>0</td>\n",
              "      <td>0</td>\n",
              "      <td>0</td>\n",
              "      <td>0</td>\n",
              "      <td>0</td>\n",
              "      <td>0</td>\n",
              "      <td>0</td>\n",
              "      <td>0</td>\n",
              "      <td>0</td>\n",
              "      <td>0</td>\n",
              "      <td>0</td>\n",
              "      <td>0</td>\n",
              "      <td>0</td>\n",
              "      <td>0</td>\n",
              "      <td>0</td>\n",
              "      <td>0</td>\n",
              "      <td>0</td>\n",
              "      <td>0</td>\n",
              "      <td>0</td>\n",
              "      <td>1</td>\n",
              "      <td>1</td>\n",
              "      <td>1</td>\n",
              "      <td>0</td>\n",
              "      <td>0</td>\n",
              "      <td>0</td>\n",
              "      <td>0</td>\n",
              "      <td>0</td>\n",
              "      <td>0</td>\n",
              "      <td>0</td>\n",
              "      <td>0</td>\n",
              "      <td>0</td>\n",
              "      <td>0</td>\n",
              "      <td>0</td>\n",
              "      <td>...</td>\n",
              "      <td>0</td>\n",
              "      <td>0</td>\n",
              "      <td>0</td>\n",
              "      <td>0</td>\n",
              "      <td>0</td>\n",
              "      <td>0</td>\n",
              "      <td>0</td>\n",
              "      <td>0</td>\n",
              "      <td>0</td>\n",
              "      <td>0</td>\n",
              "      <td>0</td>\n",
              "      <td>0</td>\n",
              "      <td>0</td>\n",
              "      <td>0</td>\n",
              "      <td>0</td>\n",
              "      <td>0</td>\n",
              "      <td>0</td>\n",
              "      <td>0</td>\n",
              "      <td>0</td>\n",
              "      <td>0</td>\n",
              "      <td>0</td>\n",
              "      <td>0</td>\n",
              "      <td>0</td>\n",
              "      <td>0</td>\n",
              "      <td>0</td>\n",
              "      <td>0</td>\n",
              "      <td>0</td>\n",
              "      <td>0</td>\n",
              "      <td>0</td>\n",
              "      <td>0</td>\n",
              "      <td>0</td>\n",
              "      <td>0</td>\n",
              "      <td>0</td>\n",
              "      <td>0</td>\n",
              "      <td>0</td>\n",
              "      <td>0</td>\n",
              "      <td>0</td>\n",
              "      <td>0</td>\n",
              "      <td>0</td>\n",
              "      <td>0</td>\n",
              "    </tr>\n",
              "    <tr>\n",
              "      <th>32465</th>\n",
              "      <td>2.0</td>\n",
              "      <td>9.6</td>\n",
              "      <td>7.5</td>\n",
              "      <td>8.6</td>\n",
              "      <td>9.0</td>\n",
              "      <td>0</td>\n",
              "      <td>1</td>\n",
              "      <td>1</td>\n",
              "      <td>1</td>\n",
              "      <td>0</td>\n",
              "      <td>0</td>\n",
              "      <td>0</td>\n",
              "      <td>0</td>\n",
              "      <td>0</td>\n",
              "      <td>0</td>\n",
              "      <td>0</td>\n",
              "      <td>0</td>\n",
              "      <td>0</td>\n",
              "      <td>0</td>\n",
              "      <td>0</td>\n",
              "      <td>0</td>\n",
              "      <td>0</td>\n",
              "      <td>0</td>\n",
              "      <td>0</td>\n",
              "      <td>0</td>\n",
              "      <td>0</td>\n",
              "      <td>0</td>\n",
              "      <td>0</td>\n",
              "      <td>0</td>\n",
              "      <td>1</td>\n",
              "      <td>0</td>\n",
              "      <td>0</td>\n",
              "      <td>0</td>\n",
              "      <td>0</td>\n",
              "      <td>0</td>\n",
              "      <td>0</td>\n",
              "      <td>0</td>\n",
              "      <td>0</td>\n",
              "      <td>0</td>\n",
              "      <td>0</td>\n",
              "      <td>...</td>\n",
              "      <td>0</td>\n",
              "      <td>0</td>\n",
              "      <td>0</td>\n",
              "      <td>0</td>\n",
              "      <td>0</td>\n",
              "      <td>0</td>\n",
              "      <td>0</td>\n",
              "      <td>0</td>\n",
              "      <td>0</td>\n",
              "      <td>0</td>\n",
              "      <td>0</td>\n",
              "      <td>0</td>\n",
              "      <td>0</td>\n",
              "      <td>0</td>\n",
              "      <td>0</td>\n",
              "      <td>0</td>\n",
              "      <td>0</td>\n",
              "      <td>0</td>\n",
              "      <td>0</td>\n",
              "      <td>0</td>\n",
              "      <td>0</td>\n",
              "      <td>0</td>\n",
              "      <td>0</td>\n",
              "      <td>0</td>\n",
              "      <td>0</td>\n",
              "      <td>0</td>\n",
              "      <td>0</td>\n",
              "      <td>0</td>\n",
              "      <td>0</td>\n",
              "      <td>0</td>\n",
              "      <td>0</td>\n",
              "      <td>0</td>\n",
              "      <td>0</td>\n",
              "      <td>0</td>\n",
              "      <td>0</td>\n",
              "      <td>0</td>\n",
              "      <td>0</td>\n",
              "      <td>0</td>\n",
              "      <td>0</td>\n",
              "      <td>0</td>\n",
              "    </tr>\n",
              "    <tr>\n",
              "      <th>42166</th>\n",
              "      <td>4.0</td>\n",
              "      <td>7.0</td>\n",
              "      <td>6.7</td>\n",
              "      <td>9.0</td>\n",
              "      <td>4.2</td>\n",
              "      <td>1</td>\n",
              "      <td>0</td>\n",
              "      <td>0</td>\n",
              "      <td>1</td>\n",
              "      <td>0</td>\n",
              "      <td>0</td>\n",
              "      <td>0</td>\n",
              "      <td>0</td>\n",
              "      <td>0</td>\n",
              "      <td>0</td>\n",
              "      <td>0</td>\n",
              "      <td>0</td>\n",
              "      <td>0</td>\n",
              "      <td>0</td>\n",
              "      <td>0</td>\n",
              "      <td>0</td>\n",
              "      <td>0</td>\n",
              "      <td>0</td>\n",
              "      <td>0</td>\n",
              "      <td>0</td>\n",
              "      <td>0</td>\n",
              "      <td>0</td>\n",
              "      <td>0</td>\n",
              "      <td>1</td>\n",
              "      <td>0</td>\n",
              "      <td>0</td>\n",
              "      <td>0</td>\n",
              "      <td>0</td>\n",
              "      <td>0</td>\n",
              "      <td>0</td>\n",
              "      <td>0</td>\n",
              "      <td>0</td>\n",
              "      <td>0</td>\n",
              "      <td>0</td>\n",
              "      <td>0</td>\n",
              "      <td>...</td>\n",
              "      <td>0</td>\n",
              "      <td>0</td>\n",
              "      <td>0</td>\n",
              "      <td>0</td>\n",
              "      <td>0</td>\n",
              "      <td>0</td>\n",
              "      <td>0</td>\n",
              "      <td>0</td>\n",
              "      <td>0</td>\n",
              "      <td>0</td>\n",
              "      <td>0</td>\n",
              "      <td>0</td>\n",
              "      <td>0</td>\n",
              "      <td>0</td>\n",
              "      <td>0</td>\n",
              "      <td>0</td>\n",
              "      <td>0</td>\n",
              "      <td>0</td>\n",
              "      <td>0</td>\n",
              "      <td>0</td>\n",
              "      <td>0</td>\n",
              "      <td>0</td>\n",
              "      <td>0</td>\n",
              "      <td>0</td>\n",
              "      <td>0</td>\n",
              "      <td>0</td>\n",
              "      <td>0</td>\n",
              "      <td>0</td>\n",
              "      <td>0</td>\n",
              "      <td>0</td>\n",
              "      <td>0</td>\n",
              "      <td>0</td>\n",
              "      <td>0</td>\n",
              "      <td>0</td>\n",
              "      <td>0</td>\n",
              "      <td>0</td>\n",
              "      <td>0</td>\n",
              "      <td>0</td>\n",
              "      <td>0</td>\n",
              "      <td>0</td>\n",
              "    </tr>\n",
              "    <tr>\n",
              "      <th>42695</th>\n",
              "      <td>46.0</td>\n",
              "      <td>6.0</td>\n",
              "      <td>5.4</td>\n",
              "      <td>6.2</td>\n",
              "      <td>5.7</td>\n",
              "      <td>0</td>\n",
              "      <td>0</td>\n",
              "      <td>0</td>\n",
              "      <td>0</td>\n",
              "      <td>1</td>\n",
              "      <td>0</td>\n",
              "      <td>0</td>\n",
              "      <td>0</td>\n",
              "      <td>0</td>\n",
              "      <td>0</td>\n",
              "      <td>0</td>\n",
              "      <td>0</td>\n",
              "      <td>0</td>\n",
              "      <td>0</td>\n",
              "      <td>0</td>\n",
              "      <td>0</td>\n",
              "      <td>0</td>\n",
              "      <td>0</td>\n",
              "      <td>0</td>\n",
              "      <td>0</td>\n",
              "      <td>0</td>\n",
              "      <td>0</td>\n",
              "      <td>0</td>\n",
              "      <td>1</td>\n",
              "      <td>0</td>\n",
              "      <td>0</td>\n",
              "      <td>0</td>\n",
              "      <td>0</td>\n",
              "      <td>0</td>\n",
              "      <td>0</td>\n",
              "      <td>0</td>\n",
              "      <td>0</td>\n",
              "      <td>0</td>\n",
              "      <td>0</td>\n",
              "      <td>0</td>\n",
              "      <td>...</td>\n",
              "      <td>0</td>\n",
              "      <td>0</td>\n",
              "      <td>0</td>\n",
              "      <td>0</td>\n",
              "      <td>0</td>\n",
              "      <td>0</td>\n",
              "      <td>0</td>\n",
              "      <td>0</td>\n",
              "      <td>0</td>\n",
              "      <td>0</td>\n",
              "      <td>0</td>\n",
              "      <td>0</td>\n",
              "      <td>0</td>\n",
              "      <td>0</td>\n",
              "      <td>0</td>\n",
              "      <td>0</td>\n",
              "      <td>0</td>\n",
              "      <td>0</td>\n",
              "      <td>0</td>\n",
              "      <td>0</td>\n",
              "      <td>0</td>\n",
              "      <td>0</td>\n",
              "      <td>0</td>\n",
              "      <td>0</td>\n",
              "      <td>0</td>\n",
              "      <td>0</td>\n",
              "      <td>0</td>\n",
              "      <td>0</td>\n",
              "      <td>0</td>\n",
              "      <td>0</td>\n",
              "      <td>0</td>\n",
              "      <td>0</td>\n",
              "      <td>0</td>\n",
              "      <td>0</td>\n",
              "      <td>0</td>\n",
              "      <td>0</td>\n",
              "      <td>0</td>\n",
              "      <td>0</td>\n",
              "      <td>0</td>\n",
              "      <td>0</td>\n",
              "    </tr>\n",
              "    <tr>\n",
              "      <th>43366</th>\n",
              "      <td>206.0</td>\n",
              "      <td>4.9</td>\n",
              "      <td>4.8</td>\n",
              "      <td>5.2</td>\n",
              "      <td>4.9</td>\n",
              "      <td>1</td>\n",
              "      <td>0</td>\n",
              "      <td>0</td>\n",
              "      <td>0</td>\n",
              "      <td>0</td>\n",
              "      <td>1</td>\n",
              "      <td>1</td>\n",
              "      <td>0</td>\n",
              "      <td>0</td>\n",
              "      <td>0</td>\n",
              "      <td>0</td>\n",
              "      <td>0</td>\n",
              "      <td>0</td>\n",
              "      <td>0</td>\n",
              "      <td>0</td>\n",
              "      <td>0</td>\n",
              "      <td>0</td>\n",
              "      <td>0</td>\n",
              "      <td>0</td>\n",
              "      <td>0</td>\n",
              "      <td>0</td>\n",
              "      <td>0</td>\n",
              "      <td>0</td>\n",
              "      <td>1</td>\n",
              "      <td>0</td>\n",
              "      <td>0</td>\n",
              "      <td>0</td>\n",
              "      <td>0</td>\n",
              "      <td>0</td>\n",
              "      <td>0</td>\n",
              "      <td>0</td>\n",
              "      <td>0</td>\n",
              "      <td>0</td>\n",
              "      <td>0</td>\n",
              "      <td>0</td>\n",
              "      <td>...</td>\n",
              "      <td>0</td>\n",
              "      <td>0</td>\n",
              "      <td>0</td>\n",
              "      <td>0</td>\n",
              "      <td>0</td>\n",
              "      <td>0</td>\n",
              "      <td>0</td>\n",
              "      <td>0</td>\n",
              "      <td>0</td>\n",
              "      <td>0</td>\n",
              "      <td>0</td>\n",
              "      <td>0</td>\n",
              "      <td>0</td>\n",
              "      <td>0</td>\n",
              "      <td>0</td>\n",
              "      <td>0</td>\n",
              "      <td>0</td>\n",
              "      <td>0</td>\n",
              "      <td>0</td>\n",
              "      <td>0</td>\n",
              "      <td>0</td>\n",
              "      <td>0</td>\n",
              "      <td>0</td>\n",
              "      <td>0</td>\n",
              "      <td>0</td>\n",
              "      <td>0</td>\n",
              "      <td>0</td>\n",
              "      <td>0</td>\n",
              "      <td>0</td>\n",
              "      <td>0</td>\n",
              "      <td>0</td>\n",
              "      <td>0</td>\n",
              "      <td>0</td>\n",
              "      <td>0</td>\n",
              "      <td>0</td>\n",
              "      <td>0</td>\n",
              "      <td>0</td>\n",
              "      <td>0</td>\n",
              "      <td>0</td>\n",
              "      <td>0</td>\n",
              "    </tr>\n",
              "    <tr>\n",
              "      <th>...</th>\n",
              "      <td>...</td>\n",
              "      <td>...</td>\n",
              "      <td>...</td>\n",
              "      <td>...</td>\n",
              "      <td>...</td>\n",
              "      <td>...</td>\n",
              "      <td>...</td>\n",
              "      <td>...</td>\n",
              "      <td>...</td>\n",
              "      <td>...</td>\n",
              "      <td>...</td>\n",
              "      <td>...</td>\n",
              "      <td>...</td>\n",
              "      <td>...</td>\n",
              "      <td>...</td>\n",
              "      <td>...</td>\n",
              "      <td>...</td>\n",
              "      <td>...</td>\n",
              "      <td>...</td>\n",
              "      <td>...</td>\n",
              "      <td>...</td>\n",
              "      <td>...</td>\n",
              "      <td>...</td>\n",
              "      <td>...</td>\n",
              "      <td>...</td>\n",
              "      <td>...</td>\n",
              "      <td>...</td>\n",
              "      <td>...</td>\n",
              "      <td>...</td>\n",
              "      <td>...</td>\n",
              "      <td>...</td>\n",
              "      <td>...</td>\n",
              "      <td>...</td>\n",
              "      <td>...</td>\n",
              "      <td>...</td>\n",
              "      <td>...</td>\n",
              "      <td>...</td>\n",
              "      <td>...</td>\n",
              "      <td>...</td>\n",
              "      <td>...</td>\n",
              "      <td>...</td>\n",
              "      <td>...</td>\n",
              "      <td>...</td>\n",
              "      <td>...</td>\n",
              "      <td>...</td>\n",
              "      <td>...</td>\n",
              "      <td>...</td>\n",
              "      <td>...</td>\n",
              "      <td>...</td>\n",
              "      <td>...</td>\n",
              "      <td>...</td>\n",
              "      <td>...</td>\n",
              "      <td>...</td>\n",
              "      <td>...</td>\n",
              "      <td>...</td>\n",
              "      <td>...</td>\n",
              "      <td>...</td>\n",
              "      <td>...</td>\n",
              "      <td>...</td>\n",
              "      <td>...</td>\n",
              "      <td>...</td>\n",
              "      <td>...</td>\n",
              "      <td>...</td>\n",
              "      <td>...</td>\n",
              "      <td>...</td>\n",
              "      <td>...</td>\n",
              "      <td>...</td>\n",
              "      <td>...</td>\n",
              "      <td>...</td>\n",
              "      <td>...</td>\n",
              "      <td>...</td>\n",
              "      <td>...</td>\n",
              "      <td>...</td>\n",
              "      <td>...</td>\n",
              "      <td>...</td>\n",
              "      <td>...</td>\n",
              "      <td>...</td>\n",
              "      <td>...</td>\n",
              "      <td>...</td>\n",
              "      <td>...</td>\n",
              "      <td>...</td>\n",
              "    </tr>\n",
              "    <tr>\n",
              "      <th>85838</th>\n",
              "      <td>28.0</td>\n",
              "      <td>5.2</td>\n",
              "      <td>5.4</td>\n",
              "      <td>6.4</td>\n",
              "      <td>6.4</td>\n",
              "      <td>0</td>\n",
              "      <td>1</td>\n",
              "      <td>1</td>\n",
              "      <td>0</td>\n",
              "      <td>0</td>\n",
              "      <td>0</td>\n",
              "      <td>0</td>\n",
              "      <td>0</td>\n",
              "      <td>0</td>\n",
              "      <td>0</td>\n",
              "      <td>0</td>\n",
              "      <td>0</td>\n",
              "      <td>0</td>\n",
              "      <td>0</td>\n",
              "      <td>0</td>\n",
              "      <td>1</td>\n",
              "      <td>0</td>\n",
              "      <td>0</td>\n",
              "      <td>0</td>\n",
              "      <td>0</td>\n",
              "      <td>0</td>\n",
              "      <td>0</td>\n",
              "      <td>0</td>\n",
              "      <td>1</td>\n",
              "      <td>0</td>\n",
              "      <td>0</td>\n",
              "      <td>0</td>\n",
              "      <td>0</td>\n",
              "      <td>0</td>\n",
              "      <td>0</td>\n",
              "      <td>0</td>\n",
              "      <td>0</td>\n",
              "      <td>0</td>\n",
              "      <td>0</td>\n",
              "      <td>0</td>\n",
              "      <td>...</td>\n",
              "      <td>0</td>\n",
              "      <td>0</td>\n",
              "      <td>0</td>\n",
              "      <td>0</td>\n",
              "      <td>0</td>\n",
              "      <td>0</td>\n",
              "      <td>0</td>\n",
              "      <td>0</td>\n",
              "      <td>0</td>\n",
              "      <td>0</td>\n",
              "      <td>0</td>\n",
              "      <td>0</td>\n",
              "      <td>0</td>\n",
              "      <td>0</td>\n",
              "      <td>0</td>\n",
              "      <td>0</td>\n",
              "      <td>0</td>\n",
              "      <td>0</td>\n",
              "      <td>0</td>\n",
              "      <td>0</td>\n",
              "      <td>0</td>\n",
              "      <td>0</td>\n",
              "      <td>0</td>\n",
              "      <td>0</td>\n",
              "      <td>0</td>\n",
              "      <td>0</td>\n",
              "      <td>0</td>\n",
              "      <td>0</td>\n",
              "      <td>0</td>\n",
              "      <td>0</td>\n",
              "      <td>0</td>\n",
              "      <td>0</td>\n",
              "      <td>0</td>\n",
              "      <td>0</td>\n",
              "      <td>0</td>\n",
              "      <td>0</td>\n",
              "      <td>0</td>\n",
              "      <td>0</td>\n",
              "      <td>0</td>\n",
              "      <td>0</td>\n",
              "    </tr>\n",
              "    <tr>\n",
              "      <th>85839</th>\n",
              "      <td>388.0</td>\n",
              "      <td>5.1</td>\n",
              "      <td>5.1</td>\n",
              "      <td>5.4</td>\n",
              "      <td>5.0</td>\n",
              "      <td>0</td>\n",
              "      <td>0</td>\n",
              "      <td>0</td>\n",
              "      <td>1</td>\n",
              "      <td>0</td>\n",
              "      <td>0</td>\n",
              "      <td>0</td>\n",
              "      <td>0</td>\n",
              "      <td>0</td>\n",
              "      <td>1</td>\n",
              "      <td>0</td>\n",
              "      <td>0</td>\n",
              "      <td>0</td>\n",
              "      <td>0</td>\n",
              "      <td>0</td>\n",
              "      <td>0</td>\n",
              "      <td>0</td>\n",
              "      <td>0</td>\n",
              "      <td>0</td>\n",
              "      <td>0</td>\n",
              "      <td>0</td>\n",
              "      <td>0</td>\n",
              "      <td>0</td>\n",
              "      <td>1</td>\n",
              "      <td>0</td>\n",
              "      <td>0</td>\n",
              "      <td>0</td>\n",
              "      <td>0</td>\n",
              "      <td>0</td>\n",
              "      <td>0</td>\n",
              "      <td>0</td>\n",
              "      <td>0</td>\n",
              "      <td>0</td>\n",
              "      <td>0</td>\n",
              "      <td>0</td>\n",
              "      <td>...</td>\n",
              "      <td>0</td>\n",
              "      <td>0</td>\n",
              "      <td>0</td>\n",
              "      <td>0</td>\n",
              "      <td>0</td>\n",
              "      <td>0</td>\n",
              "      <td>0</td>\n",
              "      <td>0</td>\n",
              "      <td>0</td>\n",
              "      <td>0</td>\n",
              "      <td>0</td>\n",
              "      <td>0</td>\n",
              "      <td>0</td>\n",
              "      <td>0</td>\n",
              "      <td>0</td>\n",
              "      <td>0</td>\n",
              "      <td>0</td>\n",
              "      <td>0</td>\n",
              "      <td>0</td>\n",
              "      <td>0</td>\n",
              "      <td>0</td>\n",
              "      <td>0</td>\n",
              "      <td>0</td>\n",
              "      <td>0</td>\n",
              "      <td>0</td>\n",
              "      <td>0</td>\n",
              "      <td>0</td>\n",
              "      <td>0</td>\n",
              "      <td>0</td>\n",
              "      <td>0</td>\n",
              "      <td>0</td>\n",
              "      <td>0</td>\n",
              "      <td>0</td>\n",
              "      <td>0</td>\n",
              "      <td>0</td>\n",
              "      <td>0</td>\n",
              "      <td>0</td>\n",
              "      <td>0</td>\n",
              "      <td>0</td>\n",
              "      <td>0</td>\n",
              "    </tr>\n",
              "    <tr>\n",
              "      <th>85842</th>\n",
              "      <td>1.0</td>\n",
              "      <td>6.9</td>\n",
              "      <td>6.9</td>\n",
              "      <td>NaN</td>\n",
              "      <td>NaN</td>\n",
              "      <td>0</td>\n",
              "      <td>1</td>\n",
              "      <td>1</td>\n",
              "      <td>0</td>\n",
              "      <td>0</td>\n",
              "      <td>0</td>\n",
              "      <td>0</td>\n",
              "      <td>1</td>\n",
              "      <td>0</td>\n",
              "      <td>0</td>\n",
              "      <td>0</td>\n",
              "      <td>0</td>\n",
              "      <td>0</td>\n",
              "      <td>0</td>\n",
              "      <td>0</td>\n",
              "      <td>0</td>\n",
              "      <td>0</td>\n",
              "      <td>0</td>\n",
              "      <td>0</td>\n",
              "      <td>0</td>\n",
              "      <td>0</td>\n",
              "      <td>0</td>\n",
              "      <td>0</td>\n",
              "      <td>0</td>\n",
              "      <td>0</td>\n",
              "      <td>1</td>\n",
              "      <td>0</td>\n",
              "      <td>0</td>\n",
              "      <td>0</td>\n",
              "      <td>0</td>\n",
              "      <td>0</td>\n",
              "      <td>0</td>\n",
              "      <td>0</td>\n",
              "      <td>0</td>\n",
              "      <td>0</td>\n",
              "      <td>...</td>\n",
              "      <td>0</td>\n",
              "      <td>0</td>\n",
              "      <td>0</td>\n",
              "      <td>0</td>\n",
              "      <td>0</td>\n",
              "      <td>0</td>\n",
              "      <td>0</td>\n",
              "      <td>0</td>\n",
              "      <td>0</td>\n",
              "      <td>0</td>\n",
              "      <td>0</td>\n",
              "      <td>0</td>\n",
              "      <td>0</td>\n",
              "      <td>0</td>\n",
              "      <td>0</td>\n",
              "      <td>0</td>\n",
              "      <td>0</td>\n",
              "      <td>0</td>\n",
              "      <td>0</td>\n",
              "      <td>0</td>\n",
              "      <td>0</td>\n",
              "      <td>0</td>\n",
              "      <td>0</td>\n",
              "      <td>0</td>\n",
              "      <td>0</td>\n",
              "      <td>0</td>\n",
              "      <td>0</td>\n",
              "      <td>0</td>\n",
              "      <td>0</td>\n",
              "      <td>0</td>\n",
              "      <td>0</td>\n",
              "      <td>0</td>\n",
              "      <td>0</td>\n",
              "      <td>0</td>\n",
              "      <td>0</td>\n",
              "      <td>0</td>\n",
              "      <td>0</td>\n",
              "      <td>0</td>\n",
              "      <td>0</td>\n",
              "      <td>0</td>\n",
              "    </tr>\n",
              "    <tr>\n",
              "      <th>85846</th>\n",
              "      <td>29.0</td>\n",
              "      <td>3.5</td>\n",
              "      <td>3.7</td>\n",
              "      <td>5.2</td>\n",
              "      <td>5.7</td>\n",
              "      <td>0</td>\n",
              "      <td>0</td>\n",
              "      <td>0</td>\n",
              "      <td>0</td>\n",
              "      <td>0</td>\n",
              "      <td>0</td>\n",
              "      <td>0</td>\n",
              "      <td>0</td>\n",
              "      <td>0</td>\n",
              "      <td>0</td>\n",
              "      <td>1</td>\n",
              "      <td>0</td>\n",
              "      <td>0</td>\n",
              "      <td>0</td>\n",
              "      <td>0</td>\n",
              "      <td>0</td>\n",
              "      <td>0</td>\n",
              "      <td>0</td>\n",
              "      <td>0</td>\n",
              "      <td>0</td>\n",
              "      <td>0</td>\n",
              "      <td>0</td>\n",
              "      <td>0</td>\n",
              "      <td>0</td>\n",
              "      <td>0</td>\n",
              "      <td>0</td>\n",
              "      <td>0</td>\n",
              "      <td>0</td>\n",
              "      <td>0</td>\n",
              "      <td>1</td>\n",
              "      <td>0</td>\n",
              "      <td>0</td>\n",
              "      <td>0</td>\n",
              "      <td>0</td>\n",
              "      <td>0</td>\n",
              "      <td>...</td>\n",
              "      <td>0</td>\n",
              "      <td>0</td>\n",
              "      <td>0</td>\n",
              "      <td>0</td>\n",
              "      <td>0</td>\n",
              "      <td>0</td>\n",
              "      <td>0</td>\n",
              "      <td>0</td>\n",
              "      <td>0</td>\n",
              "      <td>0</td>\n",
              "      <td>0</td>\n",
              "      <td>0</td>\n",
              "      <td>0</td>\n",
              "      <td>0</td>\n",
              "      <td>0</td>\n",
              "      <td>0</td>\n",
              "      <td>0</td>\n",
              "      <td>0</td>\n",
              "      <td>0</td>\n",
              "      <td>0</td>\n",
              "      <td>0</td>\n",
              "      <td>0</td>\n",
              "      <td>0</td>\n",
              "      <td>0</td>\n",
              "      <td>0</td>\n",
              "      <td>0</td>\n",
              "      <td>0</td>\n",
              "      <td>0</td>\n",
              "      <td>0</td>\n",
              "      <td>0</td>\n",
              "      <td>0</td>\n",
              "      <td>0</td>\n",
              "      <td>0</td>\n",
              "      <td>0</td>\n",
              "      <td>0</td>\n",
              "      <td>0</td>\n",
              "      <td>0</td>\n",
              "      <td>0</td>\n",
              "      <td>0</td>\n",
              "      <td>0</td>\n",
              "    </tr>\n",
              "    <tr>\n",
              "      <th>85851</th>\n",
              "      <td>6.0</td>\n",
              "      <td>7.6</td>\n",
              "      <td>7.6</td>\n",
              "      <td>7.4</td>\n",
              "      <td>8.0</td>\n",
              "      <td>1</td>\n",
              "      <td>0</td>\n",
              "      <td>0</td>\n",
              "      <td>1</td>\n",
              "      <td>0</td>\n",
              "      <td>0</td>\n",
              "      <td>0</td>\n",
              "      <td>0</td>\n",
              "      <td>0</td>\n",
              "      <td>0</td>\n",
              "      <td>0</td>\n",
              "      <td>0</td>\n",
              "      <td>0</td>\n",
              "      <td>0</td>\n",
              "      <td>0</td>\n",
              "      <td>0</td>\n",
              "      <td>0</td>\n",
              "      <td>0</td>\n",
              "      <td>0</td>\n",
              "      <td>0</td>\n",
              "      <td>0</td>\n",
              "      <td>0</td>\n",
              "      <td>0</td>\n",
              "      <td>0</td>\n",
              "      <td>0</td>\n",
              "      <td>0</td>\n",
              "      <td>0</td>\n",
              "      <td>0</td>\n",
              "      <td>0</td>\n",
              "      <td>0</td>\n",
              "      <td>0</td>\n",
              "      <td>0</td>\n",
              "      <td>0</td>\n",
              "      <td>0</td>\n",
              "      <td>0</td>\n",
              "      <td>...</td>\n",
              "      <td>0</td>\n",
              "      <td>0</td>\n",
              "      <td>0</td>\n",
              "      <td>0</td>\n",
              "      <td>0</td>\n",
              "      <td>0</td>\n",
              "      <td>0</td>\n",
              "      <td>0</td>\n",
              "      <td>0</td>\n",
              "      <td>0</td>\n",
              "      <td>0</td>\n",
              "      <td>0</td>\n",
              "      <td>0</td>\n",
              "      <td>0</td>\n",
              "      <td>0</td>\n",
              "      <td>0</td>\n",
              "      <td>0</td>\n",
              "      <td>0</td>\n",
              "      <td>0</td>\n",
              "      <td>0</td>\n",
              "      <td>0</td>\n",
              "      <td>0</td>\n",
              "      <td>0</td>\n",
              "      <td>0</td>\n",
              "      <td>0</td>\n",
              "      <td>0</td>\n",
              "      <td>0</td>\n",
              "      <td>0</td>\n",
              "      <td>0</td>\n",
              "      <td>0</td>\n",
              "      <td>0</td>\n",
              "      <td>0</td>\n",
              "      <td>0</td>\n",
              "      <td>0</td>\n",
              "      <td>0</td>\n",
              "      <td>0</td>\n",
              "      <td>0</td>\n",
              "      <td>0</td>\n",
              "      <td>0</td>\n",
              "      <td>0</td>\n",
              "    </tr>\n",
              "  </tbody>\n",
              "</table>\n",
              "<p>7098 rows × 165 columns</p>\n",
              "</div>"
            ],
            "text/plain": [
              "       reviews_from_users  males_18age_avg_vote  ...  Bhutan  Macao\n",
              "15675                81.0                   7.3  ...       0      0\n",
              "32465                 2.0                   9.6  ...       0      0\n",
              "42166                 4.0                   7.0  ...       0      0\n",
              "42695                46.0                   6.0  ...       0      0\n",
              "43366               206.0                   4.9  ...       0      0\n",
              "...                   ...                   ...  ...     ...    ...\n",
              "85838                28.0                   5.2  ...       0      0\n",
              "85839               388.0                   5.1  ...       0      0\n",
              "85842                 1.0                   6.9  ...       0      0\n",
              "85846                29.0                   3.5  ...       0      0\n",
              "85851                 6.0                   7.6  ...       0      0\n",
              "\n",
              "[7098 rows x 165 columns]"
            ]
          },
          "metadata": {
            "tags": []
          },
          "execution_count": 32
        }
      ]
    },
    {
      "cell_type": "markdown",
      "metadata": {
        "id": "J5FC6t9Pv6Xl"
      },
      "source": [
        "director(감독), writer(각본), actor(배우)의 경우, 이름값이 들어가 있으므로 cardinality를 다루기가 매우 까다롭다. 이번 모델에서는 다음과 같은 가정을 한다.\n",
        "\n",
        "1. dataset에서 director, writer, actor가 감독,각본,출연한 영화가 많을수록 score가 올라간다.\n",
        "2. 영화의 맡은 director, writer는 이름 대신 그 이름이 가지고 있는 score로 대체(공동 감독, 각본일 경우, max로 한다.). actor의 경우 출연자들 score의 평균으로 대체한다."
      ]
    },
    {
      "cell_type": "code",
      "metadata": {
        "id": "OaQXKpGgkPCn"
      },
      "source": [
        "#director, writer, actor 이름들을 가지고 있는 raw list를 생성\n",
        "\n",
        "directors = []\n",
        "writers = []\n",
        "actors = []\n",
        "production_companies = []\n",
        "\n",
        "for i in df_movies.director:\n",
        "  temp = i.split(', ')\n",
        "  for j in temp:\n",
        "    directors.append(j)\n",
        "    \n",
        "for i in df_movies.writer:\n",
        "  temp = i.split(', ')\n",
        "  for j in temp:\n",
        "    writers.append(j)\n",
        "\n",
        "for i in df_movies.actors:\n",
        "  temp = i.split(', ')\n",
        "  for j in temp:\n",
        "    actors.append(j)\n",
        "\n",
        "for i in df_movies.production_company:\n",
        "  temp = i.split(', ')\n",
        "  for j in temp:\n",
        "    production_companies.append(j)"
      ],
      "execution_count": null,
      "outputs": []
    },
    {
      "cell_type": "code",
      "metadata": {
        "id": "1kuB0GnSnRpo"
      },
      "source": [
        "# dataset에서 등장한 횟수(score)를 이름에 매칭시키는 dictionary로 저장\n",
        "\n",
        "from collections import Counter\n",
        "\n",
        "#sorted(Counter(directors).values(),reverse=True)\n",
        "\n",
        "director_score_list = Counter(directors) \n",
        "writer_score_list = Counter(writers)\n",
        "actor_score_list = Counter(actors)\n",
        "production_companies_list = Counter(production_companies)"
      ],
      "execution_count": null,
      "outputs": []
    },
    {
      "cell_type": "code",
      "metadata": {
        "id": "USWH0JHQYhGr"
      },
      "source": [
        "#director_score_list"
      ],
      "execution_count": null,
      "outputs": []
    },
    {
      "cell_type": "code",
      "metadata": {
        "id": "ucOAwfuWYdJR"
      },
      "source": [
        "#해당 dataset의 이름을 score로 교체\n",
        "\n",
        "df_movies['director_score'] = [max(director_score_list[j] for j in i.split(', ')) for i in df_movies.director]\n",
        "df_movies['writer_score'] = [max(writer_score_list[j] for j in i.split(', ')) for i in df_movies.writer]\n",
        "df_movies['actor_score'] = [ sum(actor_score_list[j] for j in i.split(', ')) / len(i.split(', ')) for i in df_movies.actors]\n",
        "df_movies['production_company_score'] = [production_companies_list[i] for i in df_movies.production_company]"
      ],
      "execution_count": null,
      "outputs": []
    },
    {
      "cell_type": "code",
      "metadata": {
        "id": "DkCu7swgdqxL"
      },
      "source": [
        "#encoding이 완료된 feature들을 제거\n",
        "df_movies = df_movies.drop(columns=['director','writer','production_company','actors','genre','country'])"
      ],
      "execution_count": null,
      "outputs": []
    },
    {
      "cell_type": "code",
      "metadata": {
        "colab": {
          "base_uri": "https://localhost:8080/",
          "height": 644
        },
        "id": "oPQQah_sjUCC",
        "outputId": "a6eb699a-b2a4-4f9f-bf9b-e122503ed954"
      },
      "source": [
        "df_movies.head()"
      ],
      "execution_count": null,
      "outputs": [
        {
          "output_type": "execute_result",
          "data": {
            "text/html": [
              "<div>\n",
              "<style scoped>\n",
              "    .dataframe tbody tr th:only-of-type {\n",
              "        vertical-align: middle;\n",
              "    }\n",
              "\n",
              "    .dataframe tbody tr th {\n",
              "        vertical-align: top;\n",
              "    }\n",
              "\n",
              "    .dataframe thead th {\n",
              "        text-align: right;\n",
              "    }\n",
              "</style>\n",
              "<table border=\"1\" class=\"dataframe\">\n",
              "  <thead>\n",
              "    <tr style=\"text-align: right;\">\n",
              "      <th></th>\n",
              "      <th>imdb_title_id</th>\n",
              "      <th>year</th>\n",
              "      <th>duration</th>\n",
              "      <th>description</th>\n",
              "      <th>avg_vote</th>\n",
              "      <th>votes</th>\n",
              "      <th>reviews_from_users</th>\n",
              "      <th>males_18age_avg_vote</th>\n",
              "      <th>males_30age_avg_vote</th>\n",
              "      <th>females_18age_avg_vote</th>\n",
              "      <th>females_30age_avg_vote</th>\n",
              "      <th>Drama</th>\n",
              "      <th>Animation</th>\n",
              "      <th>Adventure</th>\n",
              "      <th>Comedy</th>\n",
              "      <th>Horror</th>\n",
              "      <th>Sci-Fi</th>\n",
              "      <th>Thriller</th>\n",
              "      <th>Crime</th>\n",
              "      <th>Mystery</th>\n",
              "      <th>Action</th>\n",
              "      <th>War</th>\n",
              "      <th>Fantasy</th>\n",
              "      <th>History</th>\n",
              "      <th>Romance</th>\n",
              "      <th>Biography</th>\n",
              "      <th>Family</th>\n",
              "      <th>Western</th>\n",
              "      <th>Music</th>\n",
              "      <th>Musical</th>\n",
              "      <th>Sport</th>\n",
              "      <th>Reality-TV</th>\n",
              "      <th>France</th>\n",
              "      <th>Iran</th>\n",
              "      <th>USA</th>\n",
              "      <th>Canada</th>\n",
              "      <th>Japan</th>\n",
              "      <th>Australia</th>\n",
              "      <th>China</th>\n",
              "      <th>Hong Kong</th>\n",
              "      <th>...</th>\n",
              "      <th>Sri Lanka</th>\n",
              "      <th>Armenia</th>\n",
              "      <th>Senegal</th>\n",
              "      <th>The Democratic Republic Of Congo</th>\n",
              "      <th>Venezuela</th>\n",
              "      <th>Montenegro</th>\n",
              "      <th>Kosovo</th>\n",
              "      <th>Martinique</th>\n",
              "      <th>Maldives</th>\n",
              "      <th>Djibouti</th>\n",
              "      <th>Brunei</th>\n",
              "      <th>Zambia</th>\n",
              "      <th>Reunion</th>\n",
              "      <th>Ethiopia</th>\n",
              "      <th>Jordan</th>\n",
              "      <th>Costa Rica</th>\n",
              "      <th>Belarus</th>\n",
              "      <th>Ghana</th>\n",
              "      <th>Kazakhstan</th>\n",
              "      <th>Bolivia</th>\n",
              "      <th>Guadeloupe</th>\n",
              "      <th>Algeria</th>\n",
              "      <th>Malawi</th>\n",
              "      <th>Holy See (Vatican City State)</th>\n",
              "      <th>Serbia and Montenegro</th>\n",
              "      <th>Azerbaijan</th>\n",
              "      <th>British Virgin Islands</th>\n",
              "      <th>Cape Verde</th>\n",
              "      <th>Zimbabwe</th>\n",
              "      <th>Uzbekistan</th>\n",
              "      <th>Rwanda</th>\n",
              "      <th>Yemen</th>\n",
              "      <th>Mozambique</th>\n",
              "      <th>Syria</th>\n",
              "      <th>Bhutan</th>\n",
              "      <th>Macao</th>\n",
              "      <th>director_score</th>\n",
              "      <th>writer_score</th>\n",
              "      <th>actor_score</th>\n",
              "      <th>production_company_score</th>\n",
              "    </tr>\n",
              "  </thead>\n",
              "  <tbody>\n",
              "    <tr>\n",
              "      <th>15675</th>\n",
              "      <td>tt0069049</td>\n",
              "      <td>2018</td>\n",
              "      <td>122</td>\n",
              "      <td>A Hollywood director emerges from semi-exile w...</td>\n",
              "      <td>6.8</td>\n",
              "      <td>5887</td>\n",
              "      <td>81.0</td>\n",
              "      <td>7.3</td>\n",
              "      <td>6.7</td>\n",
              "      <td>6.9</td>\n",
              "      <td>6.1</td>\n",
              "      <td>1</td>\n",
              "      <td>0</td>\n",
              "      <td>0</td>\n",
              "      <td>0</td>\n",
              "      <td>0</td>\n",
              "      <td>0</td>\n",
              "      <td>0</td>\n",
              "      <td>0</td>\n",
              "      <td>0</td>\n",
              "      <td>0</td>\n",
              "      <td>0</td>\n",
              "      <td>0</td>\n",
              "      <td>0</td>\n",
              "      <td>0</td>\n",
              "      <td>0</td>\n",
              "      <td>0</td>\n",
              "      <td>0</td>\n",
              "      <td>0</td>\n",
              "      <td>0</td>\n",
              "      <td>0</td>\n",
              "      <td>0</td>\n",
              "      <td>1</td>\n",
              "      <td>1</td>\n",
              "      <td>1</td>\n",
              "      <td>0</td>\n",
              "      <td>0</td>\n",
              "      <td>0</td>\n",
              "      <td>0</td>\n",
              "      <td>0</td>\n",
              "      <td>...</td>\n",
              "      <td>0</td>\n",
              "      <td>0</td>\n",
              "      <td>0</td>\n",
              "      <td>0</td>\n",
              "      <td>0</td>\n",
              "      <td>0</td>\n",
              "      <td>0</td>\n",
              "      <td>0</td>\n",
              "      <td>0</td>\n",
              "      <td>0</td>\n",
              "      <td>0</td>\n",
              "      <td>0</td>\n",
              "      <td>0</td>\n",
              "      <td>0</td>\n",
              "      <td>0</td>\n",
              "      <td>0</td>\n",
              "      <td>0</td>\n",
              "      <td>0</td>\n",
              "      <td>0</td>\n",
              "      <td>0</td>\n",
              "      <td>0</td>\n",
              "      <td>0</td>\n",
              "      <td>0</td>\n",
              "      <td>0</td>\n",
              "      <td>0</td>\n",
              "      <td>0</td>\n",
              "      <td>0</td>\n",
              "      <td>0</td>\n",
              "      <td>0</td>\n",
              "      <td>0</td>\n",
              "      <td>0</td>\n",
              "      <td>0</td>\n",
              "      <td>0</td>\n",
              "      <td>0</td>\n",
              "      <td>0</td>\n",
              "      <td>0</td>\n",
              "      <td>1</td>\n",
              "      <td>1</td>\n",
              "      <td>1.266667</td>\n",
              "      <td>3</td>\n",
              "    </tr>\n",
              "    <tr>\n",
              "      <th>32465</th>\n",
              "      <td>tt0137204</td>\n",
              "      <td>2017</td>\n",
              "      <td>83</td>\n",
              "      <td>Simple-minded Joseph Briteman breaks a golden ...</td>\n",
              "      <td>8.8</td>\n",
              "      <td>264</td>\n",
              "      <td>2.0</td>\n",
              "      <td>9.6</td>\n",
              "      <td>7.5</td>\n",
              "      <td>8.6</td>\n",
              "      <td>9.0</td>\n",
              "      <td>0</td>\n",
              "      <td>1</td>\n",
              "      <td>1</td>\n",
              "      <td>1</td>\n",
              "      <td>0</td>\n",
              "      <td>0</td>\n",
              "      <td>0</td>\n",
              "      <td>0</td>\n",
              "      <td>0</td>\n",
              "      <td>0</td>\n",
              "      <td>0</td>\n",
              "      <td>0</td>\n",
              "      <td>0</td>\n",
              "      <td>0</td>\n",
              "      <td>0</td>\n",
              "      <td>0</td>\n",
              "      <td>0</td>\n",
              "      <td>0</td>\n",
              "      <td>0</td>\n",
              "      <td>0</td>\n",
              "      <td>0</td>\n",
              "      <td>0</td>\n",
              "      <td>0</td>\n",
              "      <td>0</td>\n",
              "      <td>1</td>\n",
              "      <td>0</td>\n",
              "      <td>0</td>\n",
              "      <td>0</td>\n",
              "      <td>0</td>\n",
              "      <td>...</td>\n",
              "      <td>0</td>\n",
              "      <td>0</td>\n",
              "      <td>0</td>\n",
              "      <td>0</td>\n",
              "      <td>0</td>\n",
              "      <td>0</td>\n",
              "      <td>0</td>\n",
              "      <td>0</td>\n",
              "      <td>0</td>\n",
              "      <td>0</td>\n",
              "      <td>0</td>\n",
              "      <td>0</td>\n",
              "      <td>0</td>\n",
              "      <td>0</td>\n",
              "      <td>0</td>\n",
              "      <td>0</td>\n",
              "      <td>0</td>\n",
              "      <td>0</td>\n",
              "      <td>0</td>\n",
              "      <td>0</td>\n",
              "      <td>0</td>\n",
              "      <td>0</td>\n",
              "      <td>0</td>\n",
              "      <td>0</td>\n",
              "      <td>0</td>\n",
              "      <td>0</td>\n",
              "      <td>0</td>\n",
              "      <td>0</td>\n",
              "      <td>0</td>\n",
              "      <td>0</td>\n",
              "      <td>0</td>\n",
              "      <td>0</td>\n",
              "      <td>0</td>\n",
              "      <td>0</td>\n",
              "      <td>0</td>\n",
              "      <td>0</td>\n",
              "      <td>1</td>\n",
              "      <td>1</td>\n",
              "      <td>2.133333</td>\n",
              "      <td>1</td>\n",
              "    </tr>\n",
              "    <tr>\n",
              "      <th>42166</th>\n",
              "      <td>tt0326716</td>\n",
              "      <td>2017</td>\n",
              "      <td>113</td>\n",
              "      <td>Alienated, hopeful-filmmaker Pat Johnson's epi...</td>\n",
              "      <td>6.1</td>\n",
              "      <td>304</td>\n",
              "      <td>4.0</td>\n",
              "      <td>7.0</td>\n",
              "      <td>6.7</td>\n",
              "      <td>9.0</td>\n",
              "      <td>4.2</td>\n",
              "      <td>1</td>\n",
              "      <td>0</td>\n",
              "      <td>0</td>\n",
              "      <td>1</td>\n",
              "      <td>0</td>\n",
              "      <td>0</td>\n",
              "      <td>0</td>\n",
              "      <td>0</td>\n",
              "      <td>0</td>\n",
              "      <td>0</td>\n",
              "      <td>0</td>\n",
              "      <td>0</td>\n",
              "      <td>0</td>\n",
              "      <td>0</td>\n",
              "      <td>0</td>\n",
              "      <td>0</td>\n",
              "      <td>0</td>\n",
              "      <td>0</td>\n",
              "      <td>0</td>\n",
              "      <td>0</td>\n",
              "      <td>0</td>\n",
              "      <td>0</td>\n",
              "      <td>0</td>\n",
              "      <td>1</td>\n",
              "      <td>0</td>\n",
              "      <td>0</td>\n",
              "      <td>0</td>\n",
              "      <td>0</td>\n",
              "      <td>0</td>\n",
              "      <td>...</td>\n",
              "      <td>0</td>\n",
              "      <td>0</td>\n",
              "      <td>0</td>\n",
              "      <td>0</td>\n",
              "      <td>0</td>\n",
              "      <td>0</td>\n",
              "      <td>0</td>\n",
              "      <td>0</td>\n",
              "      <td>0</td>\n",
              "      <td>0</td>\n",
              "      <td>0</td>\n",
              "      <td>0</td>\n",
              "      <td>0</td>\n",
              "      <td>0</td>\n",
              "      <td>0</td>\n",
              "      <td>0</td>\n",
              "      <td>0</td>\n",
              "      <td>0</td>\n",
              "      <td>0</td>\n",
              "      <td>0</td>\n",
              "      <td>0</td>\n",
              "      <td>0</td>\n",
              "      <td>0</td>\n",
              "      <td>0</td>\n",
              "      <td>0</td>\n",
              "      <td>0</td>\n",
              "      <td>0</td>\n",
              "      <td>0</td>\n",
              "      <td>0</td>\n",
              "      <td>0</td>\n",
              "      <td>0</td>\n",
              "      <td>0</td>\n",
              "      <td>0</td>\n",
              "      <td>0</td>\n",
              "      <td>0</td>\n",
              "      <td>0</td>\n",
              "      <td>1</td>\n",
              "      <td>1</td>\n",
              "      <td>1.600000</td>\n",
              "      <td>1</td>\n",
              "    </tr>\n",
              "    <tr>\n",
              "      <th>42695</th>\n",
              "      <td>tt0339736</td>\n",
              "      <td>2017</td>\n",
              "      <td>98</td>\n",
              "      <td>The sadistic tale of a lonely, mentally handic...</td>\n",
              "      <td>5.5</td>\n",
              "      <td>2914</td>\n",
              "      <td>46.0</td>\n",
              "      <td>6.0</td>\n",
              "      <td>5.4</td>\n",
              "      <td>6.2</td>\n",
              "      <td>5.7</td>\n",
              "      <td>0</td>\n",
              "      <td>0</td>\n",
              "      <td>0</td>\n",
              "      <td>0</td>\n",
              "      <td>1</td>\n",
              "      <td>0</td>\n",
              "      <td>0</td>\n",
              "      <td>0</td>\n",
              "      <td>0</td>\n",
              "      <td>0</td>\n",
              "      <td>0</td>\n",
              "      <td>0</td>\n",
              "      <td>0</td>\n",
              "      <td>0</td>\n",
              "      <td>0</td>\n",
              "      <td>0</td>\n",
              "      <td>0</td>\n",
              "      <td>0</td>\n",
              "      <td>0</td>\n",
              "      <td>0</td>\n",
              "      <td>0</td>\n",
              "      <td>0</td>\n",
              "      <td>0</td>\n",
              "      <td>1</td>\n",
              "      <td>0</td>\n",
              "      <td>0</td>\n",
              "      <td>0</td>\n",
              "      <td>0</td>\n",
              "      <td>0</td>\n",
              "      <td>...</td>\n",
              "      <td>0</td>\n",
              "      <td>0</td>\n",
              "      <td>0</td>\n",
              "      <td>0</td>\n",
              "      <td>0</td>\n",
              "      <td>0</td>\n",
              "      <td>0</td>\n",
              "      <td>0</td>\n",
              "      <td>0</td>\n",
              "      <td>0</td>\n",
              "      <td>0</td>\n",
              "      <td>0</td>\n",
              "      <td>0</td>\n",
              "      <td>0</td>\n",
              "      <td>0</td>\n",
              "      <td>0</td>\n",
              "      <td>0</td>\n",
              "      <td>0</td>\n",
              "      <td>0</td>\n",
              "      <td>0</td>\n",
              "      <td>0</td>\n",
              "      <td>0</td>\n",
              "      <td>0</td>\n",
              "      <td>0</td>\n",
              "      <td>0</td>\n",
              "      <td>0</td>\n",
              "      <td>0</td>\n",
              "      <td>0</td>\n",
              "      <td>0</td>\n",
              "      <td>0</td>\n",
              "      <td>0</td>\n",
              "      <td>0</td>\n",
              "      <td>0</td>\n",
              "      <td>0</td>\n",
              "      <td>0</td>\n",
              "      <td>0</td>\n",
              "      <td>1</td>\n",
              "      <td>1</td>\n",
              "      <td>2.333333</td>\n",
              "      <td>1</td>\n",
              "    </tr>\n",
              "    <tr>\n",
              "      <th>43366</th>\n",
              "      <td>tt0360556</td>\n",
              "      <td>2018</td>\n",
              "      <td>100</td>\n",
              "      <td>In a terrifying care-free future, a young man,...</td>\n",
              "      <td>4.9</td>\n",
              "      <td>16882</td>\n",
              "      <td>206.0</td>\n",
              "      <td>4.9</td>\n",
              "      <td>4.8</td>\n",
              "      <td>5.2</td>\n",
              "      <td>4.9</td>\n",
              "      <td>1</td>\n",
              "      <td>0</td>\n",
              "      <td>0</td>\n",
              "      <td>0</td>\n",
              "      <td>0</td>\n",
              "      <td>1</td>\n",
              "      <td>1</td>\n",
              "      <td>0</td>\n",
              "      <td>0</td>\n",
              "      <td>0</td>\n",
              "      <td>0</td>\n",
              "      <td>0</td>\n",
              "      <td>0</td>\n",
              "      <td>0</td>\n",
              "      <td>0</td>\n",
              "      <td>0</td>\n",
              "      <td>0</td>\n",
              "      <td>0</td>\n",
              "      <td>0</td>\n",
              "      <td>0</td>\n",
              "      <td>0</td>\n",
              "      <td>0</td>\n",
              "      <td>0</td>\n",
              "      <td>1</td>\n",
              "      <td>0</td>\n",
              "      <td>0</td>\n",
              "      <td>0</td>\n",
              "      <td>0</td>\n",
              "      <td>0</td>\n",
              "      <td>...</td>\n",
              "      <td>0</td>\n",
              "      <td>0</td>\n",
              "      <td>0</td>\n",
              "      <td>0</td>\n",
              "      <td>0</td>\n",
              "      <td>0</td>\n",
              "      <td>0</td>\n",
              "      <td>0</td>\n",
              "      <td>0</td>\n",
              "      <td>0</td>\n",
              "      <td>0</td>\n",
              "      <td>0</td>\n",
              "      <td>0</td>\n",
              "      <td>0</td>\n",
              "      <td>0</td>\n",
              "      <td>0</td>\n",
              "      <td>0</td>\n",
              "      <td>0</td>\n",
              "      <td>0</td>\n",
              "      <td>0</td>\n",
              "      <td>0</td>\n",
              "      <td>0</td>\n",
              "      <td>0</td>\n",
              "      <td>0</td>\n",
              "      <td>0</td>\n",
              "      <td>0</td>\n",
              "      <td>0</td>\n",
              "      <td>0</td>\n",
              "      <td>0</td>\n",
              "      <td>0</td>\n",
              "      <td>0</td>\n",
              "      <td>0</td>\n",
              "      <td>0</td>\n",
              "      <td>0</td>\n",
              "      <td>0</td>\n",
              "      <td>0</td>\n",
              "      <td>1</td>\n",
              "      <td>1</td>\n",
              "      <td>2.066667</td>\n",
              "      <td>2</td>\n",
              "    </tr>\n",
              "  </tbody>\n",
              "</table>\n",
              "<p>5 rows × 175 columns</p>\n",
              "</div>"
            ],
            "text/plain": [
              "      imdb_title_id  year  ...  actor_score production_company_score\n",
              "15675     tt0069049  2018  ...     1.266667                        3\n",
              "32465     tt0137204  2017  ...     2.133333                        1\n",
              "42166     tt0326716  2017  ...     1.600000                        1\n",
              "42695     tt0339736  2017  ...     2.333333                        1\n",
              "43366     tt0360556  2018  ...     2.066667                        2\n",
              "\n",
              "[5 rows x 175 columns]"
            ]
          },
          "metadata": {
            "tags": []
          },
          "execution_count": 38
        }
      ]
    },
    {
      "cell_type": "code",
      "metadata": {
        "id": "iYXRHFjZjIUE"
      },
      "source": [
        "df_movies.to_csv('processed.csv')"
      ],
      "execution_count": null,
      "outputs": []
    },
    {
      "cell_type": "code",
      "metadata": {
        "id": "NiSPBaeWjoFd"
      },
      "source": [
        "#런타임 초기화시 이 셀에서부터\n",
        "df_movies = pd.read_csv('processed.csv')\n",
        "df_movies = df_movies.drop(columns=['Unnamed: 0'])"
      ],
      "execution_count": null,
      "outputs": []
    },
    {
      "cell_type": "code",
      "metadata": {
        "id": "xueJcdaKlAJx"
      },
      "source": [
        "#df_movies.head()"
      ],
      "execution_count": null,
      "outputs": []
    },
    {
      "cell_type": "code",
      "metadata": {
        "id": "EY6YDHGB-Fjo"
      },
      "source": [
        "#먼저 toysize로 실행\n",
        "#df_movies = df_movies.head(5000)"
      ],
      "execution_count": null,
      "outputs": []
    },
    {
      "cell_type": "markdown",
      "metadata": {
        "id": "z_zEQbBYqpLD"
      },
      "source": [
        "모델을 만들기에 앞서, 무작위로 추천/비추천을 했을 때의 정답률을 확률적으로 가정하기 위해, baseline 모델의 점수를 확인해보자"
      ]
    },
    {
      "cell_type": "code",
      "metadata": {
        "id": "xbCq_i9Vyl3o"
      },
      "source": [
        "#이번 모델은 모든 사용자의 점수를 기준으로 만든다.\n",
        "target = 'avg_vote'"
      ],
      "execution_count": null,
      "outputs": []
    },
    {
      "cell_type": "code",
      "metadata": {
        "id": "TVGC5g6a1CqO"
      },
      "source": [
        "df_movies = df_movies.dropna(subset=[target])"
      ],
      "execution_count": null,
      "outputs": []
    },
    {
      "cell_type": "code",
      "metadata": {
        "colab": {
          "base_uri": "https://localhost:8080/",
          "height": 265
        },
        "id": "hFnL0wDT6bjH",
        "outputId": "61bca99b-b1e5-40ec-eaaf-1d5de1f3f1d2"
      },
      "source": [
        "plt.hist(df_movies.avg_vote,bins=np.arange(0,10,0.5))\n",
        "plt.xticks(np.arange(0, 10, step=1));"
      ],
      "execution_count": null,
      "outputs": [
        {
          "output_type": "display_data",
          "data": {
            "image/png": "[encoded data removed]",
            "text/plain": [
              "<Figure size 432x288 with 1 Axes>"
            ]
          },
          "metadata": {
            "tags": [],
            "needs_background": "light"
          }
        }
      ]
    },
    {
      "cell_type": "markdown",
      "metadata": {
        "id": "PPsFgT185w-I"
      },
      "source": [
        "추천 classification을 위해 6.0 이상은 True 그 이하는 False로 값을 변경해준다."
      ]
    },
    {
      "cell_type": "code",
      "metadata": {
        "id": "lAJj5WdOqMPC"
      },
      "source": [
        "#rating 6.5 이상은 true, 그 이하는 false로 avg_vote값을 변경 \n",
        "df_movies[target] = (df_movies[target] >= 6.0)\n",
        "#df_movies[target].value_counts(normalize=True)"
      ],
      "execution_count": null,
      "outputs": []
    },
    {
      "cell_type": "code",
      "metadata": {
        "colab": {
          "base_uri": "https://localhost:8080/"
        },
        "id": "DZksuVsH8dm0",
        "outputId": "897d5fa2-f5d6-4c47-e1c5-7b3fb572bcca"
      },
      "source": [
        "df_movies[target].value_counts(normalize=True)"
      ],
      "execution_count": null,
      "outputs": [
        {
          "output_type": "execute_result",
          "data": {
            "text/plain": [
              "False    0.554522\n",
              "True     0.445478\n",
              "Name: avg_vote, dtype: float64"
            ]
          },
          "metadata": {
            "tags": []
          },
          "execution_count": 47
        }
      ]
    },
    {
      "cell_type": "markdown",
      "metadata": {
        "id": "Fmc60THGNfSX"
      },
      "source": [
        "baseline의 점수는 55.4% 이다."
      ]
    },
    {
      "cell_type": "code",
      "metadata": {
        "colab": {
          "base_uri": "https://localhost:8080/"
        },
        "id": "XkA0ydAqMaEU",
        "outputId": "01235780-9a22-4234-cf94-a52771929ac9"
      },
      "source": [
        "#train, test 분리\n",
        "from sklearn.model_selection import train_test_split\n",
        "\n",
        "train, test = train_test_split(df_movies, test_size=0.2, \n",
        "                              stratify=df_movies['avg_vote'], random_state=2)\n",
        "train.shape, test.shape"
      ],
      "execution_count": null,
      "outputs": [
        {
          "output_type": "execute_result",
          "data": {
            "text/plain": [
              "((5678, 175), (1420, 175))"
            ]
          },
          "metadata": {
            "tags": []
          },
          "execution_count": 48
        }
      ]
    },
    {
      "cell_type": "code",
      "metadata": {
        "id": "RgyctvmknT_B"
      },
      "source": [
        "#text input에 대한 데이터 따로 추출\n",
        "X_train_text = train['description']\n",
        "X_test_text = test['description']"
      ],
      "execution_count": null,
      "outputs": []
    },
    {
      "cell_type": "code",
      "metadata": {
        "id": "sVOdpKqaTAI1"
      },
      "source": [
        "y_train = train[target]\n",
        "y_test = test[target]"
      ],
      "execution_count": null,
      "outputs": []
    },
    {
      "cell_type": "code",
      "metadata": {
        "id": "hoD5rgFclq_8"
      },
      "source": [
        "#기타 영화 정보 데이터 추출 \n",
        "X_train_info = train.drop(columns=['avg_vote','votes','imdb_title_id','description','reviews_from_users','males_18age_avg_vote','males_30age_avg_vote','females_18age_avg_vote','females_30age_avg_vote'])\n",
        "X_test_info = test.drop(columns=['avg_vote','votes','imdb_title_id','description','reviews_from_users','males_18age_avg_vote','males_30age_avg_vote','females_18age_avg_vote','females_30age_avg_vote'])"
      ],
      "execution_count": null,
      "outputs": []
    },
    {
      "cell_type": "code",
      "metadata": {
        "colab": {
          "base_uri": "https://localhost:8080/"
        },
        "id": "xqBmYVxKpLt5",
        "outputId": "46adf5a9-018b-4525-8c1c-8e8ac80d55b3"
      },
      "source": [
        "X_train_info.shape"
      ],
      "execution_count": null,
      "outputs": [
        {
          "output_type": "execute_result",
          "data": {
            "text/plain": [
              "(5678, 166)"
            ]
          },
          "metadata": {
            "tags": []
          },
          "execution_count": 52
        }
      ]
    },
    {
      "cell_type": "markdown",
      "metadata": {
        "id": "8iwY7ulRrMuz"
      },
      "source": [
        "##영화 이미지 업로드"
      ]
    },
    {
      "cell_type": "markdown",
      "metadata": {
        "id": "nPUdChnv1kwG"
      },
      "source": [
        "먼저 인터넷에서 영화 포스터를 다운"
      ]
    },
    {
      "cell_type": "code",
      "metadata": {
        "colab": {
          "base_uri": "https://localhost:8080/"
        },
        "id": "f_LPqe9P1ju5",
        "outputId": "b020d9e7-e3e9-4858-9ebe-2ec362d9860d"
      },
      "source": [
        "!pip install movieposters"
      ],
      "execution_count": null,
      "outputs": [
        {
          "output_type": "stream",
          "text": [
            "Collecting movieposters\n",
            "  Downloading https://files.pythonhosted.org/packages/3a/77/3d3e11ec31c70060795f0ba3a844b4638f655ea1e1028b5601c5e5b24e47/movieposters-0.0.5-py3-none-any.whl\n",
            "Collecting beautifulsoup4<5.0.0,>=4.9.0\n",
            "\u001b[?25l  Downloading https://files.pythonhosted.org/packages/d1/41/e6495bd7d3781cee623ce23ea6ac73282a373088fcd0ddc809a047b18eae/beautifulsoup4-4.9.3-py3-none-any.whl (115kB)\n",
            "\u001b[K     |████████████████████████████████| 122kB 5.9MB/s \n",
            "\u001b[?25hCollecting urllib3<2.0.0,>=1.25.9\n",
            "\u001b[?25l  Downloading https://files.pythonhosted.org/packages/09/c6/d3e3abe5b4f4f16cf0dfc9240ab7ce10c2baa0e268989a4e3ec19e90c84e/urllib3-1.26.4-py2.py3-none-any.whl (153kB)\n",
            "\u001b[K     |████████████████████████████████| 153kB 5.7MB/s \n",
            "\u001b[?25hCollecting lxml<5.0.0,>=4.5.0\n",
            "\u001b[?25l  Downloading https://files.pythonhosted.org/packages/cf/4d/6537313bf58fe22b508f08cf3eb86b29b6f9edf68e00454224539421073b/lxml-4.6.3-cp37-cp37m-manylinux1_x86_64.whl (5.5MB)\n",
            "\u001b[K     |████████████████████████████████| 5.5MB 7.4MB/s \n",
            "\u001b[?25hCollecting soupsieve>1.2; python_version >= \"3.0\"\n",
            "  Downloading https://files.pythonhosted.org/packages/36/69/d82d04022f02733bf9a72bc3b96332d360c0c5307096d76f6bb7489f7e57/soupsieve-2.2.1-py3-none-any.whl\n",
            "\u001b[31mERROR: requests 2.23.0 has requirement urllib3!=1.25.0,!=1.25.1,<1.26,>=1.21.1, but you'll have urllib3 1.26.4 which is incompatible.\u001b[0m\n",
            "\u001b[31mERROR: datascience 0.10.6 has requirement folium==0.2.1, but you'll have folium 0.8.3 which is incompatible.\u001b[0m\n",
            "Installing collected packages: soupsieve, beautifulsoup4, urllib3, lxml, movieposters\n",
            "  Found existing installation: beautifulsoup4 4.6.3\n",
            "    Uninstalling beautifulsoup4-4.6.3:\n",
            "      Successfully uninstalled beautifulsoup4-4.6.3\n",
            "  Found existing installation: urllib3 1.24.3\n",
            "    Uninstalling urllib3-1.24.3:\n",
            "      Successfully uninstalled urllib3-1.24.3\n",
            "  Found existing installation: lxml 4.2.6\n",
            "    Uninstalling lxml-4.2.6:\n",
            "      Successfully uninstalled lxml-4.2.6\n",
            "Successfully installed beautifulsoup4-4.9.3 lxml-4.6.3 movieposters-0.0.5 soupsieve-2.2.1 urllib3-1.26.4\n"
          ],
          "name": "stdout"
        }
      ]
    },
    {
      "cell_type": "code",
      "metadata": {
        "id": "TTwgpzMJ6OKQ"
      },
      "source": [
        "#temp.index[temp['imdb_title_id'] == 'tt0147867']"
      ],
      "execution_count": null,
      "outputs": []
    },
    {
      "cell_type": "code",
      "metadata": {
        "colab": {
          "base_uri": "https://localhost:8080/"
        },
        "id": "Fnw2gLkc3ddK",
        "outputId": "31605432-e4ee-49f0-f880-2837fcb3c996"
      },
      "source": [
        "df_movies['imdb_title_id']"
      ],
      "execution_count": null,
      "outputs": [
        {
          "output_type": "execute_result",
          "data": {
            "text/plain": [
              "0       tt0069049\n",
              "1       tt0137204\n",
              "2       tt0326716\n",
              "3       tt0339736\n",
              "4       tt0360556\n",
              "          ...    \n",
              "7093    tt9896916\n",
              "7094    tt9898858\n",
              "7095    tt9900060\n",
              "7096    tt9904802\n",
              "7097    tt9911196\n",
              "Name: imdb_title_id, Length: 7098, dtype: object"
            ]
          },
          "metadata": {
            "tags": []
          },
          "execution_count": 55
        }
      ]
    },
    {
      "cell_type": "code",
      "metadata": {
        "id": "ttaM-Efy1v9Q"
      },
      "source": [
        "#구글 드라이브 업로드 이후에는 사용 안함\n",
        "\n",
        "# import movieposters as mp\n",
        "# import urllib.request\n",
        "\n",
        "# p = 1\n",
        "# no_poster = []\n",
        "# for i in df_movies['imdb_title_id']:    #해당 id로 영화의 포스터를 조회하여 다운받아 저장한다.\n",
        "#   if p % 50 == 0:\n",
        "#     print(p)\n",
        "#   save_id = i\n",
        "#   try:\n",
        "#     link = mp.get_poster(id = i)\n",
        "#   except:\n",
        "#     print(i,'not exist')\n",
        "#     no_poster.append(i)\n",
        "#   urllib.request.urlretrieve(link, \"/content/drive/MyDrive/Section4_poster/\" + i + '_' + '0' + '.jpg')\n",
        "#   p = p + 1"
      ],
      "execution_count": null,
      "outputs": []
    },
    {
      "cell_type": "code",
      "metadata": {
        "id": "Db_w23RJrShk"
      },
      "source": [
        "from skimage import color, io\n",
        "from skimage.transform import resize\n",
        "import os"
      ],
      "execution_count": null,
      "outputs": []
    },
    {
      "cell_type": "code",
      "metadata": {
        "colab": {
          "base_uri": "https://localhost:8080/"
        },
        "id": "68xslkTTt_rJ",
        "outputId": "b0f1d7bb-7ad1-47be-b7f3-d7d23fef985f"
      },
      "source": [
        "len(train['imdb_title_id'])"
      ],
      "execution_count": null,
      "outputs": [
        {
          "output_type": "execute_result",
          "data": {
            "text/plain": [
              "5678"
            ]
          },
          "metadata": {
            "tags": []
          },
          "execution_count": 58
        }
      ]
    },
    {
      "cell_type": "code",
      "metadata": {
        "id": "R1vu8HfivlkM"
      },
      "source": [
        "#포스터 이미지 데이터를 저장할 matrix 선언\n",
        "X_train_images = np.empty((len(train['imdb_title_id']),150,150,3))\n",
        "X_test_images = np.empty((len(test['imdb_title_id']),150,150,3))"
      ],
      "execution_count": null,
      "outputs": []
    },
    {
      "cell_type": "code",
      "metadata": {
        "id": "MSd5ffUhuBX5"
      },
      "source": [
        "#저장파일 불러올때는 실행안함\n",
        "\n",
        "# p = 0\n",
        "# for i in range(len(train['imdb_title_id'])):\n",
        "#   if p % 50 == 0:\n",
        "#     print(p)\n",
        "#   file_name = train['imdb_title_id'].iloc[i] + '_0.jpg'\n",
        "#   image_down = io.imread_collection(os.path.join('/content/drive/MyDrive/Section4_poster/', file_name)) #이미지를 저장한 구글 드라이브에서 다운로드\n",
        "#   if len(image_down) == 0 or len(image_down[0].shape) == 2: #해당 이미지가 없거나 흑백일 경우, zero matrix로 저장\n",
        "#     X_train_images[i] = np.zeros((150,150,3))\n",
        "#   else:\n",
        "#     poster_image = resize(image_down[0], (150, 150))  #(150 x 150 사이즈로 resize 진행\n",
        "#     try:\n",
        "#       X_train_images[i] = poster_image\n",
        "#     except:\n",
        "#       print(file_name)\n",
        "#   p = p+1\n",
        "\n",
        "\n",
        "# #test set에 대해서도 동일하게 진행\n",
        "# for i in range(len(test['imdb_title_id'])):\n",
        "#   if p % 50 == 0:\n",
        "#     print(p)\n",
        "#   file_name = test['imdb_title_id'].iloc[i] + '_0.jpg'\n",
        "#   image_down = io.imread_collection(os.path.join('/content/drive/MyDrive/Section4_poster/', file_name))\n",
        "#   if len(image_down) == 0 or len(image_down[0].shape) == 2:\n",
        "#     X_test_images[i] = np.zeros((150,150,3))\n",
        "#   else:\n",
        "#     poster_image = resize(image_down[0], (150, 150))\n",
        "#     X_test_images[i] = poster_image\n",
        "#   p = p+1"
      ],
      "execution_count": null,
      "outputs": []
    },
    {
      "cell_type": "code",
      "metadata": {
        "colab": {
          "base_uri": "https://localhost:8080/"
        },
        "id": "pcoNTdplKcCW",
        "outputId": "65df5988-2dea-465d-b447-9b0595ef8edf"
      },
      "source": [
        "X_test_images.shape"
      ],
      "execution_count": null,
      "outputs": [
        {
          "output_type": "execute_result",
          "data": {
            "text/plain": [
              "(1420, 150, 150, 3)"
            ]
          },
          "metadata": {
            "tags": []
          },
          "execution_count": 61
        }
      ]
    },
    {
      "cell_type": "code",
      "metadata": {
        "id": "sh4Z9HXLjQGN"
      },
      "source": [
        "#저장 완료\n",
        "\n",
        "# np.savez_compressed('/content/drive/My Drive/X_train_images2',X_train_images)\n",
        "# np.savez_compressed('/content/drive/My Drive/X_test_images2',X_test_images)"
      ],
      "execution_count": null,
      "outputs": []
    },
    {
      "cell_type": "code",
      "metadata": {
        "id": "9XADneTs7PHx"
      },
      "source": [
        "X_train_images = np.load('/content/drive/My Drive/X_train_images2.npz')"
      ],
      "execution_count": null,
      "outputs": []
    },
    {
      "cell_type": "code",
      "metadata": {
        "id": "J6RzKuUY71Yp"
      },
      "source": [
        "X_train_images = X_train_images['arr_0']"
      ],
      "execution_count": null,
      "outputs": []
    },
    {
      "cell_type": "code",
      "metadata": {
        "id": "hmHeFzcX8XTp"
      },
      "source": [
        "X_test_images = np.load('/content/drive/My Drive/X_test_images2.npz')\n",
        "X_test_images = X_test_images['arr_0']"
      ],
      "execution_count": null,
      "outputs": []
    },
    {
      "cell_type": "markdown",
      "metadata": {
        "id": "46N-SMGGmOSu"
      },
      "source": [
        "##1. 기타 영화정보를 처리하는 기본 신경망 architecture 만들기"
      ]
    },
    {
      "cell_type": "code",
      "metadata": {
        "colab": {
          "base_uri": "https://localhost:8080/"
        },
        "id": "MHyS5A9qmNzI",
        "outputId": "ed8096e9-7f0f-4416-bac0-24d558ec579e"
      },
      "source": [
        "import tensorflow as tf\n",
        "from tensorflow.keras import Sequential\n",
        "from tensorflow.keras.layers import Embedding, Flatten, Dense, LSTM\n",
        "from keras.models import Model\n",
        "\n",
        "info_input = tf.keras.Input(shape=(166,),name = 'movie_info')\n",
        "X3 = Dense(64, activation='relu', input_shape=(166,))(info_input)\n",
        "X3 = Dense(64, activation='relu')(X3)\n",
        "\n",
        "model3 = Model(info_input,X3)\n",
        "\n",
        "model3.summary()"
      ],
      "execution_count": null,
      "outputs": [
        {
          "output_type": "stream",
          "text": [
            "/usr/local/lib/python3.7/dist-packages/requests/__init__.py:91: RequestsDependencyWarning: urllib3 (1.26.4) or chardet (3.0.4) doesn't match a supported version!\n",
            "  RequestsDependencyWarning)\n"
          ],
          "name": "stderr"
        },
        {
          "output_type": "stream",
          "text": [
            "Model: \"model\"\n",
            "_________________________________________________________________\n",
            "Layer (type)                 Output Shape              Param #   \n",
            "=================================================================\n",
            "movie_info (InputLayer)      [(None, 166)]             0         \n",
            "_________________________________________________________________\n",
            "dense (Dense)                (None, 64)                10688     \n",
            "_________________________________________________________________\n",
            "dense_1 (Dense)              (None, 64)                4160      \n",
            "=================================================================\n",
            "Total params: 14,848\n",
            "Trainable params: 14,848\n",
            "Non-trainable params: 0\n",
            "_________________________________________________________________\n"
          ],
          "name": "stdout"
        }
      ]
    },
    {
      "cell_type": "markdown",
      "metadata": {
        "id": "TgLb93wPql-8"
      },
      "source": [
        "##2. description 정보 encoding 및 학습을 위한 NLP LSTM RNN 만들기"
      ]
    },
    {
      "cell_type": "code",
      "metadata": {
        "id": "ucxLzVd1n3tw"
      },
      "source": [
        "from tensorflow.keras.preprocessing.text import Tokenizer\n",
        "from tensorflow.keras.preprocessing.sequence import pad_sequences"
      ],
      "execution_count": null,
      "outputs": []
    },
    {
      "cell_type": "code",
      "metadata": {
        "id": "9lEE4tzCm0vs"
      },
      "source": [
        "tokenizer = Tokenizer(num_words=5000)\n",
        "tokenizer.fit_on_texts(X_train_text)\n",
        "\n",
        "X_train_text = tokenizer.texts_to_sequences(X_train_text)\n",
        "X_test_text = tokenizer.texts_to_sequences(X_test_text)"
      ],
      "execution_count": null,
      "outputs": []
    },
    {
      "cell_type": "code",
      "metadata": {
        "colab": {
          "base_uri": "https://localhost:8080/"
        },
        "id": "u6LEg3rbqnCw",
        "outputId": "b4a998fa-5fe1-4573-f505-107e42aa7015"
      },
      "source": [
        "max = 1\n",
        "for i in X_train_text:\n",
        "  if max < len(i):\n",
        "    max = len(i)\n",
        "print(max)\n",
        "\n",
        "for i in X_test_text:\n",
        "  if max < len(i):\n",
        "    max = len(i)\n",
        "print(max)"
      ],
      "execution_count": null,
      "outputs": [
        {
          "output_type": "stream",
          "text": [
            "74\n",
            "74\n"
          ],
          "name": "stdout"
        }
      ]
    },
    {
      "cell_type": "code",
      "metadata": {
        "id": "mHDDrsAtnfuG"
      },
      "source": [
        "vocab_size = len(tokenizer.word_index) + 1\n",
        "\n",
        "maxlen = max\n",
        "\n",
        "X_train_text = pad_sequences(X_train_text, padding='post', maxlen=maxlen)\n",
        "X_test_text = pad_sequences(X_test_text, padding='post', maxlen=maxlen)"
      ],
      "execution_count": null,
      "outputs": []
    },
    {
      "cell_type": "code",
      "metadata": {
        "colab": {
          "base_uri": "https://localhost:8080/"
        },
        "id": "pOJm3mW-qdQ3",
        "outputId": "1abf3acb-1208-4e40-be66-138185f6bb4c"
      },
      "source": [
        "X_test_text.shape"
      ],
      "execution_count": null,
      "outputs": [
        {
          "output_type": "execute_result",
          "data": {
            "text/plain": [
              "(1420, 74)"
            ]
          },
          "metadata": {
            "tags": []
          },
          "execution_count": 68
        }
      ]
    },
    {
      "cell_type": "code",
      "metadata": {
        "id": "chnns_UrrrOx"
      },
      "source": [
        "from numpy import array\n",
        "from numpy import asarray\n",
        "from numpy import zeros\n",
        "\n",
        "#glove_file 외부 코퍼스 파일을 사용\n",
        "embeddings_dictionary = dict()\n",
        "glove_file = open('/content/drive/MyDrive/glove.6B.100d.txt', encoding=\"utf8\")\n",
        "\n",
        "for line in glove_file:\n",
        "    records = line.split()\n",
        "    word = records[0]\n",
        "    vector_dimensions = asarray(records[1:], dtype='float32')\n",
        "    embeddings_dictionary [word] = vector_dimensions\n",
        "glove_file.close()"
      ],
      "execution_count": null,
      "outputs": []
    },
    {
      "cell_type": "code",
      "metadata": {
        "id": "NOuwywwDsmEL"
      },
      "source": [
        "embedding_matrix = zeros((vocab_size, 100))\n",
        "for word, index in tokenizer.word_index.items():\n",
        "    embedding_vector = embeddings_dictionary.get(word)\n",
        "    if embedding_vector is not None:\n",
        "        embedding_matrix[index] = embedding_vector"
      ],
      "execution_count": null,
      "outputs": []
    },
    {
      "cell_type": "code",
      "metadata": {
        "colab": {
          "base_uri": "https://localhost:8080/"
        },
        "id": "uuVNi2Ohs0HU",
        "outputId": "0438fde7-52bb-4611-ae7e-53e76400a5ac"
      },
      "source": [
        "embedding_matrix.shape"
      ],
      "execution_count": null,
      "outputs": [
        {
          "output_type": "execute_result",
          "data": {
            "text/plain": [
              "(16952, 100)"
            ]
          },
          "metadata": {
            "tags": []
          },
          "execution_count": 71
        }
      ]
    },
    {
      "cell_type": "code",
      "metadata": {
        "colab": {
          "base_uri": "https://localhost:8080/"
        },
        "id": "UZNOMieithGL",
        "outputId": "9e3b7e6b-4b98-4653-f7b9-7a41dc353af0"
      },
      "source": [
        "import tensorflow as tf\n",
        "from tensorflow.keras import Sequential\n",
        "from tensorflow.keras.layers import Embedding, Flatten, Dense, LSTM\n",
        "from keras.models import Model\n",
        "#model = Sequential()\n",
        "#embedding_layer = Embedding(vocab_size, 100, weights=[embedding_matrix], input_length=maxlen , trainable=False)\n",
        "#model.add(embedding_layer)\n",
        "#model.add(LSTM(128))\n",
        "\n",
        "text_input = tf.keras.Input(shape=(None,),name = 'synopsis')\n",
        "X = Embedding(vocab_size, 100, weights=[embedding_matrix], input_length=maxlen , trainable=False)(text_input)\n",
        "X = LSTM(128)(X)\n",
        "\n",
        "model1 = Model(text_input,X)\n",
        "\n",
        "model1.summary()"
      ],
      "execution_count": null,
      "outputs": [
        {
          "output_type": "stream",
          "text": [
            "Model: \"model_1\"\n",
            "_________________________________________________________________\n",
            "Layer (type)                 Output Shape              Param #   \n",
            "=================================================================\n",
            "synopsis (InputLayer)        [(None, None)]            0         \n",
            "_________________________________________________________________\n",
            "embedding (Embedding)        (None, None, 100)         1695200   \n",
            "_________________________________________________________________\n",
            "lstm (LSTM)                  (None, 128)               117248    \n",
            "=================================================================\n",
            "Total params: 1,812,448\n",
            "Trainable params: 117,248\n",
            "Non-trainable params: 1,695,200\n",
            "_________________________________________________________________\n"
          ],
          "name": "stdout"
        }
      ]
    },
    {
      "cell_type": "markdown",
      "metadata": {
        "id": "sY-m6ZMeqzkF"
      },
      "source": [
        "##3. 이미지를 학습하는 CNN 모델링 "
      ]
    },
    {
      "cell_type": "code",
      "metadata": {
        "colab": {
          "base_uri": "https://localhost:8080/"
        },
        "id": "R9EsKQnjlZUI",
        "outputId": "5c0d20a9-a56a-4474-f264-c184a19e19a7"
      },
      "source": [
        "from keras.applications import VGG16\n",
        "from tensorflow.keras import layers\n",
        "\n",
        "image_input = tf.keras.Input(shape=(150, 150, 3), name='image')\n",
        "vgg16 = VGG16(weights='imagenet',\n",
        "                  include_top=False,\n",
        "                  input_shape=(150, 150, 3))(image_input)\n",
        "X2 = layers.Flatten()(vgg16) \n",
        "X2 = layers.Dense(256, activation='relu')(X2)\n",
        "\n",
        "model2 = Model(image_input,X2)\n",
        "\n",
        "model2.summary()"
      ],
      "execution_count": null,
      "outputs": [
        {
          "output_type": "stream",
          "text": [
            "Downloading data from https://storage.googleapis.com/tensorflow/keras-applications/vgg16/vgg16_weights_tf_dim_ordering_tf_kernels_notop.h5\n",
            "58892288/58889256 [==============================] - 1s 0us/step\n",
            "Model: \"model_2\"\n",
            "_________________________________________________________________\n",
            "Layer (type)                 Output Shape              Param #   \n",
            "=================================================================\n",
            "image (InputLayer)           [(None, 150, 150, 3)]     0         \n",
            "_________________________________________________________________\n",
            "vgg16 (Functional)           (None, 4, 4, 512)         14714688  \n",
            "_________________________________________________________________\n",
            "flatten (Flatten)            (None, 8192)              0         \n",
            "_________________________________________________________________\n",
            "dense_2 (Dense)              (None, 256)               2097408   \n",
            "=================================================================\n",
            "Total params: 16,812,096\n",
            "Trainable params: 16,812,096\n",
            "Non-trainable params: 0\n",
            "_________________________________________________________________\n"
          ],
          "name": "stdout"
        }
      ]
    },
    {
      "cell_type": "markdown",
      "metadata": {
        "id": "Y_8ZruXA4nas"
      },
      "source": [
        "## 4. 세 가지 모델을 합쳐서 최종 모델을 만든다."
      ]
    },
    {
      "cell_type": "code",
      "metadata": {
        "colab": {
          "base_uri": "https://localhost:8080/"
        },
        "id": "nSGozKJG7Qd3",
        "outputId": "a14f8bb6-70cd-4fa2-c443-7a63a63d8a7e"
      },
      "source": [
        "concatenated = layers.concatenate([X, X2, X3], axis=-1)\n",
        "output = layers.Dense(1, activation='sigmoid')(concatenated)\n",
        "model = Model([text_input,image_input,info_input],output)\n",
        "model.summary()\n",
        "\n",
        "# from tensorflow.keras.wrappers.scikit_learn import KerasClassifier\n",
        "# concatenated = layers.concatenate([X, X2, X3], axis=-1)\n",
        "# output = layers.Dense(1, activation='sigmoid')(concatenated)\n",
        "# model = Model([text_input,image_input,info_input],output)\n",
        "# model.compile(optimizer='adam', loss='binary_crossentropy', metrics=['accuracy'])\n",
        "# model = KerasClassifier(build_fn=model, verbose=0)"
      ],
      "execution_count": null,
      "outputs": [
        {
          "output_type": "stream",
          "text": [
            "Model: \"model_3\"\n",
            "__________________________________________________________________________________________________\n",
            "Layer (type)                    Output Shape         Param #     Connected to                     \n",
            "==================================================================================================\n",
            "image (InputLayer)              [(None, 150, 150, 3) 0                                            \n",
            "__________________________________________________________________________________________________\n",
            "synopsis (InputLayer)           [(None, None)]       0                                            \n",
            "__________________________________________________________________________________________________\n",
            "vgg16 (Functional)              (None, 4, 4, 512)    14714688    image[0][0]                      \n",
            "__________________________________________________________________________________________________\n",
            "movie_info (InputLayer)         [(None, 166)]        0                                            \n",
            "__________________________________________________________________________________________________\n",
            "embedding (Embedding)           (None, None, 100)    1695200     synopsis[0][0]                   \n",
            "__________________________________________________________________________________________________\n",
            "flatten (Flatten)               (None, 8192)         0           vgg16[0][0]                      \n",
            "__________________________________________________________________________________________________\n",
            "dense (Dense)                   (None, 64)           10688       movie_info[0][0]                 \n",
            "__________________________________________________________________________________________________\n",
            "lstm (LSTM)                     (None, 128)          117248      embedding[0][0]                  \n",
            "__________________________________________________________________________________________________\n",
            "dense_2 (Dense)                 (None, 256)          2097408     flatten[0][0]                    \n",
            "__________________________________________________________________________________________________\n",
            "dense_1 (Dense)                 (None, 64)           4160        dense[0][0]                      \n",
            "__________________________________________________________________________________________________\n",
            "concatenate (Concatenate)       (None, 448)          0           lstm[0][0]                       \n",
            "                                                                 dense_2[0][0]                    \n",
            "                                                                 dense_1[0][0]                    \n",
            "__________________________________________________________________________________________________\n",
            "dense_3 (Dense)                 (None, 1)            449         concatenate[0][0]                \n",
            "==================================================================================================\n",
            "Total params: 18,639,841\n",
            "Trainable params: 16,944,641\n",
            "Non-trainable params: 1,695,200\n",
            "__________________________________________________________________________________________________\n"
          ],
          "name": "stdout"
        }
      ]
    },
    {
      "cell_type": "markdown",
      "metadata": {
        "id": "ON1VX-QONmYA"
      },
      "source": [
        "##모델 컴파일 및 학습 진행"
      ]
    },
    {
      "cell_type": "code",
      "metadata": {
        "id": "M2oBuzZETW00"
      },
      "source": [
        "model.compile(optimizer='adam', loss='binary_crossentropy', metrics=['accuracy'])"
      ],
      "execution_count": null,
      "outputs": []
    },
    {
      "cell_type": "code",
      "metadata": {
        "colab": {
          "base_uri": "https://localhost:8080/"
        },
        "id": "29sWU4mXTb4p",
        "outputId": "d918b182-c9a5-43c0-c2ad-91c94f1df8f9"
      },
      "source": [
        "#저장파일 불러올때는 실행안함\n",
        "\n",
        "model.fit([X_train_text, X_train_images,X_train_info], y_train, validation_split=0.2, epochs=30, batch_size=128)"
      ],
      "execution_count": null,
      "outputs": [
        {
          "output_type": "stream",
          "text": [
            "Epoch 1/30\n",
            "36/36 [==============================] - 32s 657ms/step - loss: 32.6284 - accuracy: 0.5451 - val_loss: 0.6661 - val_accuracy: 0.6171\n",
            "Epoch 2/30\n",
            "36/36 [==============================] - 15s 418ms/step - loss: 0.6760 - accuracy: 0.5914 - val_loss: 0.8586 - val_accuracy: 0.4560\n",
            "Epoch 3/30\n",
            "36/36 [==============================] - 15s 416ms/step - loss: 0.7051 - accuracy: 0.5691 - val_loss: 0.6284 - val_accuracy: 0.6673\n",
            "Epoch 4/30\n",
            "36/36 [==============================] - 15s 417ms/step - loss: 0.6661 - accuracy: 0.6024 - val_loss: 0.6244 - val_accuracy: 0.6461\n",
            "Epoch 5/30\n",
            "36/36 [==============================] - 15s 417ms/step - loss: 0.6437 - accuracy: 0.6303 - val_loss: 0.6708 - val_accuracy: 0.5863\n",
            "Epoch 6/30\n",
            "36/36 [==============================] - 15s 417ms/step - loss: 0.6153 - accuracy: 0.6614 - val_loss: 0.6771 - val_accuracy: 0.5924\n",
            "Epoch 7/30\n",
            "36/36 [==============================] - 15s 417ms/step - loss: 0.6439 - accuracy: 0.6411 - val_loss: 0.6054 - val_accuracy: 0.6998\n",
            "Epoch 8/30\n",
            "36/36 [==============================] - 15s 417ms/step - loss: 0.6070 - accuracy: 0.6746 - val_loss: 0.6027 - val_accuracy: 0.6673\n",
            "Epoch 9/30\n",
            "36/36 [==============================] - 15s 417ms/step - loss: 0.6045 - accuracy: 0.6748 - val_loss: 0.6332 - val_accuracy: 0.6391\n",
            "Epoch 10/30\n",
            "36/36 [==============================] - 15s 417ms/step - loss: 0.6197 - accuracy: 0.6647 - val_loss: 0.8675 - val_accuracy: 0.5651\n",
            "Epoch 11/30\n",
            "36/36 [==============================] - 15s 416ms/step - loss: 0.6485 - accuracy: 0.6405 - val_loss: 0.6326 - val_accuracy: 0.6496\n",
            "Epoch 12/30\n",
            "36/36 [==============================] - 15s 417ms/step - loss: 0.5923 - accuracy: 0.6979 - val_loss: 0.5981 - val_accuracy: 0.7016\n",
            "Epoch 13/30\n",
            "36/36 [==============================] - 15s 417ms/step - loss: 0.5725 - accuracy: 0.7083 - val_loss: 0.5830 - val_accuracy: 0.7113\n",
            "Epoch 14/30\n",
            "36/36 [==============================] - 15s 417ms/step - loss: 0.5814 - accuracy: 0.6907 - val_loss: 0.5988 - val_accuracy: 0.6637\n",
            "Epoch 15/30\n",
            "36/36 [==============================] - 15s 417ms/step - loss: 0.5647 - accuracy: 0.7111 - val_loss: 0.5721 - val_accuracy: 0.7016\n",
            "Epoch 16/30\n",
            "36/36 [==============================] - 15s 417ms/step - loss: 0.5686 - accuracy: 0.7067 - val_loss: 0.5646 - val_accuracy: 0.7183\n",
            "Epoch 17/30\n",
            "36/36 [==============================] - 15s 417ms/step - loss: 0.5590 - accuracy: 0.7191 - val_loss: 0.8154 - val_accuracy: 0.5387\n",
            "Epoch 18/30\n",
            "36/36 [==============================] - 15s 417ms/step - loss: 0.6280 - accuracy: 0.6629 - val_loss: 0.5925 - val_accuracy: 0.6945\n",
            "Epoch 19/30\n",
            "36/36 [==============================] - 15s 417ms/step - loss: 0.5756 - accuracy: 0.7045 - val_loss: 0.6089 - val_accuracy: 0.6655\n",
            "Epoch 20/30\n",
            "36/36 [==============================] - 15s 417ms/step - loss: 0.6532 - accuracy: 0.6471 - val_loss: 0.7930 - val_accuracy: 0.5924\n",
            "Epoch 21/30\n",
            "36/36 [==============================] - 15s 417ms/step - loss: 0.5824 - accuracy: 0.6990 - val_loss: 0.5511 - val_accuracy: 0.7315\n",
            "Epoch 22/30\n",
            "36/36 [==============================] - 15s 417ms/step - loss: 0.5592 - accuracy: 0.7138 - val_loss: 0.5875 - val_accuracy: 0.6840\n",
            "Epoch 23/30\n",
            "36/36 [==============================] - 15s 417ms/step - loss: 0.6304 - accuracy: 0.6636 - val_loss: 0.6601 - val_accuracy: 0.6470\n",
            "Epoch 24/30\n",
            "36/36 [==============================] - 15s 417ms/step - loss: 0.5892 - accuracy: 0.6968 - val_loss: 0.5444 - val_accuracy: 0.7359\n",
            "Epoch 25/30\n",
            "36/36 [==============================] - 15s 417ms/step - loss: 0.5616 - accuracy: 0.7169 - val_loss: 0.6002 - val_accuracy: 0.6734\n",
            "Epoch 26/30\n",
            "36/36 [==============================] - 15s 418ms/step - loss: 0.5625 - accuracy: 0.7109 - val_loss: 0.7399 - val_accuracy: 0.6127\n",
            "Epoch 27/30\n",
            "36/36 [==============================] - 15s 417ms/step - loss: 0.5646 - accuracy: 0.7140 - val_loss: 0.5412 - val_accuracy: 0.7280\n",
            "Epoch 28/30\n",
            "36/36 [==============================] - 15s 416ms/step - loss: 0.5976 - accuracy: 0.6911 - val_loss: 0.5374 - val_accuracy: 0.7342\n",
            "Epoch 29/30\n",
            "36/36 [==============================] - 15s 417ms/step - loss: 0.5994 - accuracy: 0.6874 - val_loss: 0.5861 - val_accuracy: 0.6813\n",
            "Epoch 30/30\n",
            "36/36 [==============================] - 15s 416ms/step - loss: 0.5600 - accuracy: 0.7162 - val_loss: 0.5586 - val_accuracy: 0.7113\n"
          ],
          "name": "stdout"
        },
        {
          "output_type": "execute_result",
          "data": {
            "text/plain": [
              "<tensorflow.python.keras.callbacks.History at 0x7f3795bdbad0>"
            ]
          },
          "metadata": {
            "tags": []
          },
          "execution_count": 95
        }
      ]
    },
    {
      "cell_type": "markdown",
      "metadata": {
        "id": "4Qla90zn-Ndn"
      },
      "source": [
        "##Test set 성능 확인"
      ]
    },
    {
      "cell_type": "code",
      "metadata": {
        "colab": {
          "base_uri": "https://localhost:8080/"
        },
        "id": "yYVjuU-Qb-7y",
        "outputId": "8a166d58-8f75-487a-aa5e-b40b30f891ff"
      },
      "source": [
        "score = model.evaluate([X_test_text, X_test_images, X_test_info], y_test, verbose=1)"
      ],
      "execution_count": null,
      "outputs": [
        {
          "output_type": "stream",
          "text": [
            "45/45 [==============================] - 2s 35ms/step - loss: 0.5636 - accuracy: 0.7014\n"
          ],
          "name": "stdout"
        }
      ]
    },
    {
      "cell_type": "code",
      "metadata": {
        "id": "Za2Y0bs9yjrU"
      },
      "source": [
        "#model output 저장\n",
        "\n",
        "#model.save('/content/drive/My Drive/multi_input.h5')"
      ],
      "execution_count": null,
      "outputs": []
    },
    {
      "cell_type": "code",
      "metadata": {
        "id": "GAa3Npkq4IuE"
      },
      "source": [
        "# from sklearn.model_selection import GridSearchCV\n",
        "\n",
        "# batch_size = [128]\n",
        "# epochs = [30]\n",
        "# param_grid = dict(batch_size=batch_size)\n",
        "\n",
        "# grid = GridSearchCV(estimator=model, param_grid=param_grid, n_jobs=1,cv=3)\n",
        "# grid_result = grid.fit([X_train_text, X_train_images,X_train_info], y_train.values)"
      ],
      "execution_count": null,
      "outputs": []
    },
    {
      "cell_type": "code",
      "metadata": {
        "colab": {
          "base_uri": "https://localhost:8080/"
        },
        "id": "1jNEJEcG8-o3",
        "outputId": "72089c73-5949-4ed6-a3ee-412dcead7bc9"
      },
      "source": [
        "X_train_text.shape"
      ],
      "execution_count": null,
      "outputs": [
        {
          "output_type": "execute_result",
          "data": {
            "text/plain": [
              "(5678, 74)"
            ]
          },
          "metadata": {
            "tags": []
          },
          "execution_count": 98
        }
      ]
    },
    {
      "cell_type": "code",
      "metadata": {
        "id": "7pDt8PBLKwYx"
      },
      "source": [
        "y_predict = model.predict([X_test_text, X_test_images,X_test_info])"
      ],
      "execution_count": null,
      "outputs": []
    },
    {
      "cell_type": "markdown",
      "metadata": {
        "id": "QlzswDuqNwJv"
      },
      "source": [
        "##classification report 확인"
      ]
    },
    {
      "cell_type": "code",
      "metadata": {
        "colab": {
          "base_uri": "https://localhost:8080/"
        },
        "id": "9kw9kV3kagQJ",
        "outputId": "4df13ebf-99c8-49dd-c985-ee79c1c35282"
      },
      "source": [
        "y_predict[:10]"
      ],
      "execution_count": null,
      "outputs": [
        {
          "output_type": "execute_result",
          "data": {
            "text/plain": [
              "array([[0.7889965 ],\n",
              "       [0.30325395],\n",
              "       [0.07481921],\n",
              "       [0.18998007],\n",
              "       [0.45838776],\n",
              "       [0.3765804 ],\n",
              "       [0.08977081],\n",
              "       [0.19491592],\n",
              "       [0.1548462 ],\n",
              "       [0.6622297 ]], dtype=float32)"
            ]
          },
          "metadata": {
            "tags": []
          },
          "execution_count": 100
        }
      ]
    },
    {
      "cell_type": "code",
      "metadata": {
        "id": "gHcOJuSOcqP_"
      },
      "source": [
        "temp = [ i > 0.5 for i  in y_predict ] "
      ],
      "execution_count": null,
      "outputs": []
    },
    {
      "cell_type": "code",
      "metadata": {
        "colab": {
          "base_uri": "https://localhost:8080/"
        },
        "id": "QOXRxWMHfCt_",
        "outputId": "929832aa-0531-4515-efde-82e4bb60d30f"
      },
      "source": [
        "from sklearn.metrics import classification_report\n",
        "\n",
        "print(classification_report(y_test.values, temp))"
      ],
      "execution_count": null,
      "outputs": [
        {
          "output_type": "stream",
          "text": [
            "              precision    recall  f1-score   support\n",
            "\n",
            "       False       0.68      0.89      0.77       787\n",
            "        True       0.77      0.47      0.59       633\n",
            "\n",
            "    accuracy                           0.70      1420\n",
            "   macro avg       0.72      0.68      0.68      1420\n",
            "weighted avg       0.72      0.70      0.69      1420\n",
            "\n"
          ],
          "name": "stdout"
        }
      ]
    },
    {
      "cell_type": "code",
      "metadata": {
        "colab": {
          "base_uri": "https://localhost:8080/"
        },
        "id": "156GMhaG_E9f",
        "outputId": "b91c2879-e640-4ef5-ac45-187775a3098c"
      },
      "source": [
        "df_movies = pd.read_csv('/content/drive/My Drive/Code/IMDb movies.csv')\n",
        "movie_names = df_movies['original_title'].loc[test.index]"
      ],
      "execution_count": null,
      "outputs": [
        {
          "output_type": "stream",
          "text": [
            "/usr/local/lib/python3.7/dist-packages/IPython/core/interactiveshell.py:2718: DtypeWarning: Columns (3) have mixed types.Specify dtype option on import or set low_memory=False.\n",
            "  interactivity=interactivity, compiler=compiler, result=result)\n"
          ],
          "name": "stderr"
        }
      ]
    },
    {
      "cell_type": "code",
      "metadata": {
        "id": "8wvVTXp8_ndb"
      },
      "source": [
        "test_temp = test.reset_index()"
      ],
      "execution_count": null,
      "outputs": []
    },
    {
      "cell_type": "code",
      "metadata": {
        "id": "elccS-29Aowo"
      },
      "source": [
        "test_temp['score'] = [ y_predict[i] for i in range(len(y_predict))]"
      ],
      "execution_count": null,
      "outputs": []
    },
    {
      "cell_type": "code",
      "metadata": {
        "colab": {
          "base_uri": "https://localhost:8080/"
        },
        "id": "wYH-rNUp_U4C",
        "outputId": "eb88528f-83b8-4d06-82db-5fadf304005f"
      },
      "source": [
        "#분류상 상위 확률로 랭크된 영화들의 id를 조회하여, 어떤 영화인 지 찾아볼 수 있다.\n",
        "\n",
        "test_temp.sort_values(by=['score'],ascending = False).imdb_title_id.head(20)"
      ],
      "execution_count": null,
      "outputs": [
        {
          "output_type": "execute_result",
          "data": {
            "text/plain": [
              "1380     tt6470924\n",
              "759      tt4065552\n",
              "359      tt4003440\n",
              "1057     tt3409848\n",
              "652      tt6559390\n",
              "745     tt11777040\n",
              "139      tt7282468\n",
              "470      tt5618752\n",
              "802      tt7985648\n",
              "1021     tt6932818\n",
              "1064    tt10883506\n",
              "1373     tt4154796\n",
              "41       tt9611484\n",
              "728      tt6896536\n",
              "1250     tt8956390\n",
              "549      tt7666250\n",
              "293      tt8161166\n",
              "245      tt5591834\n",
              "428      tt6125690\n",
              "772      tt8726098\n",
              "Name: imdb_title_id, dtype: object"
            ]
          },
          "metadata": {
            "tags": []
          },
          "execution_count": 121
        }
      ]
    },
    {
      "cell_type": "markdown",
      "metadata": {
        "id": "heoTVinKEPGq"
      },
      "source": [
        "##requirements.txt 저장"
      ]
    },
    {
      "cell_type": "code",
      "metadata": {
        "id": "MHDrQpIAEXf_"
      },
      "source": [
        "pip freeze > requirements.txt"
      ],
      "execution_count": null,
      "outputs": []
    },
    {
      "cell_type": "code",
      "metadata": {
        "id": "v8ZaBpiWEynf"
      },
      "source": [
        "pip list"
      ],
      "execution_count": null,
      "outputs": []
    }
  ]
}