{
  "nbformat": 4,
  "nbformat_minor": 0,
  "metadata": {
    "colab": {
      "name": "project1_강윤_210609_3.ipynb",
      "provenance": [],
      "collapsed_sections": [],
      "machine_shape": "hm"
    },
    "kernelspec": {
      "name": "python3",
      "display_name": "Python 3"
    },
    "language_info": {
      "name": "python"
    },
    "accelerator": "GPU"
  },
  "cells": [
    {
      "cell_type": "code",
      "metadata": {
        "colab": {
          "base_uri": "https://localhost:8080/"
        },
        "id": "fZTnCVQm-6qi",
        "outputId": "61b183dd-a1ed-4e16-b851-727afef3348b"
      },
      "source": [
        "#https://swatimeena989.medium.com/bert-text-classification-using-keras-903671e0207d\n",
        "from google.colab import drive\n",
        "drive.mount('/content/drive')"
      ],
      "execution_count": 1,
      "outputs": [
        {
          "output_type": "stream",
          "text": [
            "Go to this URL in a browser: https://accounts.google.com/o/oauth2/auth?client_id=947318989803-6bn6qk8qdgf4n4g3pfee6491hc0brc4i.apps.googleusercontent.com&redirect_uri=urn%3aietf%3awg%3aoauth%3a2.0%3aoob&scope=email%20https%3a%2f%2fwww.googleapis.com%2fauth%2fdocs.test%20https%3a%2f%2fwww.googleapis.com%2fauth%2fdrive%20https%3a%2f%2fwww.googleapis.com%2fauth%2fdrive.photos.readonly%20https%3a%2f%2fwww.googleapis.com%2fauth%2fpeopleapi.readonly%20https%3a%2f%2fwww.googleapis.com%2fauth%2fdrive.activity.readonly%20https%3a%2f%2fwww.googleapis.com%2fauth%2fexperimentsandconfigs%20https%3a%2f%2fwww.googleapis.com%2fauth%2fphotos.native&response_type=code\n",
            "\n",
            "Enter your authorization code:\n",
            "4/1AY0e-g7JwwC7-pgreQTdGsGLRkc0Mxg1ksrBMPdKCpt4qfnNg36AdAH9lLQ\n",
            "Mounted at /content/drive\n"
          ],
          "name": "stdout"
        }
      ]
    },
    {
      "cell_type": "code",
      "metadata": {
        "id": "MrMURKNoKb3t"
      },
      "source": [
        "!pip install beautifulsoup4 #scraping web data\n",
        "!pip install investpy #finance information\n",
        "!pip install yfinance #finance information\n",
        "!pip install selenium #scraping web data\n",
        "!apt-get update # to update ubuntu to correctly run apt install\n",
        "!apt install chromium-chromedriver\n",
        "!pip install pandas-market-calendars #update stock market calenders\n",
        "!pip install transformers #model for NLP BERT"
      ],
      "execution_count": null,
      "outputs": []
    },
    {
      "cell_type": "markdown",
      "metadata": {
        "id": "XYnnIriqIXzk"
      },
      "source": [
        "#1. Data Gathering  & Preprocessing\n",
        "##1) Scrape comments from Investing.com tickers "
      ]
    },
    {
      "cell_type": "markdown",
      "metadata": {
        "id": "AVUnXENMIsol"
      },
      "source": [
        "This case, subjects will be the stock items from S&P500 index "
      ]
    },
    {
      "cell_type": "code",
      "metadata": {
        "id": "Qmv9B8hb_v_b",
        "colab": {
          "base_uri": "https://localhost:8080/"
        },
        "outputId": "99f42b64-a603-410a-ceb0-1fde990e0fc2"
      },
      "source": [
        "import pandas as pd\n",
        "\n",
        "#read S&P500 stock list \n",
        "table=pd.read_html('https://en.wikipedia.org/wiki/List_of_S%26P_500_companies')\n",
        "S_P_500 = table[0]\n",
        "S_P_500['Symbol'][76:]"
      ],
      "execution_count": 4,
      "outputs": [
        {
          "output_type": "execute_result",
          "data": {
            "text/plain": [
              "76     AVGO\n",
              "77       BR\n",
              "78     BF.B\n",
              "79     CHRW\n",
              "80      COG\n",
              "       ... \n",
              "500     YUM\n",
              "501    ZBRA\n",
              "502     ZBH\n",
              "503    ZION\n",
              "504     ZTS\n",
              "Name: Symbol, Length: 429, dtype: object"
            ]
          },
          "metadata": {
            "tags": []
          },
          "execution_count": 4
        }
      ]
    },
    {
      "cell_type": "code",
      "metadata": {
        "id": "bDPMqk33Kfu_"
      },
      "source": [
        "import requests\n",
        "from bs4 import BeautifulSoup\n",
        "import investpy\n",
        "import numpy as np\n",
        "import pandas as pd"
      ],
      "execution_count": 6,
      "outputs": []
    },
    {
      "cell_type": "code",
      "metadata": {
        "id": "zfVK2msGKth-"
      },
      "source": [
        "test = 0\n",
        "error = []\n",
        "for s in ['AMZN']:#S_P_500['Symbol'][261:]: #중간에 계속 끊겨서 중간 번호로 함\n",
        "    exit = False\n",
        "    #if test == 2:\n",
        "    #  break\n",
        "    print('scraping',s,'...')\n",
        "    try:\n",
        "        temp = investpy.get_stock_company_profile(stock=s,\n",
        "                                              country='United States')\n",
        "    except RuntimeError:\n",
        "        print('error', s)\n",
        "        error.append(s)\n",
        "        continue\n",
        "\n",
        "    url = temp['url'][:-16] + '-commentary/'  #get a url data of stock comment section\n",
        "\n",
        "    date_array = []     # date information of each comments\n",
        "    comment_array = []  # comment data\n",
        "    company_name_array = []\n",
        "    i = 0\n",
        "    while(True):\n",
        "        if exit == True:\n",
        "          break\n",
        "        url_iter = url + str(i+1) #iterate by page number of comments\n",
        "        page = requests.get(url_iter)\n",
        "        soup = BeautifulSoup(page.content, 'html.parser')\n",
        "        element = soup.find_all('div', class_='discussion_discussion-wrapper__2TUX4') #find comment div by css class\n",
        "        if len(element) <= 1:\n",
        "          break #no more comments, then break;\n",
        "        for j in range(len(element)):\n",
        "            temp = element[j].text.split('Reply')\n",
        "            date_array.append(temp[0][:19])\n",
        "            comment_array.append(temp[0][19:])\n",
        "            company_name_array.append(s)\n",
        "            if date_array[-1][:4] in ['2015','2014','2013']: # Gather comments from 2016, not from 2015\n",
        "                print(date_array[-1][:4])\n",
        "                exit = True # Loop double break\n",
        "                break  \n",
        "        if i % 100 == 0:\n",
        "          print(i)\n",
        "        i = i+1\n",
        "    d = {'time': date_array, 'text': comment_array,'symbol':company_name_array }\n",
        "    df = pd.DataFrame(data = d)\n",
        "    save_url = '/content/drive/My Drive/project1/' + s + '.csv'\n",
        "    df.to_csv(save_url)\n"
      ],
      "execution_count": null,
      "outputs": []
    },
    {
      "cell_type": "code",
      "metadata": {
        "id": "cyGBjnWNrTm1"
      },
      "source": [
        "# #d = {'time': [], 'text': [],'symbol':[] }\n",
        "# #df_comments = pd.DataFrame(data = d)\n",
        "# df1 = pd.read_csv('/content/drive/My Drive/project1/AAPL.csv',index_col=[0])\n",
        "# df1\n",
        "# #pd.concat([df_comments,df2])"
      ],
      "execution_count": null,
      "outputs": []
    },
    {
      "cell_type": "code",
      "metadata": {
        "id": "NrPR1o8NuGS5"
      },
      "source": [
        "#Concat each stock's comment file into single csv file \n",
        "\n",
        "d = {'time': [], 'text': [],'symbol':[] }\n",
        "df_comments = pd.DataFrame(data = d)\n",
        "i = 0\n",
        "for s in S_P_500['Symbol']:\n",
        "  i = i + 1\n",
        "  save_url = '/content/drive/My Drive/project1/' + s + '.csv'\n",
        "  try:\n",
        "      temp = pd.read_csv(save_url,index_col=[0])\n",
        "  except FileNotFoundError:\n",
        "      continue\n",
        "  df_comments = pd.concat([df_comments,temp])\n",
        "  if i % 50 == 0:\n",
        "    print(i)"
      ],
      "execution_count": null,
      "outputs": []
    },
    {
      "cell_type": "code",
      "metadata": {
        "id": "EB_ClnDq5K4p"
      },
      "source": [
        "df_comments.to_csv('/content/drive/My Drive/project1/investing_comments.csv') # save csv file at google drive"
      ],
      "execution_count": null,
      "outputs": []
    },
    {
      "cell_type": "code",
      "metadata": {
        "id": "2R3tSCSjKNHR"
      },
      "source": [
        "df_comments = pd.read_csv('/content/drive/My Drive/project1/investing_comments.csv',index_col=[0])"
      ],
      "execution_count": null,
      "outputs": []
    },
    {
      "cell_type": "code",
      "metadata": {
        "colab": {
          "base_uri": "https://localhost:8080/"
        },
        "id": "V5G904uHKnal",
        "outputId": "f2de2db8-6399-4cc0-8cc5-e6cbe58778a7"
      },
      "source": [
        "df_comments['symbol'].value_counts().head(20)"
      ],
      "execution_count": null,
      "outputs": [
        {
          "output_type": "execute_result",
          "data": {
            "text/plain": [
              "AAPL    20337\n",
              "AMZN     9235\n",
              "PFE      6075\n",
              "AMD      5649\n",
              "FB       4189\n",
              "MSFT     3589\n",
              "AAL      3392\n",
              "TSLA     3320\n",
              "NVDA     2763\n",
              "CCL      2506\n",
              "INTC     1729\n",
              "TWTR     1681\n",
              "NCLH     1623\n",
              "GE       1477\n",
              "NFLX     1450\n",
              "DIS      1201\n",
              "BAC      1072\n",
              "OXY      1072\n",
              "MU        982\n",
              "XOM       953\n",
              "Name: symbol, dtype: int64"
            ]
          },
          "metadata": {
            "tags": []
          },
          "execution_count": 14
        }
      ]
    },
    {
      "cell_type": "markdown",
      "metadata": {
        "id": "G6NQVBL4LE0w"
      },
      "source": [
        "##2) Scrape comments from Reddit(subreddit : wallstreetbets) "
      ]
    },
    {
      "cell_type": "code",
      "metadata": {
        "id": "pmafkURnNwB-"
      },
      "source": [
        "import pandas_market_calendars as mcal\n",
        "# Create a calendar\n",
        "nyse = mcal.get_calendar('NASDAQ') # get stock market calender\n",
        "\n",
        "# Show available calendars\n",
        "#print(mcal.get_calendar_names())"
      ],
      "execution_count": null,
      "outputs": []
    },
    {
      "cell_type": "code",
      "metadata": {
        "id": "7KykK6yIPL5o"
      },
      "source": [
        "open_days = nyse.schedule(start_date='2017-01-01', end_date='2021-06-04') # set date range\n",
        "#dir(open_days.index[0].asm8)"
      ],
      "execution_count": null,
      "outputs": []
    },
    {
      "cell_type": "code",
      "metadata": {
        "id": "6g8aFuseXFmv",
        "colab": {
          "base_uri": "https://localhost:8080/"
        },
        "outputId": "f76afc4c-1752-4842-c030-fa09003301f2"
      },
      "source": [
        "from selenium import webdriver\n",
        "\n",
        "chrome_options = webdriver.ChromeOptions()\n",
        "chrome_options.add_argument('--headless') #내부 창을 띄울 수 없으므로 설정\n",
        "chrome_options.add_argument('--no-sandbox')\n",
        "chrome_options.add_argument('--disable-dev-shm-usage')\n",
        "browser = webdriver.Chrome('chromedriver',chrome_options=chrome_options)"
      ],
      "execution_count": null,
      "outputs": [
        {
          "output_type": "stream",
          "text": [
            "/usr/local/lib/python3.7/dist-packages/ipykernel_launcher.py:7: DeprecationWarning: use options instead of chrome_options\n",
            "  import sys\n"
          ],
          "name": "stderr"
        }
      ]
    },
    {
      "cell_type": "code",
      "metadata": {
        "id": "hra0qV7pLJ9y"
      },
      "source": [
        "from selenium import webdriver\n",
        "from bs4 import BeautifulSoup\n",
        "import pandas as pd\n",
        "import time\n",
        "\n",
        "start = time.time() \n",
        "\n",
        "stock_list = ['AMD', 'AAL','CCL','INTC','TWTR','NCLH','GE','NFLX']\n",
        "\n",
        "for s in stock_list:\n",
        "  print('fetching',s,'...')\n",
        "  date_array = []     # date information of each comments\n",
        "  comment_array_total = []\n",
        "  company_name_array = []\n",
        "  t = 0\n",
        "  for i in open_days.index:\n",
        "      comment_array = []\n",
        "      next_day = i + pd.DateOffset(1)\n",
        "      url = ('https://camas.github.io/reddit-search/#{%22subreddit%22:%22wallstreetbets%22,%22resultSize%22:100,%22after%22:%22' + \n",
        "            str(i.asm8)[:10] + 'T20:00:00.000Z%22,%22before%22:%22' + str(next_day.asm8)[:10]\n",
        "            + 'T04:45:00.000Z%22,%22query%22:%22' + s + '%22}')\n",
        "      browser = webdriver.Chrome('chromedriver',options=chrome_options)\n",
        "      browser.get(url)\n",
        "      #print(url)\n",
        "      time.sleep(3)\n",
        "      comments = browser.find_elements_by_class_name('whitespace-pre-wrap')\n",
        "      if t % 20 == 0:\n",
        "        print(i,len(comments))\n",
        "      for comment in comments:\n",
        "        comment_array.append(comment.text)\n",
        "      date_array.append(i)\n",
        "      comment_array_total.append(comment_array)\n",
        "      company_name_array.append(s)\n",
        "      t = t+1\n",
        "\n",
        "  d = {'time': date_array, 'text': comment_array_total,'symbol':company_name_array }\n",
        "  df = pd.DataFrame(data = d)\n",
        "  save_url = '/content/drive/My Drive/project1/' + s + '_reddit.csv'\n",
        "  df.to_csv(save_url)\n",
        "  print(\"time :\", time.time() - start)  # 현재시각 - 시작시간 = 실행 시간"
      ],
      "execution_count": null,
      "outputs": []
    },
    {
      "cell_type": "markdown",
      "metadata": {
        "id": "3KwSshHmNnr5"
      },
      "source": [
        "##3) Gathering other finance datasets(Daily stock price, VIX, momentum index)\n",
        "##& and merge all the data"
      ]
    },
    {
      "cell_type": "code",
      "metadata": {
        "id": "2P8qAy_eH8HW"
      },
      "source": [
        "import yfinance as yf\n",
        "\n",
        "VIX = yf.Ticker(\"^VIX\")\n",
        "VIX.info\n",
        "VIX = VIX.history(period=\"max\")"
      ],
      "execution_count": 8,
      "outputs": []
    },
    {
      "cell_type": "code",
      "metadata": {
        "id": "9epb3D6W3Jf7"
      },
      "source": [
        "import investpy\n",
        "\n",
        "temp_list = []\n",
        "for s in ['AAPL', 'AMZN','GOOGL', 'GOOG', 'TSLA', 'JNJ', 'NVDA', 'AMD', 'AAL', 'CCL', 'INTC', 'TWTR','NFLX']:\n",
        "    df_stock = investpy.get_stock_historical_data(stock=s,\n",
        "                                            country='United States',\n",
        "                                            from_date='03/01/2017',\n",
        "                                            to_date='04/06/2021')\n",
        "    url = '/content/drive/My Drive/project1/' + s + '_reddit.csv'\n",
        "    df_comments = pd.read_csv(url,index_col=[0])\n",
        "    import numpy as np\n",
        "    df_stock['ROC'] = np.nan\n",
        "    df_stock['ROC_prediction'] = np.nan\n",
        "    df_stock['VIX'] = VIX['Close'].tail(len(df_stock)+3) #날짜에 맞춰서 조정\n",
        "\n",
        "    for i in range(len(df_stock)-1):\n",
        "      ROC = (df_stock['Close'].iloc[i+1] - df_stock['Close'].iloc[i]) / df_stock['Close'].iloc[i] * 100\n",
        "      df_stock['ROC'].iloc[i+1] = ROC\n",
        "      df_stock['ROC_prediction'].iloc[i] = ROC\n",
        "\n",
        "    df_stock = df_stock.drop(columns=['Currency','Volume'])\n",
        "    df_comments = df_comments.set_index(df_stock.index)\n",
        "\n",
        "    df = pd.concat([df_comments,df_stock],axis=1)\n",
        "    drop_index=[]\n",
        "    for i in range(len(df)):\n",
        "      if df['text'].iloc[i] == '[]':\n",
        "        drop_index.append(df.index[i])\n",
        "    for i in range(len(df)):\n",
        "      df['text'].iloc[i] = df['text'].iloc[i].replace(s,'target-stock') \n",
        "    df = df.drop(drop_index)\n",
        "    df = df.drop(columns=['time'])\n",
        "  \n",
        "    from sklearn.preprocessing import MinMaxScaler\n",
        "    mms = MinMaxScaler()\n",
        "    df[['Open','High','Low','Close']] = mms.fit_transform(df[['Open','High','Low','Close']])\n",
        "    temp_list.append(df)\n"
      ],
      "execution_count": null,
      "outputs": []
    },
    {
      "cell_type": "code",
      "metadata": {
        "id": "7W_eLNKsxajI"
      },
      "source": [
        "t = 0\n",
        "for i in temp_list:\n",
        "  if t == 0:\n",
        "    df = i\n",
        "  else:\n",
        "    df = pd.concat([df,i],axis = 0)\n",
        "  t = t + 1\n",
        "\n",
        "df = df.dropna()"
      ],
      "execution_count": 140,
      "outputs": []
    },
    {
      "cell_type": "code",
      "metadata": {
        "id": "peKOk94r4dvu"
      },
      "source": [
        "df = df.sort_index()"
      ],
      "execution_count": 141,
      "outputs": []
    },
    {
      "cell_type": "code",
      "metadata": {
        "colab": {
          "base_uri": "https://localhost:8080/",
          "height": 235
        },
        "id": "3nom_C13DTJI",
        "outputId": "079bff36-584a-4410-8266-d8dd2bd543ed"
      },
      "source": [
        "df.head()"
      ],
      "execution_count": 142,
      "outputs": [
        {
          "output_type": "execute_result",
          "data": {
            "text/html": [
              "<div>\n",
              "<style scoped>\n",
              "    .dataframe tbody tr th:only-of-type {\n",
              "        vertical-align: middle;\n",
              "    }\n",
              "\n",
              "    .dataframe tbody tr th {\n",
              "        vertical-align: top;\n",
              "    }\n",
              "\n",
              "    .dataframe thead th {\n",
              "        text-align: right;\n",
              "    }\n",
              "</style>\n",
              "<table border=\"1\" class=\"dataframe\">\n",
              "  <thead>\n",
              "    <tr style=\"text-align: right;\">\n",
              "      <th></th>\n",
              "      <th>text</th>\n",
              "      <th>symbol</th>\n",
              "      <th>Open</th>\n",
              "      <th>High</th>\n",
              "      <th>Low</th>\n",
              "      <th>Close</th>\n",
              "      <th>ROC</th>\n",
              "      <th>ROC_prediction</th>\n",
              "      <th>VIX</th>\n",
              "    </tr>\n",
              "    <tr>\n",
              "      <th>Date</th>\n",
              "      <th></th>\n",
              "      <th></th>\n",
              "      <th></th>\n",
              "      <th></th>\n",
              "      <th></th>\n",
              "      <th></th>\n",
              "      <th></th>\n",
              "      <th></th>\n",
              "      <th></th>\n",
              "    </tr>\n",
              "  </thead>\n",
              "  <tbody>\n",
              "    <tr>\n",
              "      <th>2017-01-04</th>\n",
              "      <td>['target-stock.', 'target-stock is the leader ...</td>\n",
              "      <td>TSLA</td>\n",
              "      <td>0.008061</td>\n",
              "      <td>0.009671</td>\n",
              "      <td>0.009050</td>\n",
              "      <td>0.011383</td>\n",
              "      <td>4.608295</td>\n",
              "      <td>-0.110132</td>\n",
              "      <td>11.85</td>\n",
              "    </tr>\n",
              "    <tr>\n",
              "      <th>2017-01-04</th>\n",
              "      <td>['Why is everyone so confident in target-stock...</td>\n",
              "      <td>NVDA</td>\n",
              "      <td>0.012558</td>\n",
              "      <td>0.013607</td>\n",
              "      <td>0.010804</td>\n",
              "      <td>0.014647</td>\n",
              "      <td>2.333105</td>\n",
              "      <td>-2.538557</td>\n",
              "      <td>11.85</td>\n",
              "    </tr>\n",
              "    <tr>\n",
              "      <th>2017-01-04</th>\n",
              "      <td>['Why is everyone so confident in NVDA and tar...</td>\n",
              "      <td>AMD</td>\n",
              "      <td>0.026704</td>\n",
              "      <td>0.019566</td>\n",
              "      <td>0.025109</td>\n",
              "      <td>0.021660</td>\n",
              "      <td>0.000000</td>\n",
              "      <td>-1.662292</td>\n",
              "      <td>11.85</td>\n",
              "    </tr>\n",
              "    <tr>\n",
              "      <th>2017-01-04</th>\n",
              "      <td>['target-stock is interesting to watch this we...</td>\n",
              "      <td>NFLX</td>\n",
              "      <td>0.000000</td>\n",
              "      <td>0.000000</td>\n",
              "      <td>0.000000</td>\n",
              "      <td>0.000503</td>\n",
              "      <td>1.506000</td>\n",
              "      <td>1.854571</td>\n",
              "      <td>11.85</td>\n",
              "    </tr>\n",
              "    <tr>\n",
              "      <th>2017-01-05</th>\n",
              "      <td>['Might sell Tsla got in at 188.', 'When looki...</td>\n",
              "      <td>TSLA</td>\n",
              "      <td>0.010851</td>\n",
              "      <td>0.009554</td>\n",
              "      <td>0.010906</td>\n",
              "      <td>0.011324</td>\n",
              "      <td>-0.110132</td>\n",
              "      <td>0.992282</td>\n",
              "      <td>11.67</td>\n",
              "    </tr>\n",
              "  </tbody>\n",
              "</table>\n",
              "</div>"
            ],
            "text/plain": [
              "                                                         text  ...    VIX\n",
              "Date                                                           ...       \n",
              "2017-01-04  ['target-stock.', 'target-stock is the leader ...  ...  11.85\n",
              "2017-01-04  ['Why is everyone so confident in target-stock...  ...  11.85\n",
              "2017-01-04  ['Why is everyone so confident in NVDA and tar...  ...  11.85\n",
              "2017-01-04  ['target-stock is interesting to watch this we...  ...  11.85\n",
              "2017-01-05  ['Might sell Tsla got in at 188.', 'When looki...  ...  11.67\n",
              "\n",
              "[5 rows x 9 columns]"
            ]
          },
          "metadata": {
            "tags": []
          },
          "execution_count": 142
        }
      ]
    },
    {
      "cell_type": "markdown",
      "metadata": {
        "id": "6x0Iijd6bArc"
      },
      "source": [
        "#2. Modeling\n",
        "##1) Target 설정\n",
        "###-input 데이터를 이용하여 다음날의 주가 변화율(ROC : Rate of Change)를 예측하는 모델이므로, df['ROC_prediction']이 target이 된다."
      ]
    },
    {
      "cell_type": "code",
      "metadata": {
        "id": "L5rQz1r6oIhd",
        "colab": {
          "base_uri": "https://localhost:8080/",
          "height": 283
        },
        "outputId": "0642b017-1134-4c04-f08f-e461b8c193c5"
      },
      "source": [
        "import matplotlib.pyplot as plt\n",
        "\n",
        "bins = np.arange(-10,10,0.5)\n",
        "plt.hist(df['ROC_prediction'],bins=bins);\n",
        "plt.xlim((-10, 10))"
      ],
      "execution_count": 143,
      "outputs": [
        {
          "output_type": "execute_result",
          "data": {
            "text/plain": [
              "(-10.0, 10.0)"
            ]
          },
          "metadata": {
            "tags": []
          },
          "execution_count": 143
        },
        {
          "output_type": "display_data",
          "data": {
            "image/png": "[encoded data removed]",
            "text/plain": [
              "<Figure size 432x288 with 1 Axes>"
            ]
          },
          "metadata": {
            "tags": [],
            "needs_background": "light"
          }
        }
      ]
    },
    {
      "cell_type": "code",
      "metadata": {
        "id": "RxR1FgjyqGDZ"
      },
      "source": [
        "bins = np.arange(-10,10,0.5)#[0, 10, 20, 30, 40, 50, 60, 70, 80, 90, 100]\n",
        "df['ROC_prediction'].value_counts(bins=bins, sort=False) "
      ],
      "execution_count": null,
      "outputs": []
    },
    {
      "cell_type": "code",
      "metadata": {
        "id": "vlHtrrwbsV9s",
        "colab": {
          "base_uri": "https://localhost:8080/"
        },
        "outputId": "fb61a9aa-e7ad-4f4a-a541-dd64728ddb14"
      },
      "source": [
        "#labeling Bullish, Neutral, Bearish\n",
        "\n",
        "for i in range(len(df['ROC_prediction'])):  \n",
        "  if df['ROC_prediction'].iloc[i] >= 0.5:\n",
        "    df['ROC_prediction'].iloc[i] = 'Bullish'\n",
        "  elif df['ROC_prediction'].iloc[i] >= -0.5:\n",
        "    df['ROC_prediction'].iloc[i] = 'Neutral'\n",
        "  else:\n",
        "    df['ROC_prediction'].iloc[i] = 'Bearish'"
      ],
      "execution_count": 144,
      "outputs": [
        {
          "output_type": "stream",
          "text": [
            "/usr/local/lib/python3.7/dist-packages/pandas/core/indexing.py:670: SettingWithCopyWarning: \n",
            "A value is trying to be set on a copy of a slice from a DataFrame\n",
            "\n",
            "See the caveats in the documentation: https://pandas.pydata.org/pandas-docs/stable/user_guide/indexing.html#returning-a-view-versus-a-copy\n",
            "  iloc._setitem_with_indexer(indexer, value)\n"
          ],
          "name": "stderr"
        }
      ]
    },
    {
      "cell_type": "code",
      "metadata": {
        "id": "y6S3_0Souflc",
        "colab": {
          "base_uri": "https://localhost:8080/"
        },
        "outputId": "c053858d-9289-4209-c6e6-b985ed8852b1"
      },
      "source": [
        "df['ROC_prediction'].head(10)"
      ],
      "execution_count": 145,
      "outputs": [
        {
          "output_type": "execute_result",
          "data": {
            "text/plain": [
              "Date\n",
              "2017-01-04    Neutral\n",
              "2017-01-04    Bearish\n",
              "2017-01-04    Bearish\n",
              "2017-01-04    Bullish\n",
              "2017-01-05    Bullish\n",
              "2017-01-05    Bullish\n",
              "2017-01-05    Neutral\n",
              "2017-01-05    Bullish\n",
              "2017-01-06    Bullish\n",
              "2017-01-06    Bullish\n",
              "Name: ROC_prediction, dtype: object"
            ]
          },
          "metadata": {
            "tags": []
          },
          "execution_count": 145
        }
      ]
    },
    {
      "cell_type": "code",
      "metadata": {
        "id": "1yHuEFBGvCHp"
      },
      "source": [
        "import tensorflow as tf\n",
        "import tensorflow_hub as hub\n",
        "import pandas as pd\n",
        "from sklearn.model_selection import train_test_split\n",
        "import numpy as np\n",
        "import re\n",
        "import unicodedata\n",
        "import nltk\n",
        "from nltk.corpus import stopwords\n",
        "import keras\n",
        "from tqdm import tqdm\n",
        "import pickle\n",
        "from keras.models import Model\n",
        "import keras.backend as K\n",
        "from sklearn.metrics import confusion_matrix,f1_score,classification_report\n",
        "import matplotlib.pyplot as plt\n",
        "from keras.callbacks import ModelCheckpoint\n",
        "import itertools\n",
        "from keras.models import load_model\n",
        "from sklearn.utils import shuffle\n",
        "#from transformers import *\n",
        "from transformers import BertTokenizer, TFBertModel, BertConfig"
      ],
      "execution_count": 102,
      "outputs": []
    },
    {
      "cell_type": "code",
      "metadata": {
        "id": "r8R5hxiqqvqN"
      },
      "source": [
        "# save and reload csv file\n",
        "\n",
        "#df.to_csv('/content/drive/My Drive/project1/df_test.csv')\n",
        "df = pd.read_csv('/content/drive/My Drive/project1/df_test.csv',index_col=[0]) \n",
        "\n",
        "drop_index=[]\n",
        "for i in range(len(df)):\n",
        "  if df['text'].iloc[i] == '[]':\n",
        "    drop_index.append(df.index[i])\n",
        "df = df.drop(drop_index)\n",
        "df = df.dropna()"
      ],
      "execution_count": 5,
      "outputs": []
    },
    {
      "cell_type": "code",
      "metadata": {
        "colab": {
          "base_uri": "https://localhost:8080/",
          "height": 235
        },
        "id": "Uf-PlqIZuHN4",
        "outputId": "4a4d8d78-5bca-4634-83f8-f4a950c41f7d"
      },
      "source": [
        "df.head()"
      ],
      "execution_count": 6,
      "outputs": [
        {
          "output_type": "execute_result",
          "data": {
            "text/html": [
              "<div>\n",
              "<style scoped>\n",
              "    .dataframe tbody tr th:only-of-type {\n",
              "        vertical-align: middle;\n",
              "    }\n",
              "\n",
              "    .dataframe tbody tr th {\n",
              "        vertical-align: top;\n",
              "    }\n",
              "\n",
              "    .dataframe thead th {\n",
              "        text-align: right;\n",
              "    }\n",
              "</style>\n",
              "<table border=\"1\" class=\"dataframe\">\n",
              "  <thead>\n",
              "    <tr style=\"text-align: right;\">\n",
              "      <th></th>\n",
              "      <th>text</th>\n",
              "      <th>symbol</th>\n",
              "      <th>Open</th>\n",
              "      <th>High</th>\n",
              "      <th>Low</th>\n",
              "      <th>Close</th>\n",
              "      <th>ROC</th>\n",
              "      <th>ROC_prediction</th>\n",
              "      <th>VIX</th>\n",
              "    </tr>\n",
              "    <tr>\n",
              "      <th>Date</th>\n",
              "      <th></th>\n",
              "      <th></th>\n",
              "      <th></th>\n",
              "      <th></th>\n",
              "      <th></th>\n",
              "      <th></th>\n",
              "      <th></th>\n",
              "      <th></th>\n",
              "      <th></th>\n",
              "    </tr>\n",
              "  </thead>\n",
              "  <tbody>\n",
              "    <tr>\n",
              "      <th>2017-01-04</th>\n",
              "      <td>['target-stock.', 'target-stock is the leader ...</td>\n",
              "      <td>TSLA</td>\n",
              "      <td>0.008061</td>\n",
              "      <td>0.009671</td>\n",
              "      <td>0.009050</td>\n",
              "      <td>0.011383</td>\n",
              "      <td>4.608295</td>\n",
              "      <td>Neutral</td>\n",
              "      <td>11.85</td>\n",
              "    </tr>\n",
              "    <tr>\n",
              "      <th>2017-01-04</th>\n",
              "      <td>['Why is everyone so confident in target-stock...</td>\n",
              "      <td>NVDA</td>\n",
              "      <td>0.012558</td>\n",
              "      <td>0.013607</td>\n",
              "      <td>0.010804</td>\n",
              "      <td>0.014647</td>\n",
              "      <td>2.333105</td>\n",
              "      <td>Bearish</td>\n",
              "      <td>11.85</td>\n",
              "    </tr>\n",
              "    <tr>\n",
              "      <th>2017-01-04</th>\n",
              "      <td>['Why is everyone so confident in NVDA and tar...</td>\n",
              "      <td>AMD</td>\n",
              "      <td>0.026704</td>\n",
              "      <td>0.019566</td>\n",
              "      <td>0.025109</td>\n",
              "      <td>0.021660</td>\n",
              "      <td>0.000000</td>\n",
              "      <td>Bearish</td>\n",
              "      <td>11.85</td>\n",
              "    </tr>\n",
              "    <tr>\n",
              "      <th>2017-01-04</th>\n",
              "      <td>['target-stock is interesting to watch this we...</td>\n",
              "      <td>NFLX</td>\n",
              "      <td>0.000000</td>\n",
              "      <td>0.000000</td>\n",
              "      <td>0.000000</td>\n",
              "      <td>0.000503</td>\n",
              "      <td>1.506000</td>\n",
              "      <td>Bullish</td>\n",
              "      <td>11.85</td>\n",
              "    </tr>\n",
              "    <tr>\n",
              "      <th>2017-01-05</th>\n",
              "      <td>['Might sell Tsla got in at 188.', 'When looki...</td>\n",
              "      <td>TSLA</td>\n",
              "      <td>0.010851</td>\n",
              "      <td>0.009554</td>\n",
              "      <td>0.010906</td>\n",
              "      <td>0.011324</td>\n",
              "      <td>-0.110132</td>\n",
              "      <td>Bullish</td>\n",
              "      <td>11.67</td>\n",
              "    </tr>\n",
              "  </tbody>\n",
              "</table>\n",
              "</div>"
            ],
            "text/plain": [
              "                                                         text  ...    VIX\n",
              "Date                                                           ...       \n",
              "2017-01-04  ['target-stock.', 'target-stock is the leader ...  ...  11.85\n",
              "2017-01-04  ['Why is everyone so confident in target-stock...  ...  11.85\n",
              "2017-01-04  ['Why is everyone so confident in NVDA and tar...  ...  11.85\n",
              "2017-01-04  ['target-stock is interesting to watch this we...  ...  11.85\n",
              "2017-01-05  ['Might sell Tsla got in at 188.', 'When looki...  ...  11.67\n",
              "\n",
              "[5 rows x 9 columns]"
            ]
          },
          "metadata": {
            "tags": []
          },
          "execution_count": 6
        }
      ]
    },
    {
      "cell_type": "code",
      "metadata": {
        "colab": {
          "base_uri": "https://localhost:8080/"
        },
        "id": "wdF96pWyJvDy",
        "outputId": "ce88177c-d0f2-45df-9e70-710ea77c5cc0"
      },
      "source": [
        "df['ROC_prediction'].value_counts()"
      ],
      "execution_count": 12,
      "outputs": [
        {
          "output_type": "execute_result",
          "data": {
            "text/plain": [
              "Bullish    3799\n",
              "Bearish    3267\n",
              "Neutral    2118\n",
              "Name: ROC_prediction, dtype: int64"
            ]
          },
          "metadata": {
            "tags": []
          },
          "execution_count": 12
        }
      ]
    },
    {
      "cell_type": "code",
      "metadata": {
        "id": "HPzIgAgDWJkn"
      },
      "source": [
        "#one hot encoding for 'symbol'\n",
        "symbol = pd.get_dummies(df.symbol)"
      ],
      "execution_count": 216,
      "outputs": []
    },
    {
      "cell_type": "code",
      "metadata": {
        "id": "-HuzF5laWhrY"
      },
      "source": [
        "df = pd.concat([df, symbol], axis=1)\n",
        "\n",
        "#label encoding for 'ROC_prediction'\n",
        "df['ROC_prediction_label'] = df['ROC_prediction'].map({'Neutral':1,'Bearish':0,'Bullish':2})\n",
        "df = df.drop(columns=['symbol','ROC_prediction','ROC'])"
      ],
      "execution_count": 217,
      "outputs": []
    },
    {
      "cell_type": "code",
      "metadata": {
        "colab": {
          "base_uri": "https://localhost:8080/",
          "height": 390
        },
        "id": "7SKeuq9gOwYw",
        "outputId": "477f6b78-96b9-4571-a26e-bbfdb538ae93"
      },
      "source": [
        "df.head(10)"
      ],
      "execution_count": 218,
      "outputs": [
        {
          "output_type": "execute_result",
          "data": {
            "text/html": [
              "<div>\n",
              "<style scoped>\n",
              "    .dataframe tbody tr th:only-of-type {\n",
              "        vertical-align: middle;\n",
              "    }\n",
              "\n",
              "    .dataframe tbody tr th {\n",
              "        vertical-align: top;\n",
              "    }\n",
              "\n",
              "    .dataframe thead th {\n",
              "        text-align: right;\n",
              "    }\n",
              "</style>\n",
              "<table border=\"1\" class=\"dataframe\">\n",
              "  <thead>\n",
              "    <tr style=\"text-align: right;\">\n",
              "      <th></th>\n",
              "      <th>text</th>\n",
              "      <th>Open</th>\n",
              "      <th>High</th>\n",
              "      <th>Low</th>\n",
              "      <th>Close</th>\n",
              "      <th>VIX</th>\n",
              "      <th>AAL</th>\n",
              "      <th>AAPL</th>\n",
              "      <th>AMD</th>\n",
              "      <th>AMZN</th>\n",
              "      <th>CCL</th>\n",
              "      <th>GOOG</th>\n",
              "      <th>GOOGL</th>\n",
              "      <th>INTC</th>\n",
              "      <th>JNJ</th>\n",
              "      <th>NFLX</th>\n",
              "      <th>NVDA</th>\n",
              "      <th>TSLA</th>\n",
              "      <th>TWTR</th>\n",
              "      <th>ROC_prediction_label</th>\n",
              "    </tr>\n",
              "    <tr>\n",
              "      <th>Date</th>\n",
              "      <th></th>\n",
              "      <th></th>\n",
              "      <th></th>\n",
              "      <th></th>\n",
              "      <th></th>\n",
              "      <th></th>\n",
              "      <th></th>\n",
              "      <th></th>\n",
              "      <th></th>\n",
              "      <th></th>\n",
              "      <th></th>\n",
              "      <th></th>\n",
              "      <th></th>\n",
              "      <th></th>\n",
              "      <th></th>\n",
              "      <th></th>\n",
              "      <th></th>\n",
              "      <th></th>\n",
              "      <th></th>\n",
              "      <th></th>\n",
              "    </tr>\n",
              "  </thead>\n",
              "  <tbody>\n",
              "    <tr>\n",
              "      <th>2017-01-04</th>\n",
              "      <td>['target-stock.', 'target-stock is the leader ...</td>\n",
              "      <td>0.008061</td>\n",
              "      <td>0.009671</td>\n",
              "      <td>0.009050</td>\n",
              "      <td>0.011383</td>\n",
              "      <td>11.85</td>\n",
              "      <td>0</td>\n",
              "      <td>0</td>\n",
              "      <td>0</td>\n",
              "      <td>0</td>\n",
              "      <td>0</td>\n",
              "      <td>0</td>\n",
              "      <td>0</td>\n",
              "      <td>0</td>\n",
              "      <td>0</td>\n",
              "      <td>0</td>\n",
              "      <td>0</td>\n",
              "      <td>1</td>\n",
              "      <td>0</td>\n",
              "      <td>1</td>\n",
              "    </tr>\n",
              "    <tr>\n",
              "      <th>2017-01-04</th>\n",
              "      <td>['Why is everyone so confident in target-stock...</td>\n",
              "      <td>0.012558</td>\n",
              "      <td>0.013607</td>\n",
              "      <td>0.010804</td>\n",
              "      <td>0.014647</td>\n",
              "      <td>11.85</td>\n",
              "      <td>0</td>\n",
              "      <td>0</td>\n",
              "      <td>0</td>\n",
              "      <td>0</td>\n",
              "      <td>0</td>\n",
              "      <td>0</td>\n",
              "      <td>0</td>\n",
              "      <td>0</td>\n",
              "      <td>0</td>\n",
              "      <td>0</td>\n",
              "      <td>1</td>\n",
              "      <td>0</td>\n",
              "      <td>0</td>\n",
              "      <td>0</td>\n",
              "    </tr>\n",
              "    <tr>\n",
              "      <th>2017-01-04</th>\n",
              "      <td>['Why is everyone so confident in NVDA and tar...</td>\n",
              "      <td>0.026704</td>\n",
              "      <td>0.019566</td>\n",
              "      <td>0.025109</td>\n",
              "      <td>0.021660</td>\n",
              "      <td>11.85</td>\n",
              "      <td>0</td>\n",
              "      <td>0</td>\n",
              "      <td>1</td>\n",
              "      <td>0</td>\n",
              "      <td>0</td>\n",
              "      <td>0</td>\n",
              "      <td>0</td>\n",
              "      <td>0</td>\n",
              "      <td>0</td>\n",
              "      <td>0</td>\n",
              "      <td>0</td>\n",
              "      <td>0</td>\n",
              "      <td>0</td>\n",
              "      <td>0</td>\n",
              "    </tr>\n",
              "    <tr>\n",
              "      <th>2017-01-04</th>\n",
              "      <td>['target-stock is interesting to watch this we...</td>\n",
              "      <td>0.000000</td>\n",
              "      <td>0.000000</td>\n",
              "      <td>0.000000</td>\n",
              "      <td>0.000503</td>\n",
              "      <td>11.85</td>\n",
              "      <td>0</td>\n",
              "      <td>0</td>\n",
              "      <td>0</td>\n",
              "      <td>0</td>\n",
              "      <td>0</td>\n",
              "      <td>0</td>\n",
              "      <td>0</td>\n",
              "      <td>0</td>\n",
              "      <td>0</td>\n",
              "      <td>1</td>\n",
              "      <td>0</td>\n",
              "      <td>0</td>\n",
              "      <td>0</td>\n",
              "      <td>2</td>\n",
              "    </tr>\n",
              "    <tr>\n",
              "      <th>2017-01-05</th>\n",
              "      <td>['Might sell Tsla got in at 188.', 'When looki...</td>\n",
              "      <td>0.010851</td>\n",
              "      <td>0.009554</td>\n",
              "      <td>0.010906</td>\n",
              "      <td>0.011324</td>\n",
              "      <td>11.67</td>\n",
              "      <td>0</td>\n",
              "      <td>0</td>\n",
              "      <td>0</td>\n",
              "      <td>0</td>\n",
              "      <td>0</td>\n",
              "      <td>0</td>\n",
              "      <td>0</td>\n",
              "      <td>0</td>\n",
              "      <td>0</td>\n",
              "      <td>0</td>\n",
              "      <td>0</td>\n",
              "      <td>1</td>\n",
              "      <td>0</td>\n",
              "      <td>2</td>\n",
              "    </tr>\n",
              "    <tr>\n",
              "      <th>2017-01-05</th>\n",
              "      <td>['Yeah I bought a load of shares right before ...</td>\n",
              "      <td>0.026479</td>\n",
              "      <td>0.021467</td>\n",
              "      <td>0.025109</td>\n",
              "      <td>0.019494</td>\n",
              "      <td>11.67</td>\n",
              "      <td>0</td>\n",
              "      <td>0</td>\n",
              "      <td>1</td>\n",
              "      <td>0</td>\n",
              "      <td>0</td>\n",
              "      <td>0</td>\n",
              "      <td>0</td>\n",
              "      <td>0</td>\n",
              "      <td>0</td>\n",
              "      <td>0</td>\n",
              "      <td>0</td>\n",
              "      <td>0</td>\n",
              "      <td>0</td>\n",
              "      <td>2</td>\n",
              "    </tr>\n",
              "    <tr>\n",
              "      <th>2017-01-05</th>\n",
              "      <td>['[$15.05 revenue per share](http://finance.ya...</td>\n",
              "      <td>0.040973</td>\n",
              "      <td>0.043321</td>\n",
              "      <td>0.044021</td>\n",
              "      <td>0.044303</td>\n",
              "      <td>11.67</td>\n",
              "      <td>0</td>\n",
              "      <td>0</td>\n",
              "      <td>0</td>\n",
              "      <td>0</td>\n",
              "      <td>0</td>\n",
              "      <td>0</td>\n",
              "      <td>0</td>\n",
              "      <td>0</td>\n",
              "      <td>0</td>\n",
              "      <td>0</td>\n",
              "      <td>0</td>\n",
              "      <td>0</td>\n",
              "      <td>1</td>\n",
              "      <td>1</td>\n",
              "    </tr>\n",
              "    <tr>\n",
              "      <th>2017-01-05</th>\n",
              "      <td>['Strikes for the amzn puts?', \"All the report...</td>\n",
              "      <td>0.000000</td>\n",
              "      <td>0.000000</td>\n",
              "      <td>0.000000</td>\n",
              "      <td>0.000000</td>\n",
              "      <td>11.67</td>\n",
              "      <td>0</td>\n",
              "      <td>0</td>\n",
              "      <td>0</td>\n",
              "      <td>1</td>\n",
              "      <td>0</td>\n",
              "      <td>0</td>\n",
              "      <td>0</td>\n",
              "      <td>0</td>\n",
              "      <td>0</td>\n",
              "      <td>0</td>\n",
              "      <td>0</td>\n",
              "      <td>0</td>\n",
              "      <td>0</td>\n",
              "      <td>2</td>\n",
              "    </tr>\n",
              "    <tr>\n",
              "      <th>2017-01-06</th>\n",
              "      <td>[\"This post inspired me!  Had 10C's typed up f...</td>\n",
              "      <td>0.011623</td>\n",
              "      <td>0.011556</td>\n",
              "      <td>0.010244</td>\n",
              "      <td>0.012524</td>\n",
              "      <td>11.32</td>\n",
              "      <td>0</td>\n",
              "      <td>0</td>\n",
              "      <td>0</td>\n",
              "      <td>0</td>\n",
              "      <td>0</td>\n",
              "      <td>0</td>\n",
              "      <td>0</td>\n",
              "      <td>0</td>\n",
              "      <td>0</td>\n",
              "      <td>0</td>\n",
              "      <td>1</td>\n",
              "      <td>0</td>\n",
              "      <td>0</td>\n",
              "      <td>2</td>\n",
              "    </tr>\n",
              "    <tr>\n",
              "      <th>2017-01-06</th>\n",
              "      <td>['Did anybody else notice that the daily 5 min...</td>\n",
              "      <td>0.024901</td>\n",
              "      <td>0.019231</td>\n",
              "      <td>0.023733</td>\n",
              "      <td>0.020406</td>\n",
              "      <td>11.32</td>\n",
              "      <td>0</td>\n",
              "      <td>0</td>\n",
              "      <td>1</td>\n",
              "      <td>0</td>\n",
              "      <td>0</td>\n",
              "      <td>0</td>\n",
              "      <td>0</td>\n",
              "      <td>0</td>\n",
              "      <td>0</td>\n",
              "      <td>0</td>\n",
              "      <td>0</td>\n",
              "      <td>0</td>\n",
              "      <td>0</td>\n",
              "      <td>2</td>\n",
              "    </tr>\n",
              "  </tbody>\n",
              "</table>\n",
              "</div>"
            ],
            "text/plain": [
              "                                                         text  ...  ROC_prediction_label\n",
              "Date                                                           ...                      \n",
              "2017-01-04  ['target-stock.', 'target-stock is the leader ...  ...                     1\n",
              "2017-01-04  ['Why is everyone so confident in target-stock...  ...                     0\n",
              "2017-01-04  ['Why is everyone so confident in NVDA and tar...  ...                     0\n",
              "2017-01-04  ['target-stock is interesting to watch this we...  ...                     2\n",
              "2017-01-05  ['Might sell Tsla got in at 188.', 'When looki...  ...                     2\n",
              "2017-01-05  ['Yeah I bought a load of shares right before ...  ...                     2\n",
              "2017-01-05  ['[$15.05 revenue per share](http://finance.ya...  ...                     1\n",
              "2017-01-05  ['Strikes for the amzn puts?', \"All the report...  ...                     2\n",
              "2017-01-06  [\"This post inspired me!  Had 10C's typed up f...  ...                     2\n",
              "2017-01-06  ['Did anybody else notice that the daily 5 min...  ...                     2\n",
              "\n",
              "[10 rows x 20 columns]"
            ]
          },
          "metadata": {
            "tags": []
          },
          "execution_count": 218
        }
      ]
    },
    {
      "cell_type": "code",
      "metadata": {
        "id": "RnhbLheawwV6",
        "colab": {
          "base_uri": "https://localhost:8080/"
        },
        "outputId": "e623dca6-c0fa-4fd2-c3f1-79dfaa816b7a"
      },
      "source": [
        "import nltk\n",
        "nltk.download('stopwords')"
      ],
      "execution_count": 219,
      "outputs": [
        {
          "output_type": "stream",
          "text": [
            "[nltk_data] Downloading package stopwords to /root/nltk_data...\n",
            "[nltk_data]   Package stopwords is already up-to-date!\n"
          ],
          "name": "stdout"
        },
        {
          "output_type": "execute_result",
          "data": {
            "text/plain": [
              "True"
            ]
          },
          "metadata": {
            "tags": []
          },
          "execution_count": 219
        }
      ]
    },
    {
      "cell_type": "code",
      "metadata": {
        "id": "hk611YvQujCU"
      },
      "source": [
        "def unicode_to_ascii(s):\n",
        "    return ''.join(c for c in unicodedata.normalize('NFD', s) if unicodedata.category(c) != 'Mn')\n",
        "\n",
        "def clean_stopwords_shortwords(w):\n",
        "    stopwords_list=stopwords.words('english')\n",
        "    words = w.split() \n",
        "    clean_words = [word for word in words if (word not in stopwords_list) and len(word) > 2]\n",
        "    return \" \".join(clean_words) \n",
        "\n",
        "def preprocess_sentence(w):\n",
        "    w = unicode_to_ascii(w.lower().strip())\n",
        "    w = re.sub(r\"([?.!,¿])\", r\" \", w)\n",
        "    w = re.sub(r'[\" \"]+', \" \", w)\n",
        "    w = re.sub(r\"[^a-zA-Z?.!,¿]+\", \" \", w)\n",
        "    w=clean_stopwords_shortwords(w)\n",
        "    w=re.sub(r'@\\w+', '',w)\n",
        "    return w"
      ],
      "execution_count": 220,
      "outputs": []
    },
    {
      "cell_type": "code",
      "metadata": {
        "id": "zPTF70Tawdve"
      },
      "source": [
        "#preprocess a text\n",
        "df['text']=df['text'].map(preprocess_sentence)    "
      ],
      "execution_count": 221,
      "outputs": []
    },
    {
      "cell_type": "code",
      "metadata": {
        "id": "JzfTA_hUzkS0",
        "colab": {
          "base_uri": "https://localhost:8080/",
          "height": 235
        },
        "outputId": "85dea805-c3d2-4ba2-fb74-7eeb959e37bb"
      },
      "source": [
        "df.head()\n",
        "#df.to_csv('/content/drive/My Drive/project1/df_test2.csv')"
      ],
      "execution_count": 224,
      "outputs": [
        {
          "output_type": "execute_result",
          "data": {
            "text/html": [
              "<div>\n",
              "<style scoped>\n",
              "    .dataframe tbody tr th:only-of-type {\n",
              "        vertical-align: middle;\n",
              "    }\n",
              "\n",
              "    .dataframe tbody tr th {\n",
              "        vertical-align: top;\n",
              "    }\n",
              "\n",
              "    .dataframe thead th {\n",
              "        text-align: right;\n",
              "    }\n",
              "</style>\n",
              "<table border=\"1\" class=\"dataframe\">\n",
              "  <thead>\n",
              "    <tr style=\"text-align: right;\">\n",
              "      <th></th>\n",
              "      <th>text</th>\n",
              "      <th>Open</th>\n",
              "      <th>High</th>\n",
              "      <th>Low</th>\n",
              "      <th>Close</th>\n",
              "      <th>VIX</th>\n",
              "      <th>AAL</th>\n",
              "      <th>AAPL</th>\n",
              "      <th>AMD</th>\n",
              "      <th>AMZN</th>\n",
              "      <th>CCL</th>\n",
              "      <th>GOOG</th>\n",
              "      <th>GOOGL</th>\n",
              "      <th>INTC</th>\n",
              "      <th>JNJ</th>\n",
              "      <th>NFLX</th>\n",
              "      <th>NVDA</th>\n",
              "      <th>TSLA</th>\n",
              "      <th>TWTR</th>\n",
              "      <th>ROC_prediction_label</th>\n",
              "    </tr>\n",
              "    <tr>\n",
              "      <th>Date</th>\n",
              "      <th></th>\n",
              "      <th></th>\n",
              "      <th></th>\n",
              "      <th></th>\n",
              "      <th></th>\n",
              "      <th></th>\n",
              "      <th></th>\n",
              "      <th></th>\n",
              "      <th></th>\n",
              "      <th></th>\n",
              "      <th></th>\n",
              "      <th></th>\n",
              "      <th></th>\n",
              "      <th></th>\n",
              "      <th></th>\n",
              "      <th></th>\n",
              "      <th></th>\n",
              "      <th></th>\n",
              "      <th></th>\n",
              "      <th></th>\n",
              "    </tr>\n",
              "  </thead>\n",
              "  <tbody>\n",
              "    <tr>\n",
              "      <th>2017-01-04</th>\n",
              "      <td>target stock target stock leader self driving ...</td>\n",
              "      <td>0.008061</td>\n",
              "      <td>0.009671</td>\n",
              "      <td>0.009050</td>\n",
              "      <td>0.011383</td>\n",
              "      <td>11.85</td>\n",
              "      <td>0</td>\n",
              "      <td>0</td>\n",
              "      <td>0</td>\n",
              "      <td>0</td>\n",
              "      <td>0</td>\n",
              "      <td>0</td>\n",
              "      <td>0</td>\n",
              "      <td>0</td>\n",
              "      <td>0</td>\n",
              "      <td>0</td>\n",
              "      <td>0</td>\n",
              "      <td>1</td>\n",
              "      <td>0</td>\n",
              "      <td>1</td>\n",
              "    </tr>\n",
              "    <tr>\n",
              "      <th>2017-01-04</th>\n",
              "      <td>everyone confident target stock amd really tra...</td>\n",
              "      <td>0.012558</td>\n",
              "      <td>0.013607</td>\n",
              "      <td>0.010804</td>\n",
              "      <td>0.014647</td>\n",
              "      <td>11.85</td>\n",
              "      <td>0</td>\n",
              "      <td>0</td>\n",
              "      <td>0</td>\n",
              "      <td>0</td>\n",
              "      <td>0</td>\n",
              "      <td>0</td>\n",
              "      <td>0</td>\n",
              "      <td>0</td>\n",
              "      <td>0</td>\n",
              "      <td>0</td>\n",
              "      <td>1</td>\n",
              "      <td>0</td>\n",
              "      <td>0</td>\n",
              "      <td>0</td>\n",
              "    </tr>\n",
              "    <tr>\n",
              "      <th>2017-01-04</th>\n",
              "      <td>everyone confident nvda target stock target st...</td>\n",
              "      <td>0.026704</td>\n",
              "      <td>0.019566</td>\n",
              "      <td>0.025109</td>\n",
              "      <td>0.021660</td>\n",
              "      <td>11.85</td>\n",
              "      <td>0</td>\n",
              "      <td>0</td>\n",
              "      <td>1</td>\n",
              "      <td>0</td>\n",
              "      <td>0</td>\n",
              "      <td>0</td>\n",
              "      <td>0</td>\n",
              "      <td>0</td>\n",
              "      <td>0</td>\n",
              "      <td>0</td>\n",
              "      <td>0</td>\n",
              "      <td>0</td>\n",
              "      <td>0</td>\n",
              "      <td>0</td>\n",
              "    </tr>\n",
              "    <tr>\n",
              "      <th>2017-01-04</th>\n",
              "      <td>target stock interesting watch week think quar...</td>\n",
              "      <td>0.000000</td>\n",
              "      <td>0.000000</td>\n",
              "      <td>0.000000</td>\n",
              "      <td>0.000503</td>\n",
              "      <td>11.85</td>\n",
              "      <td>0</td>\n",
              "      <td>0</td>\n",
              "      <td>0</td>\n",
              "      <td>0</td>\n",
              "      <td>0</td>\n",
              "      <td>0</td>\n",
              "      <td>0</td>\n",
              "      <td>0</td>\n",
              "      <td>0</td>\n",
              "      <td>1</td>\n",
              "      <td>0</td>\n",
              "      <td>0</td>\n",
              "      <td>0</td>\n",
              "      <td>2</td>\n",
              "    </tr>\n",
              "    <tr>\n",
              "      <th>2017-01-05</th>\n",
              "      <td>might sell tsla got looking last years data tr...</td>\n",
              "      <td>0.010851</td>\n",
              "      <td>0.009554</td>\n",
              "      <td>0.010906</td>\n",
              "      <td>0.011324</td>\n",
              "      <td>11.67</td>\n",
              "      <td>0</td>\n",
              "      <td>0</td>\n",
              "      <td>0</td>\n",
              "      <td>0</td>\n",
              "      <td>0</td>\n",
              "      <td>0</td>\n",
              "      <td>0</td>\n",
              "      <td>0</td>\n",
              "      <td>0</td>\n",
              "      <td>0</td>\n",
              "      <td>0</td>\n",
              "      <td>1</td>\n",
              "      <td>0</td>\n",
              "      <td>2</td>\n",
              "    </tr>\n",
              "  </tbody>\n",
              "</table>\n",
              "</div>"
            ],
            "text/plain": [
              "                                                         text  ...  ROC_prediction_label\n",
              "Date                                                           ...                      \n",
              "2017-01-04  target stock target stock leader self driving ...  ...                     1\n",
              "2017-01-04  everyone confident target stock amd really tra...  ...                     0\n",
              "2017-01-04  everyone confident nvda target stock target st...  ...                     0\n",
              "2017-01-04  target stock interesting watch week think quar...  ...                     2\n",
              "2017-01-05  might sell tsla got looking last years data tr...  ...                     2\n",
              "\n",
              "[5 rows x 20 columns]"
            ]
          },
          "metadata": {
            "tags": []
          },
          "execution_count": 224
        }
      ]
    },
    {
      "cell_type": "code",
      "metadata": {
        "id": "Jovr0s9QKuBD",
        "colab": {
          "base_uri": "https://localhost:8080/"
        },
        "outputId": "a87676ef-fc38-4247-c26c-4a359bbe76a0"
      },
      "source": [
        "sentences=df['text']\n",
        "labels=df['ROC_prediction_label']\n",
        "len(sentences),len(labels)"
      ],
      "execution_count": 159,
      "outputs": [
        {
          "output_type": "execute_result",
          "data": {
            "text/plain": [
              "(9184, 9184)"
            ]
          },
          "metadata": {
            "tags": []
          },
          "execution_count": 159
        }
      ]
    },
    {
      "cell_type": "code",
      "metadata": {
        "id": "aZDBDvgk318X"
      },
      "source": [
        "from transformers import TFBertForSequenceClassification, TFBertForMultipleChoice\n",
        "from transformers import BertTokenizer, TFBertModel, BertConfig\n",
        "bert_tokenizer = BertTokenizer.from_pretrained(\"bert-large-uncased\")\n",
        "#bert_model = TFBertForMultipleChoice.from_pretrained('bert-large-uncased')# 3 나중에 수정"
      ],
      "execution_count": 156,
      "outputs": []
    },
    {
      "cell_type": "code",
      "metadata": {
        "colab": {
          "base_uri": "https://localhost:8080/"
        },
        "id": "Nntfcp58KotG",
        "outputId": "d2a9332e-8d15-4df2-a512-3eda0fd941f2"
      },
      "source": [
        "input_ids=[]\n",
        "attention_masks=[]\n",
        "\n",
        "#tokenizing\n",
        "for sent in sentences:\n",
        "    bert_inp=bert_tokenizer.encode_plus(sent,add_special_tokens = True,max_length =512,pad_to_max_length = True,return_attention_mask = True)\n",
        "    input_ids.append(bert_inp['input_ids'])\n",
        "    attention_masks.append(bert_inp['attention_mask'])\n",
        "\n",
        "input_ids=np.asarray(input_ids)\n",
        "attention_masks=np.array(attention_masks)\n",
        "labels=np.array(labels)"
      ],
      "execution_count": 160,
      "outputs": [
        {
          "output_type": "stream",
          "text": [
            "/usr/local/lib/python3.7/dist-packages/transformers/tokenization_utils_base.py:2110: FutureWarning: The `pad_to_max_length` argument is deprecated and will be removed in a future version, use `padding=True` or `padding='longest'` to pad to the longest sequence in the batch, or use `padding='max_length'` to pad to a max length. In this case, you can give a specific length with `max_length` (e.g. `max_length=45`) or leave max_length to None to pad to the maximal input size of the model (e.g. 512 for Bert).\n",
            "  FutureWarning,\n"
          ],
          "name": "stderr"
        }
      ]
    },
    {
      "cell_type": "code",
      "metadata": {
        "colab": {
          "base_uri": "https://localhost:8080/"
        },
        "id": "IPFtbNWULcFH",
        "outputId": "f399580c-9e06-4228-eadc-c66d9a46920c"
      },
      "source": [
        "len(input_ids),len(attention_masks),len(labels)"
      ],
      "execution_count": 161,
      "outputs": [
        {
          "output_type": "execute_result",
          "data": {
            "text/plain": [
              "(9184, 9184, 9184)"
            ]
          },
          "metadata": {
            "tags": []
          },
          "execution_count": 161
        }
      ]
    },
    {
      "cell_type": "code",
      "metadata": {
        "id": "umTz_-T9NuiA"
      },
      "source": [
        "log_dir='tensorboard_data/tb_bert'\n",
        "model_save_path='/content/drive/My Drive/project1/bert_model.h5'\n",
        "\n",
        "callbacks = [tf.keras.callbacks.ModelCheckpoint(filepath=model_save_path,save_weights_only=True,monitor='val_loss',mode='min',save_best_only=True),keras.callbacks.TensorBoard(log_dir=log_dir)]"
      ],
      "execution_count": 162,
      "outputs": []
    },
    {
      "cell_type": "code",
      "metadata": {
        "id": "37GRHBYHCO29"
      },
      "source": [
        "#Construct BERT embedding layer\n",
        "\n",
        "transformer_model = TFBertModel.from_pretrained('bert-base-uncased')\n",
        "\n",
        "input_ids_1 = tf.keras.layers.Input(shape=(512,), name='input_token', dtype='int32')\n",
        "input_masks_ids_1 = tf.keras.layers.Input(shape=(512,), name='masked_token', dtype='int32')\n",
        "X = transformer_model(input_ids_1, input_masks_ids_1)[0]\n",
        "X = tf.keras.layers.Dropout(0.2)(X)\n",
        "X = tf.keras.layers.Dense(5, activation = 'relu')(X)\n",
        "#X = tf.keras.layers.Dense(1, activation='relu')(X) # for concatenation, output dim's shoud be '1'\n",
        "X = tf.keras.layers.Reshape((20,128))(X)\n",
        "model = tf.keras.Model(inputs=[input_ids_1, input_masks_ids_1], outputs = X)\n",
        "model.summary()"
      ],
      "execution_count": null,
      "outputs": []
    },
    {
      "cell_type": "code",
      "metadata": {
        "colab": {
          "base_uri": "https://localhost:8080/",
          "height": 450
        },
        "id": "fdsRaJojioWW",
        "outputId": "1f58a178-21c9-4a2b-abb5-daf8f88e4f0e"
      },
      "source": [
        "#model for lstm\n",
        "#get a stock data\n",
        "numbers = df[df.columns[1:-1]]\n",
        "numbers"
      ],
      "execution_count": 172,
      "outputs": [
        {
          "output_type": "execute_result",
          "data": {
            "text/html": [
              "<div>\n",
              "<style scoped>\n",
              "    .dataframe tbody tr th:only-of-type {\n",
              "        vertical-align: middle;\n",
              "    }\n",
              "\n",
              "    .dataframe tbody tr th {\n",
              "        vertical-align: top;\n",
              "    }\n",
              "\n",
              "    .dataframe thead th {\n",
              "        text-align: right;\n",
              "    }\n",
              "</style>\n",
              "<table border=\"1\" class=\"dataframe\">\n",
              "  <thead>\n",
              "    <tr style=\"text-align: right;\">\n",
              "      <th></th>\n",
              "      <th>Open</th>\n",
              "      <th>High</th>\n",
              "      <th>Low</th>\n",
              "      <th>Close</th>\n",
              "      <th>VIX</th>\n",
              "      <th>AAL</th>\n",
              "      <th>AAPL</th>\n",
              "      <th>AMD</th>\n",
              "      <th>AMZN</th>\n",
              "      <th>CCL</th>\n",
              "      <th>GOOG</th>\n",
              "      <th>GOOGL</th>\n",
              "      <th>INTC</th>\n",
              "      <th>JNJ</th>\n",
              "      <th>NFLX</th>\n",
              "      <th>NVDA</th>\n",
              "      <th>TSLA</th>\n",
              "      <th>TWTR</th>\n",
              "    </tr>\n",
              "    <tr>\n",
              "      <th>Date</th>\n",
              "      <th></th>\n",
              "      <th></th>\n",
              "      <th></th>\n",
              "      <th></th>\n",
              "      <th></th>\n",
              "      <th></th>\n",
              "      <th></th>\n",
              "      <th></th>\n",
              "      <th></th>\n",
              "      <th></th>\n",
              "      <th></th>\n",
              "      <th></th>\n",
              "      <th></th>\n",
              "      <th></th>\n",
              "      <th></th>\n",
              "      <th></th>\n",
              "      <th></th>\n",
              "      <th></th>\n",
              "    </tr>\n",
              "  </thead>\n",
              "  <tbody>\n",
              "    <tr>\n",
              "      <th>2017-01-04</th>\n",
              "      <td>0.008061</td>\n",
              "      <td>0.009671</td>\n",
              "      <td>0.009050</td>\n",
              "      <td>0.011383</td>\n",
              "      <td>11.850000</td>\n",
              "      <td>0</td>\n",
              "      <td>0</td>\n",
              "      <td>0</td>\n",
              "      <td>0</td>\n",
              "      <td>0</td>\n",
              "      <td>0</td>\n",
              "      <td>0</td>\n",
              "      <td>0</td>\n",
              "      <td>0</td>\n",
              "      <td>0</td>\n",
              "      <td>0</td>\n",
              "      <td>1</td>\n",
              "      <td>0</td>\n",
              "    </tr>\n",
              "    <tr>\n",
              "      <th>2017-01-04</th>\n",
              "      <td>0.012558</td>\n",
              "      <td>0.013607</td>\n",
              "      <td>0.010804</td>\n",
              "      <td>0.014647</td>\n",
              "      <td>11.850000</td>\n",
              "      <td>0</td>\n",
              "      <td>0</td>\n",
              "      <td>0</td>\n",
              "      <td>0</td>\n",
              "      <td>0</td>\n",
              "      <td>0</td>\n",
              "      <td>0</td>\n",
              "      <td>0</td>\n",
              "      <td>0</td>\n",
              "      <td>0</td>\n",
              "      <td>1</td>\n",
              "      <td>0</td>\n",
              "      <td>0</td>\n",
              "    </tr>\n",
              "    <tr>\n",
              "      <th>2017-01-04</th>\n",
              "      <td>0.026704</td>\n",
              "      <td>0.019566</td>\n",
              "      <td>0.025109</td>\n",
              "      <td>0.021660</td>\n",
              "      <td>11.850000</td>\n",
              "      <td>0</td>\n",
              "      <td>0</td>\n",
              "      <td>1</td>\n",
              "      <td>0</td>\n",
              "      <td>0</td>\n",
              "      <td>0</td>\n",
              "      <td>0</td>\n",
              "      <td>0</td>\n",
              "      <td>0</td>\n",
              "      <td>0</td>\n",
              "      <td>0</td>\n",
              "      <td>0</td>\n",
              "      <td>0</td>\n",
              "    </tr>\n",
              "    <tr>\n",
              "      <th>2017-01-04</th>\n",
              "      <td>0.000000</td>\n",
              "      <td>0.000000</td>\n",
              "      <td>0.000000</td>\n",
              "      <td>0.000503</td>\n",
              "      <td>11.850000</td>\n",
              "      <td>0</td>\n",
              "      <td>0</td>\n",
              "      <td>0</td>\n",
              "      <td>0</td>\n",
              "      <td>0</td>\n",
              "      <td>0</td>\n",
              "      <td>0</td>\n",
              "      <td>0</td>\n",
              "      <td>0</td>\n",
              "      <td>1</td>\n",
              "      <td>0</td>\n",
              "      <td>0</td>\n",
              "      <td>0</td>\n",
              "    </tr>\n",
              "    <tr>\n",
              "      <th>2017-01-05</th>\n",
              "      <td>0.010851</td>\n",
              "      <td>0.009554</td>\n",
              "      <td>0.010906</td>\n",
              "      <td>0.011324</td>\n",
              "      <td>11.670000</td>\n",
              "      <td>0</td>\n",
              "      <td>0</td>\n",
              "      <td>0</td>\n",
              "      <td>0</td>\n",
              "      <td>0</td>\n",
              "      <td>0</td>\n",
              "      <td>0</td>\n",
              "      <td>0</td>\n",
              "      <td>0</td>\n",
              "      <td>0</td>\n",
              "      <td>0</td>\n",
              "      <td>1</td>\n",
              "      <td>0</td>\n",
              "    </tr>\n",
              "    <tr>\n",
              "      <th>...</th>\n",
              "      <td>...</td>\n",
              "      <td>...</td>\n",
              "      <td>...</td>\n",
              "      <td>...</td>\n",
              "      <td>...</td>\n",
              "      <td>...</td>\n",
              "      <td>...</td>\n",
              "      <td>...</td>\n",
              "      <td>...</td>\n",
              "      <td>...</td>\n",
              "      <td>...</td>\n",
              "      <td>...</td>\n",
              "      <td>...</td>\n",
              "      <td>...</td>\n",
              "      <td>...</td>\n",
              "      <td>...</td>\n",
              "      <td>...</td>\n",
              "      <td>...</td>\n",
              "    </tr>\n",
              "    <tr>\n",
              "      <th>2021-06-03</th>\n",
              "      <td>0.339861</td>\n",
              "      <td>0.332454</td>\n",
              "      <td>0.338624</td>\n",
              "      <td>0.322640</td>\n",
              "      <td>18.040001</td>\n",
              "      <td>1</td>\n",
              "      <td>0</td>\n",
              "      <td>0</td>\n",
              "      <td>0</td>\n",
              "      <td>0</td>\n",
              "      <td>0</td>\n",
              "      <td>0</td>\n",
              "      <td>0</td>\n",
              "      <td>0</td>\n",
              "      <td>0</td>\n",
              "      <td>0</td>\n",
              "      <td>0</td>\n",
              "      <td>0</td>\n",
              "    </tr>\n",
              "    <tr>\n",
              "      <th>2021-06-03</th>\n",
              "      <td>0.391106</td>\n",
              "      <td>0.384888</td>\n",
              "      <td>0.381815</td>\n",
              "      <td>0.384681</td>\n",
              "      <td>18.040001</td>\n",
              "      <td>0</td>\n",
              "      <td>0</td>\n",
              "      <td>0</td>\n",
              "      <td>0</td>\n",
              "      <td>1</td>\n",
              "      <td>0</td>\n",
              "      <td>0</td>\n",
              "      <td>0</td>\n",
              "      <td>0</td>\n",
              "      <td>0</td>\n",
              "      <td>0</td>\n",
              "      <td>0</td>\n",
              "      <td>0</td>\n",
              "    </tr>\n",
              "    <tr>\n",
              "      <th>2021-06-03</th>\n",
              "      <td>0.836041</td>\n",
              "      <td>0.831019</td>\n",
              "      <td>0.845417</td>\n",
              "      <td>0.836135</td>\n",
              "      <td>18.040001</td>\n",
              "      <td>0</td>\n",
              "      <td>1</td>\n",
              "      <td>0</td>\n",
              "      <td>0</td>\n",
              "      <td>0</td>\n",
              "      <td>0</td>\n",
              "      <td>0</td>\n",
              "      <td>0</td>\n",
              "      <td>0</td>\n",
              "      <td>0</td>\n",
              "      <td>0</td>\n",
              "      <td>0</td>\n",
              "      <td>0</td>\n",
              "    </tr>\n",
              "    <tr>\n",
              "      <th>2021-06-03</th>\n",
              "      <td>0.970892</td>\n",
              "      <td>0.973458</td>\n",
              "      <td>0.965429</td>\n",
              "      <td>0.959943</td>\n",
              "      <td>18.040001</td>\n",
              "      <td>0</td>\n",
              "      <td>0</td>\n",
              "      <td>0</td>\n",
              "      <td>0</td>\n",
              "      <td>0</td>\n",
              "      <td>0</td>\n",
              "      <td>0</td>\n",
              "      <td>0</td>\n",
              "      <td>0</td>\n",
              "      <td>0</td>\n",
              "      <td>1</td>\n",
              "      <td>0</td>\n",
              "      <td>0</td>\n",
              "    </tr>\n",
              "    <tr>\n",
              "      <th>2021-06-03</th>\n",
              "      <td>0.684070</td>\n",
              "      <td>0.653595</td>\n",
              "      <td>0.670297</td>\n",
              "      <td>0.649871</td>\n",
              "      <td>18.040001</td>\n",
              "      <td>0</td>\n",
              "      <td>0</td>\n",
              "      <td>0</td>\n",
              "      <td>0</td>\n",
              "      <td>0</td>\n",
              "      <td>0</td>\n",
              "      <td>0</td>\n",
              "      <td>1</td>\n",
              "      <td>0</td>\n",
              "      <td>0</td>\n",
              "      <td>0</td>\n",
              "      <td>0</td>\n",
              "      <td>0</td>\n",
              "    </tr>\n",
              "  </tbody>\n",
              "</table>\n",
              "<p>9184 rows × 18 columns</p>\n",
              "</div>"
            ],
            "text/plain": [
              "                Open      High       Low     Close  ...  NFLX  NVDA  TSLA  TWTR\n",
              "Date                                                ...                        \n",
              "2017-01-04  0.008061  0.009671  0.009050  0.011383  ...     0     0     1     0\n",
              "2017-01-04  0.012558  0.013607  0.010804  0.014647  ...     0     1     0     0\n",
              "2017-01-04  0.026704  0.019566  0.025109  0.021660  ...     0     0     0     0\n",
              "2017-01-04  0.000000  0.000000  0.000000  0.000503  ...     1     0     0     0\n",
              "2017-01-05  0.010851  0.009554  0.010906  0.011324  ...     0     0     1     0\n",
              "...              ...       ...       ...       ...  ...   ...   ...   ...   ...\n",
              "2021-06-03  0.339861  0.332454  0.338624  0.322640  ...     0     0     0     0\n",
              "2021-06-03  0.391106  0.384888  0.381815  0.384681  ...     0     0     0     0\n",
              "2021-06-03  0.836041  0.831019  0.845417  0.836135  ...     0     0     0     0\n",
              "2021-06-03  0.970892  0.973458  0.965429  0.959943  ...     0     1     0     0\n",
              "2021-06-03  0.684070  0.653595  0.670297  0.649871  ...     0     0     0     0\n",
              "\n",
              "[9184 rows x 18 columns]"
            ]
          },
          "metadata": {
            "tags": []
          },
          "execution_count": 172
        }
      ]
    },
    {
      "cell_type": "code",
      "metadata": {
        "id": "Fx-JyTdEkue_"
      },
      "source": [
        "from sklearn.preprocessing import MinMaxScaler\n",
        "sc = MinMaxScaler(feature_range = (0, 1))\n",
        "training_set_scaled = sc.fit_transform(numbers)"
      ],
      "execution_count": 173,
      "outputs": []
    },
    {
      "cell_type": "code",
      "metadata": {
        "id": "p7hWyEdDiqSa"
      },
      "source": [
        "training_set_scaled"
      ],
      "execution_count": null,
      "outputs": []
    },
    {
      "cell_type": "code",
      "metadata": {
        "colab": {
          "base_uri": "https://localhost:8080/"
        },
        "id": "aYZknClFkxkW",
        "outputId": "db0321ad-7aa4-4a18-aed4-016079b15f54"
      },
      "source": [
        "training_set_scaled.shape"
      ],
      "execution_count": 197,
      "outputs": [
        {
          "output_type": "execute_result",
          "data": {
            "text/plain": [
              "(9184, 18)"
            ]
          },
          "metadata": {
            "tags": []
          },
          "execution_count": 197
        }
      ]
    },
    {
      "cell_type": "code",
      "metadata": {
        "id": "hKVH7VTkpbbU"
      },
      "source": [
        "labels.shape"
      ],
      "execution_count": null,
      "outputs": []
    },
    {
      "cell_type": "code",
      "metadata": {
        "id": "Oef6eRdPk3sO"
      },
      "source": [
        "#time steps is 20 for LSTM\n",
        "\n",
        "X_train = []\n",
        "y_train = []\n",
        "for i in range(20, 9184): #\n",
        "    X_train.append(training_set_scaled[i-20:i, 0])\n",
        "    #y_train.append(labels[i])\n",
        "X_train= np.array(X_train)\n",
        "\n",
        "X_train = np.reshape(X_train, (X_train.shape[0], X_train.shape[1], 1))"
      ],
      "execution_count": 200,
      "outputs": []
    },
    {
      "cell_type": "code",
      "metadata": {
        "colab": {
          "base_uri": "https://localhost:8080/"
        },
        "id": "dUc8r6FugXAX",
        "outputId": "16d226b1-e8c3-4a0d-db32-401d0f22414b"
      },
      "source": [
        "X_train.shape"
      ],
      "execution_count": 201,
      "outputs": [
        {
          "output_type": "execute_result",
          "data": {
            "text/plain": [
              "(9164, 20, 1)"
            ]
          },
          "metadata": {
            "tags": []
          },
          "execution_count": 201
        }
      ]
    },
    {
      "cell_type": "code",
      "metadata": {
        "id": "whZTShTVxB7H"
      },
      "source": [
        "input_ids = input_ids[20:]\n",
        "labels = labels[20:]\n",
        "attention_masks = attention_masks[20:]"
      ],
      "execution_count": 178,
      "outputs": []
    },
    {
      "cell_type": "code",
      "metadata": {
        "colab": {
          "base_uri": "https://localhost:8080/"
        },
        "id": "UzpN83aQmCoO",
        "outputId": "211d4b0f-d657-4d12-8e6a-8bb96a571e8c"
      },
      "source": [
        "input_ids.shape, labels.shape, attention_masks.shape, X_train.shape"
      ],
      "execution_count": 204,
      "outputs": [
        {
          "output_type": "execute_result",
          "data": {
            "text/plain": [
              "((9164, 512), (9164,), (9164, 512), (9164, 20, 1))"
            ]
          },
          "metadata": {
            "tags": []
          },
          "execution_count": 204
        }
      ]
    },
    {
      "cell_type": "code",
      "metadata": {
        "id": "moBuGX-amfo5"
      },
      "source": [
        "# Assigned nested Cross validation set\n",
        "\n",
        "train1_inp, val1_inp = input_ids[:6000], input_ids[6000:7000]\n",
        "train1_label,val1_label = labels[:6000], labels[6000:7000]\n",
        "train1_mask,val1_mask = attention_masks[:6000], attention_masks[6000:7000]\n",
        "train1_stock, val1_stock = X_train[:6000], X_train[6000:7000]\n",
        "\n",
        "train2_inp, val2_inp = input_ids[:7000], input_ids[7000:8000]\n",
        "train2_label,val2_label = labels[:7000], labels[7000:8000]\n",
        "train2_mask,val2_mask = attention_masks[:7000], attention_masks[7000:8000]\n",
        "train2_stock, val2_stock = X_train[:7000], X_train[7000:8000]\n",
        "\n",
        "train3_inp, val3_inp = input_ids[:8000], input_ids[8000:9000]\n",
        "train3_label,val3_label = labels[:8000], labels[8000:9000]\n",
        "train3_mask,val3_mask = attention_masks[:8000], attention_masks[8000:9000]\n",
        "train3_stock, val3_stock = X_train[:8000], X_train[8000:9000]"
      ],
      "execution_count": 202,
      "outputs": []
    },
    {
      "cell_type": "code",
      "metadata": {
        "colab": {
          "base_uri": "https://localhost:8080/"
        },
        "id": "Ee4BHei5o_IT",
        "outputId": "c5e4b878-986a-4795-c110-e699a180dc95"
      },
      "source": [
        "train1_stock.shape"
      ],
      "execution_count": 203,
      "outputs": [
        {
          "output_type": "execute_result",
          "data": {
            "text/plain": [
              "(6000, 20, 1)"
            ]
          },
          "metadata": {
            "tags": []
          },
          "execution_count": 203
        }
      ]
    },
    {
      "cell_type": "code",
      "metadata": {
        "id": "pACd24PxwhRS"
      },
      "source": [
        "from keras.models import Sequential\n",
        "from keras.layers import Dense\n",
        "from keras.layers import LSTM\n",
        "from keras.layers import Dropout"
      ],
      "execution_count": 182,
      "outputs": []
    },
    {
      "cell_type": "code",
      "metadata": {
        "colab": {
          "base_uri": "https://localhost:8080/"
        },
        "id": "PMV0E_U4wjQU",
        "outputId": "2ee43809-e8ab-45e8-e611-62b6b7c4da11"
      },
      "source": [
        "#construct LSTM layer\n",
        "\n",
        "import tensorflow as tf\n",
        "from tensorflow.keras import Sequential\n",
        "from tensorflow.keras.layers import Embedding, Flatten, Dense, LSTM, InputLayer\n",
        "from keras.models import Model\n",
        "from tensorflow.keras import layers\n",
        "\n",
        "\n",
        "#Concatenate Market data input and text data input\n",
        "stock_input = tf.keras.Input(shape=(X_train.shape[1],1),name = 'temp')\n",
        "concatenated = tf.keras.layers.concatenate([X,stock_input], axis=-1)\n",
        "\n",
        "#LSTM layer\n",
        "X2 = LSTM(50, return_sequences = True, dropout=0.2)(concatenated)\n",
        "X2 = LSTM(50, return_sequences = True,dropout=0.2)(X2)\n",
        "X2 = LSTM(50, return_sequences = True,dropout=0.2)(X2)\n",
        "X2 = LSTM(50, return_sequences = True,dropout=0.2)(X2)\n",
        "X2 = Dense(units = 1,activation = 'softmax')(X2)\n",
        "\n",
        "model2 = Model([input_ids_1, input_masks_ids_1,stock_input],X2)\n",
        "model2.summary()"
      ],
      "execution_count": 184,
      "outputs": [
        {
          "output_type": "stream",
          "text": [
            "Model: \"model_1\"\n",
            "__________________________________________________________________________________________________\n",
            "Layer (type)                    Output Shape         Param #     Connected to                     \n",
            "==================================================================================================\n",
            "Total params: 109,582,736\n",
            "Trainable params: 109,582,736\n",
            "Non-trainable params: 0\n",
            "__________________________________________________________________________________________________\n"
          ],
          "name": "stdout"
        }
      ]
    },
    {
      "cell_type": "code",
      "metadata": {
        "colab": {
          "base_uri": "https://localhost:8080/"
        },
        "id": "ltkGk9K96Vq4",
        "outputId": "954e7d2e-efb3-4fe9-ccf3-5fa2424bf959"
      },
      "source": [
        "# X2 = regressor\n",
        "# X2.summary()"
      ],
      "execution_count": null,
      "outputs": [
        {
          "output_type": "stream",
          "text": [
            "Model: \"sequential_7\"\n",
            "_________________________________________________________________\n",
            "Layer (type)                 Output Shape              Param #   \n",
            "=================================================================\n",
            "lstm_19 (LSTM)               (None, 20, 50)            10400     \n",
            "_________________________________________________________________\n",
            "module_wrapper_8 (ModuleWrap (None, 20, 50)            0         \n",
            "_________________________________________________________________\n",
            "lstm_20 (LSTM)               (None, 20, 50)            20200     \n",
            "_________________________________________________________________\n",
            "module_wrapper_9 (ModuleWrap (None, 20, 50)            0         \n",
            "_________________________________________________________________\n",
            "lstm_21 (LSTM)               (None, 20, 50)            20200     \n",
            "_________________________________________________________________\n",
            "module_wrapper_10 (ModuleWra (None, 20, 50)            0         \n",
            "_________________________________________________________________\n",
            "lstm_22 (LSTM)               (None, 50)                20200     \n",
            "_________________________________________________________________\n",
            "module_wrapper_11 (ModuleWra (None, 50)                0         \n",
            "_________________________________________________________________\n",
            "dense_4 (Dense)              (None, 1)                 51        \n",
            "=================================================================\n",
            "Total params: 71,051\n",
            "Trainable params: 71,051\n",
            "Non-trainable params: 0\n",
            "_________________________________________________________________\n"
          ],
          "name": "stdout"
        }
      ]
    },
    {
      "cell_type": "code",
      "metadata": {
        "id": "2q5ZsMWPuPUV"
      },
      "source": [
        "loss = tf.keras.losses.SparseCategoricalCrossentropy(from_logits=True)\n",
        "metric = tf.keras.metrics.SparseCategoricalAccuracy('accuracy')\n",
        "optimizer = tf.keras.optimizers.Adam(learning_rate=2e-5,epsilon=1e-08)\n",
        "\n",
        "model2.compile(loss=loss,optimizer=optimizer,metrics=[metric])"
      ],
      "execution_count": 187,
      "outputs": []
    },
    {
      "cell_type": "code",
      "metadata": {
        "colab": {
          "base_uri": "https://localhost:8080/"
        },
        "id": "dFDUfMRww6Zz",
        "outputId": "7cf11c80-3c55-41cf-c0af-5a48a67b6eb6"
      },
      "source": [
        "history=model2.fit([train1_inp,train1_mask,train1_stock],train1_label,batch_size=4,epochs=4,validation_data=([val1_inp,val1_mask,val1_stock],val1_label),callbacks=callbacks)"
      ],
      "execution_count": 205,
      "outputs": [
        {
          "output_type": "stream",
          "text": [
            "WARNING:tensorflow:Model failed to serialize as JSON. Ignoring... 'input_token_ib-0'\n",
            "Epoch 1/4\n",
            "WARNING:tensorflow:The parameters `output_attentions`, `output_hidden_states` and `use_cache` cannot be updated when calling a model.They have to be set to True/False in the config object (i.e.: `config=XConfig.from_pretrained('name', output_attentions=True)`).\n",
            "WARNING:tensorflow:The parameter `return_dict` cannot be set in graph mode and will always be set to `True`.\n",
            "WARNING:tensorflow:Gradients do not exist for variables ['tf_bert_model/bert/pooler/dense/kernel:0', 'tf_bert_model/bert/pooler/dense/bias:0'] when minimizing the loss.\n",
            "WARNING:tensorflow:The parameters `output_attentions`, `output_hidden_states` and `use_cache` cannot be updated when calling a model.They have to be set to True/False in the config object (i.e.: `config=XConfig.from_pretrained('name', output_attentions=True)`).\n",
            "WARNING:tensorflow:The parameter `return_dict` cannot be set in graph mode and will always be set to `True`.\n",
            "WARNING:tensorflow:Gradients do not exist for variables ['tf_bert_model/bert/pooler/dense/kernel:0', 'tf_bert_model/bert/pooler/dense/bias:0'] when minimizing the loss.\n",
            "1500/1500 [==============================] - ETA: 0s - loss: 2.9957 - accuracy: 0.3689WARNING:tensorflow:The parameters `output_attentions`, `output_hidden_states` and `use_cache` cannot be updated when calling a model.They have to be set to True/False in the config object (i.e.: `config=XConfig.from_pretrained('name', output_attentions=True)`).\n",
            "WARNING:tensorflow:The parameter `return_dict` cannot be set in graph mode and will always be set to `True`.\n",
            "1500/1500 [==============================] - 284s 173ms/step - loss: 2.9957 - accuracy: 0.3689 - val_loss: 2.9957 - val_accuracy: 0.3492\n",
            "Epoch 2/4\n",
            "1500/1500 [==============================] - 254s 170ms/step - loss: 2.9957 - accuracy: 0.3496 - val_loss: 2.9957 - val_accuracy: 0.3500\n",
            "Epoch 3/4\n",
            "1500/1500 [==============================] - 255s 170ms/step - loss: 2.9957 - accuracy: 0.3511 - val_loss: 2.9957 - val_accuracy: 0.3503\n",
            "Epoch 4/4\n",
            "1500/1500 [==============================] - 255s 170ms/step - loss: 2.9957 - accuracy: 0.3510 - val_loss: 2.9957 - val_accuracy: 0.3504\n"
          ],
          "name": "stdout"
        }
      ]
    },
    {
      "cell_type": "code",
      "metadata": {
        "id": "dHGlC8p0jokd"
      },
      "source": [
        "model_save_path='/content/drive/My Drive/project1/bert_model.h5'\n",
        "\n",
        "trained_model = model2\n",
        "trained_model.compile(loss=loss,optimizer=optimizer, metrics=[metric])\n",
        "trained_model.load_weights(model_save_path)"
      ],
      "execution_count": 206,
      "outputs": []
    },
    {
      "cell_type": "code",
      "metadata": {
        "id": "nY59M7VRmwvf",
        "colab": {
          "base_uri": "https://localhost:8080/"
        },
        "outputId": "8bf92798-51ea-4ed4-b526-0789ec383d7e"
      },
      "source": [
        "preds = model2.predict([val1_inp,val1_mask,val1_stock],batch_size=32)"
      ],
      "execution_count": 208,
      "outputs": [
        {
          "output_type": "stream",
          "text": [
            "WARNING:tensorflow:The parameters `output_attentions`, `output_hidden_states` and `use_cache` cannot be updated when calling a model.They have to be set to True/False in the config object (i.e.: `config=XConfig.from_pretrained('name', output_attentions=True)`).\n",
            "WARNING:tensorflow:The parameter `return_dict` cannot be set in graph mode and will always be set to `True`.\n"
          ],
          "name": "stdout"
        }
      ]
    },
    {
      "cell_type": "code",
      "metadata": {
        "id": "-MDAd-v717sA"
      },
      "source": [
        "preds"
      ],
      "execution_count": null,
      "outputs": []
    },
    {
      "cell_type": "code",
      "metadata": {
        "colab": {
          "base_uri": "https://localhost:8080/"
        },
        "id": "w1HcXS0Znwd3",
        "outputId": "74ab50b4-5987-4e8b-940e-9b654960cb72"
      },
      "source": [
        "preds[0].shape"
      ],
      "execution_count": 210,
      "outputs": [
        {
          "output_type": "execute_result",
          "data": {
            "text/plain": [
              "(20, 1)"
            ]
          },
          "metadata": {
            "tags": []
          },
          "execution_count": 210
        }
      ]
    },
    {
      "cell_type": "code",
      "metadata": {
        "colab": {
          "base_uri": "https://localhost:8080/"
        },
        "id": "NldDbs1fnDK7",
        "outputId": "3c6c4010-ca76-432a-ab01-d3b64dd7b992"
      },
      "source": [
        "pred_labels = preds.argmax(axis=1)\n",
        "pred_labels\n",
        "f1 = f1_score(val1_label,pred_labels,average = None)\n",
        "print('F1 score',f1)\n",
        "print('Classification Report')\n",
        "print(classification_report(val1_label,pred_labels))\n",
        "print('Training and saving built model.....')"
      ],
      "execution_count": 213,
      "outputs": [
        {
          "output_type": "stream",
          "text": [
            "F1 score [0.54227405 0.         0.        ]\n",
            "Classification Report\n",
            "              precision    recall  f1-score   support\n",
            "\n",
            "           0       0.37      1.00      0.54       372\n",
            "           1       0.00      0.00      0.00       162\n",
            "           2       0.00      0.00      0.00       466\n",
            "\n",
            "    accuracy                           0.37      1000\n",
            "   macro avg       0.12      0.33      0.18      1000\n",
            "weighted avg       0.14      0.37      0.20      1000\n",
            "\n",
            "Training and saving built model.....\n"
          ],
          "name": "stdout"
        },
        {
          "output_type": "stream",
          "text": [
            "/usr/local/lib/python3.7/dist-packages/sklearn/metrics/_classification.py:1272: UndefinedMetricWarning: Precision and F-score are ill-defined and being set to 0.0 in labels with no predicted samples. Use `zero_division` parameter to control this behavior.\n",
            "  _warn_prf(average, modifier, msg_start, len(result))\n"
          ],
          "name": "stderr"
        }
      ]
    },
    {
      "cell_type": "code",
      "metadata": {
        "id": "9yBO_ERY60Q9"
      },
      "source": [
        "pip freeze > requirements.txt"
      ],
      "execution_count": 3,
      "outputs": []
    }
  ]
}