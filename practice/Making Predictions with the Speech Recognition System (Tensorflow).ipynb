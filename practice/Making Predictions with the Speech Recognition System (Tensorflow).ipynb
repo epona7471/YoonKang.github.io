{
  "nbformat": 4,
  "nbformat_minor": 0,
  "metadata": {
    "colab": {
      "name": "Untitled98.ipynb",
      "provenance": []
    },
    "kernelspec": {
      "name": "python3",
      "display_name": "Python 3"
    },
    "language_info": {
      "name": "python"
    }
  },
  "cells": [
    {
      "cell_type": "code",
      "metadata": {
        "colab": {
          "base_uri": "https://localhost:8080/"
        },
        "id": "FEoiFi7N9uBc",
        "outputId": "5352302c-e571-43a1-8bcc-a5aab80a8ad4"
      },
      "source": [
        "from google.colab import drive\n",
        "drive.mount('/content/drive')"
      ],
      "execution_count": 2,
      "outputs": [
        {
          "output_type": "stream",
          "text": [
            "Mounted at /content/drive\n"
          ],
          "name": "stdout"
        }
      ]
    },
    {
      "cell_type": "code",
      "metadata": {
        "id": "Hte04jStz_SM"
      },
      "source": [
        "import tensorflow.keras as keras\n",
        "import numpy as np\n",
        "import librosa\n",
        "\n",
        "MODEL_PATH = '/content/drive/MyDrive/speech/model.h5'\n",
        "NUM_SAMPLES_TO_CONSIDER = 22050 # 1 sec\n",
        "\n",
        "class _Keyword_Spotting_Service:\n",
        "\n",
        "    model = None\n",
        "    _mappings = ['eight',\n",
        "        'sheila',\n",
        "        'nine',\n",
        "        'yes',\n",
        "        'one',\n",
        "        'no',\n",
        "        'left',\n",
        "        'tree',\n",
        "        'bed',\n",
        "        'bird',\n",
        "        'go',\n",
        "        'wow',\n",
        "        'seven',\n",
        "        'marvin',\n",
        "        'dog',\n",
        "        'three',\n",
        "        'two',\n",
        "        'house',\n",
        "        'down',\n",
        "        'six',\n",
        "        'five',\n",
        "        'off',\n",
        "        'right',\n",
        "        'cat',\n",
        "        'zero',\n",
        "        'four',\n",
        "        'stop',\n",
        "        'up',\n",
        "        'on',\n",
        "        'happy',\n",
        "        ]\n",
        "    _instance = None\n",
        "\n",
        "    def predict(self, file_path):\n",
        "\n",
        "        # extract MFCCs\n",
        "        MFCCs = self.preprocess(file_path) # (# segments,  # coefficients)\n",
        "\n",
        "        # convert 2d MFCCs array into 4d array -> (# samples, # segments,  # coefficients, # channels)\n",
        "        MFCCs = MFCCs[np.newaxis, ..., np.newaxis]\n",
        "\n",
        "        # make prediction\n",
        "        predictions = self.model.predict(MFCCs)\n",
        "        predicted_index = np.argmax(predictions)\n",
        "        predicted_keyword = self._mappings[predicted_index]\n",
        "\n",
        "        return predicted_keyword\n",
        "\n",
        "    def preprocess(self, file_path, n_mfcc=13, n_fft=2048, hop_length=512):\n",
        "        \n",
        "        # load audio file\n",
        "        signal, sr = librosa.load(file_path)\n",
        "\n",
        "        # ensure consistency in the audio file length\n",
        "        if len(signal) > NUM_SAMPLES_TO_CONSIDER:\n",
        "            signal = signal[:NUM_SAMPLES_TO_CONSIDER]\n",
        "\n",
        "        # extract MFCCs\n",
        "        MFCCs = librosa.feature.mfcc(signal, n_mfcc=n_mfcc, n_fft=n_fft, hop_length=hop_length)\n",
        "\n",
        "        return MFCCs.T\n",
        "\n",
        "def Keyword_Spotting_Service():\n",
        "\n",
        "    # ensure that we only have 1 instance of KSS\n",
        "    if _Keyword_Spotting_Service._instance is None:\n",
        "        _Keyword_Spotting_Service._instance = _Keyword_Spotting_Service()\n",
        "        _Keyword_Spotting_Service.model = keras.models.load_model(MODEL_PATH)\n",
        "    return _Keyword_Spotting_Service._instance"
      ],
      "execution_count": 1,
      "outputs": []
    },
    {
      "cell_type": "code",
      "metadata": {
        "colab": {
          "base_uri": "https://localhost:8080/"
        },
        "id": "DKCvqElB9b2P",
        "outputId": "294db132-2a62-47e5-f564-e6624535f3b8"
      },
      "source": [
        "kss = Keyword_Spotting_Service()\n",
        "keyword1 = kss.predict(\"/content/drive/MyDrive/speech/house/00b01445_nohash_2.wav\")\n",
        "print(f\"Predicted keywords: {keyword1}\")"
      ],
      "execution_count": 3,
      "outputs": [
        {
          "output_type": "stream",
          "text": [
            "Predicted keywords: house\n"
          ],
          "name": "stdout"
        }
      ]
    },
    {
      "cell_type": "code",
      "metadata": {
        "id": "-U2UrVzp9brQ"
      },
      "source": [
        " signal, sr = librosa.load(\"/content/drive/MyDrive/speech/house/00b01445_nohash_2.wav\")"
      ],
      "execution_count": 4,
      "outputs": []
    }
  ]
}